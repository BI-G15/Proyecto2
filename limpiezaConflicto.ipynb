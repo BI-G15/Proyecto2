{
 "cells": [
  {
   "cell_type": "code",
   "execution_count": 1,
   "id": "58465761-474b-45f2-9502-66c61e55aa3a",
   "metadata": {},
   "outputs": [],
   "source": [
    "seed = 161\n",
    "import pandas as pd\n",
    "import numpy as np\n",
    "import matplotlib.pyplot as plt\n",
    "import seaborn as sns\n",
    "import json\n",
    "\n",
    "# Composicion de pipelines\n",
    "from sklearn.compose import ColumnTransformer\n",
    "from sklearn.pipeline import Pipeline\n",
    "from sklearn.impute import SimpleImputer\n",
    "from sklearn.preprocessing import PolynomialFeatures\n",
    "from sklearn.preprocessing import MinMaxScaler\n",
    "from sklearn.preprocessing import StandardScaler\n",
    "\n",
    "# Regresion lineal\n",
    "from sklearn.linear_model import LinearRegression\n",
    "\n",
    "# Importar/ Exportar modelos\n",
    "from joblib import dump, load\n",
    "\n",
    "# Metricas\n",
    "from sklearn.metrics import mean_squared_error as mse\n",
    "\n",
    "# q-q plots\n",
    "import scipy.stats as stats\n",
    "\n",
    "import json"
   ]
  },
  {
   "cell_type": "code",
   "execution_count": 2,
   "id": "99bbc915-fbff-490c-8bb3-325d0fe4cdd9",
   "metadata": {},
   "outputs": [
    {
     "data": {
      "text/plain": [
       "(314119, 13)"
      ]
     },
     "execution_count": 2,
     "metadata": {},
     "output_type": "execute_result"
    }
   ],
   "source": [
    "df_conflicto = pd.read_excel(\"Conflicto Armado.xlsx\")\n",
    "df_conflicto.shape"
   ]
  },
  {
   "cell_type": "code",
   "execution_count": 3,
   "id": "e5a4f8a9-d330-45b2-b4d5-a8b9a69f725c",
   "metadata": {},
   "outputs": [
    {
     "data": {
      "text/html": [
       "<div>\n",
       "<style scoped>\n",
       "    .dataframe tbody tr th:only-of-type {\n",
       "        vertical-align: middle;\n",
       "    }\n",
       "\n",
       "    .dataframe tbody tr th {\n",
       "        vertical-align: top;\n",
       "    }\n",
       "\n",
       "    .dataframe thead th {\n",
       "        text-align: right;\n",
       "    }\n",
       "</style>\n",
       "<table border=\"1\" class=\"dataframe\">\n",
       "  <thead>\n",
       "    <tr style=\"text-align: right;\">\n",
       "      <th></th>\n",
       "      <th>Código Departamento</th>\n",
       "      <th>Departamento</th>\n",
       "      <th>Código Entidad</th>\n",
       "      <th>Entidad</th>\n",
       "      <th>Dimensión</th>\n",
       "      <th>Subcategoría</th>\n",
       "      <th>Indicador</th>\n",
       "      <th>Dato Numérico</th>\n",
       "      <th>Dato Cualitativo</th>\n",
       "      <th>Año</th>\n",
       "      <th>Mes</th>\n",
       "      <th>Fuente</th>\n",
       "      <th>Unidad de Medida</th>\n",
       "    </tr>\n",
       "  </thead>\n",
       "  <tbody>\n",
       "    <tr>\n",
       "      <th>171910</th>\n",
       "      <td>68.0</td>\n",
       "      <td>Santander</td>\n",
       "      <td>68207.0</td>\n",
       "      <td>Concepción</td>\n",
       "      <td>Conflicto armado y seguridad ciudadana</td>\n",
       "      <td>Homicidios por agresor y sexo de la víctima</td>\n",
       "      <td>Homicidio de hombres por:  Conocido</td>\n",
       "      <td>NaN</td>\n",
       "      <td>NaN</td>\n",
       "      <td>2014.0</td>\n",
       "      <td>12.0</td>\n",
       "      <td>Instituto Nacional de Medicina Legal y Ciencia...</td>\n",
       "      <td>Personas</td>\n",
       "    </tr>\n",
       "    <tr>\n",
       "      <th>196853</th>\n",
       "      <td>70.0</td>\n",
       "      <td>Sucre</td>\n",
       "      <td>70265.0</td>\n",
       "      <td>Guaranda</td>\n",
       "      <td>Conflicto armado y seguridad ciudadana</td>\n",
       "      <td>Homicidios por agresor y sexo de la víctima</td>\n",
       "      <td>Homicidio de hombres por:  Personal de custodi...</td>\n",
       "      <td>NaN</td>\n",
       "      <td>NaN</td>\n",
       "      <td>2015.0</td>\n",
       "      <td>12.0</td>\n",
       "      <td>Instituto Nacional de Medicina Legal y Ciencia...</td>\n",
       "      <td>Personas</td>\n",
       "    </tr>\n",
       "    <tr>\n",
       "      <th>1114</th>\n",
       "      <td>88.0</td>\n",
       "      <td>San Andrés y Providencia</td>\n",
       "      <td>88000.0</td>\n",
       "      <td>San Andrés y Providencia</td>\n",
       "      <td>Conflicto armado y seguridad ciudadana</td>\n",
       "      <td>Conflicto armado</td>\n",
       "      <td>Número acumulado de personas secuestradas</td>\n",
       "      <td>1,00</td>\n",
       "      <td>1984 - 2017</td>\n",
       "      <td>2017.0</td>\n",
       "      <td>12.0</td>\n",
       "      <td>Unidad para la Atención y Reparación Integral ...</td>\n",
       "      <td>Personas</td>\n",
       "    </tr>\n",
       "    <tr>\n",
       "      <th>63634</th>\n",
       "      <td>8.0</td>\n",
       "      <td>Atlántico</td>\n",
       "      <td>8770.0</td>\n",
       "      <td>Suan</td>\n",
       "      <td>Conflicto armado y seguridad ciudadana</td>\n",
       "      <td>Conflicto armado</td>\n",
       "      <td>Número de personas desplazadas</td>\n",
       "      <td>9,00</td>\n",
       "      <td>NaN</td>\n",
       "      <td>2003.0</td>\n",
       "      <td>12.0</td>\n",
       "      <td>Unidad para la Atención y Reparación Integral ...</td>\n",
       "      <td>Personas</td>\n",
       "    </tr>\n",
       "    <tr>\n",
       "      <th>228717</th>\n",
       "      <td>66.0</td>\n",
       "      <td>Risaralda</td>\n",
       "      <td>66687.0</td>\n",
       "      <td>Santuario</td>\n",
       "      <td>Conflicto armado y seguridad ciudadana</td>\n",
       "      <td>Homicidios por agresor y sexo de la víctima</td>\n",
       "      <td>Homicidio de mujeres por:  Familiar</td>\n",
       "      <td>0,00</td>\n",
       "      <td>NaN</td>\n",
       "      <td>2016.0</td>\n",
       "      <td>12.0</td>\n",
       "      <td>Instituto Nacional de Medicina Legal y Ciencia...</td>\n",
       "      <td>Personas</td>\n",
       "    </tr>\n",
       "  </tbody>\n",
       "</table>\n",
       "</div>"
      ],
      "text/plain": [
       "        Código Departamento              Departamento  Código Entidad  \\\n",
       "171910                 68.0                 Santander         68207.0   \n",
       "196853                 70.0                     Sucre         70265.0   \n",
       "1114                   88.0  San Andrés y Providencia         88000.0   \n",
       "63634                   8.0                 Atlántico          8770.0   \n",
       "228717                 66.0                 Risaralda         66687.0   \n",
       "\n",
       "                         Entidad                               Dimensión  \\\n",
       "171910                Concepción  Conflicto armado y seguridad ciudadana   \n",
       "196853                  Guaranda  Conflicto armado y seguridad ciudadana   \n",
       "1114    San Andrés y Providencia  Conflicto armado y seguridad ciudadana   \n",
       "63634                       Suan  Conflicto armado y seguridad ciudadana   \n",
       "228717                 Santuario  Conflicto armado y seguridad ciudadana   \n",
       "\n",
       "                                       Subcategoría  \\\n",
       "171910  Homicidios por agresor y sexo de la víctima   \n",
       "196853  Homicidios por agresor y sexo de la víctima   \n",
       "1114                               Conflicto armado   \n",
       "63634                              Conflicto armado   \n",
       "228717  Homicidios por agresor y sexo de la víctima   \n",
       "\n",
       "                                                Indicador Dato Numérico  \\\n",
       "171910                Homicidio de hombres por:  Conocido           NaN   \n",
       "196853  Homicidio de hombres por:  Personal de custodi...           NaN   \n",
       "1114            Número acumulado de personas secuestradas          1,00   \n",
       "63634                      Número de personas desplazadas          9,00   \n",
       "228717                Homicidio de mujeres por:  Familiar          0,00   \n",
       "\n",
       "       Dato Cualitativo     Año   Mes  \\\n",
       "171910              NaN  2014.0  12.0   \n",
       "196853              NaN  2015.0  12.0   \n",
       "1114        1984 - 2017  2017.0  12.0   \n",
       "63634               NaN  2003.0  12.0   \n",
       "228717              NaN  2016.0  12.0   \n",
       "\n",
       "                                                   Fuente Unidad de Medida  \n",
       "171910  Instituto Nacional de Medicina Legal y Ciencia...         Personas  \n",
       "196853  Instituto Nacional de Medicina Legal y Ciencia...         Personas  \n",
       "1114    Unidad para la Atención y Reparación Integral ...         Personas  \n",
       "63634   Unidad para la Atención y Reparación Integral ...         Personas  \n",
       "228717  Instituto Nacional de Medicina Legal y Ciencia...         Personas  "
      ]
     },
     "execution_count": 3,
     "metadata": {},
     "output_type": "execute_result"
    }
   ],
   "source": [
    "df_conflicto.sample(5)"
   ]
  },
  {
   "cell_type": "code",
   "execution_count": 4,
   "id": "9db34f43-56d8-4a0b-8ee1-441be9f8a16b",
   "metadata": {},
   "outputs": [
    {
     "data": {
      "text/plain": [
       "Código Departamento    float64\n",
       "Departamento            object\n",
       "Código Entidad         float64\n",
       "Entidad                 object\n",
       "Dimensión               object\n",
       "Subcategoría            object\n",
       "Indicador               object\n",
       "Dato Numérico           object\n",
       "Dato Cualitativo        object\n",
       "Año                    float64\n",
       "Mes                    float64\n",
       "Fuente                  object\n",
       "Unidad de Medida        object\n",
       "dtype: object"
      ]
     },
     "execution_count": 4,
     "metadata": {},
     "output_type": "execute_result"
    }
   ],
   "source": [
    "df_conflicto.dtypes"
   ]
  },
  {
   "cell_type": "code",
   "execution_count": 5,
   "id": "3989e3a1-73d7-45d3-9112-0a3a169a1ee9",
   "metadata": {},
   "outputs": [
    {
     "name": "stdout",
     "output_type": "stream",
     "text": [
      "<class 'pandas.core.frame.DataFrame'>\n",
      "RangeIndex: 314119 entries, 0 to 314118\n",
      "Data columns (total 13 columns):\n",
      " #   Column               Non-Null Count   Dtype  \n",
      "---  ------               --------------   -----  \n",
      " 0   Código Departamento  314118 non-null  float64\n",
      " 1   Departamento         314118 non-null  object \n",
      " 2   Código Entidad       314118 non-null  float64\n",
      " 3   Entidad              314118 non-null  object \n",
      " 4   Dimensión            314118 non-null  object \n",
      " 5   Subcategoría         314118 non-null  object \n",
      " 6   Indicador            314119 non-null  object \n",
      " 7   Dato Numérico        259158 non-null  object \n",
      " 8   Dato Cualitativo     4536 non-null    object \n",
      " 9   Año                  314118 non-null  float64\n",
      " 10  Mes                  314118 non-null  float64\n",
      " 11  Fuente               314119 non-null  object \n",
      " 12  Unidad de Medida     314118 non-null  object \n",
      "dtypes: float64(4), object(9)\n",
      "memory usage: 31.2+ MB\n"
     ]
    }
   ],
   "source": [
    "df_conflicto.info()\n",
    "#Dato numerico tiene cerca de 60k nulos\n",
    "#Dato cualitativo tiene muchos nulos, revisar y si no es rescatable, dropear"
   ]
  },
  {
   "cell_type": "code",
   "execution_count": 6,
   "id": "cf0895d6-b0cf-481c-8989-1f16b2373ef6",
   "metadata": {},
   "outputs": [
    {
     "data": {
      "text/html": [
       "<div>\n",
       "<style scoped>\n",
       "    .dataframe tbody tr th:only-of-type {\n",
       "        vertical-align: middle;\n",
       "    }\n",
       "\n",
       "    .dataframe tbody tr th {\n",
       "        vertical-align: top;\n",
       "    }\n",
       "\n",
       "    .dataframe thead th {\n",
       "        text-align: right;\n",
       "    }\n",
       "</style>\n",
       "<table border=\"1\" class=\"dataframe\">\n",
       "  <thead>\n",
       "    <tr style=\"text-align: right;\">\n",
       "      <th></th>\n",
       "      <th>Código Departamento</th>\n",
       "      <th>Código Entidad</th>\n",
       "      <th>Año</th>\n",
       "      <th>Mes</th>\n",
       "    </tr>\n",
       "  </thead>\n",
       "  <tbody>\n",
       "    <tr>\n",
       "      <th>count</th>\n",
       "      <td>314118.000000</td>\n",
       "      <td>314118.000000</td>\n",
       "      <td>314118.000000</td>\n",
       "      <td>314118.0</td>\n",
       "    </tr>\n",
       "    <tr>\n",
       "      <th>mean</th>\n",
       "      <td>37.666667</td>\n",
       "      <td>38084.496473</td>\n",
       "      <td>2009.537906</td>\n",
       "      <td>12.0</td>\n",
       "    </tr>\n",
       "    <tr>\n",
       "      <th>std</th>\n",
       "      <td>26.018316</td>\n",
       "      <td>25990.452996</td>\n",
       "      <td>8.537646</td>\n",
       "      <td>0.0</td>\n",
       "    </tr>\n",
       "    <tr>\n",
       "      <th>min</th>\n",
       "      <td>1.000000</td>\n",
       "      <td>1001.000000</td>\n",
       "      <td>1984.000000</td>\n",
       "      <td>12.0</td>\n",
       "    </tr>\n",
       "    <tr>\n",
       "      <th>25%</th>\n",
       "      <td>15.000000</td>\n",
       "      <td>15667.000000</td>\n",
       "      <td>2006.000000</td>\n",
       "      <td>12.0</td>\n",
       "    </tr>\n",
       "    <tr>\n",
       "      <th>50%</th>\n",
       "      <td>25.000000</td>\n",
       "      <td>25806.000000</td>\n",
       "      <td>2014.000000</td>\n",
       "      <td>12.0</td>\n",
       "    </tr>\n",
       "    <tr>\n",
       "      <th>75%</th>\n",
       "      <td>66.000000</td>\n",
       "      <td>66000.000000</td>\n",
       "      <td>2015.000000</td>\n",
       "      <td>12.0</td>\n",
       "    </tr>\n",
       "    <tr>\n",
       "      <th>max</th>\n",
       "      <td>99.000000</td>\n",
       "      <td>99773.000000</td>\n",
       "      <td>2018.000000</td>\n",
       "      <td>12.0</td>\n",
       "    </tr>\n",
       "  </tbody>\n",
       "</table>\n",
       "</div>"
      ],
      "text/plain": [
       "       Código Departamento  Código Entidad            Año       Mes\n",
       "count        314118.000000   314118.000000  314118.000000  314118.0\n",
       "mean             37.666667    38084.496473    2009.537906      12.0\n",
       "std              26.018316    25990.452996       8.537646       0.0\n",
       "min               1.000000     1001.000000    1984.000000      12.0\n",
       "25%              15.000000    15667.000000    2006.000000      12.0\n",
       "50%              25.000000    25806.000000    2014.000000      12.0\n",
       "75%              66.000000    66000.000000    2015.000000      12.0\n",
       "max              99.000000    99773.000000    2018.000000      12.0"
      ]
     },
     "execution_count": 6,
     "metadata": {},
     "output_type": "execute_result"
    }
   ],
   "source": [
    "df_conflicto.describe()"
   ]
  },
  {
   "cell_type": "code",
   "execution_count": 7,
   "id": "c04c8a02-2e1d-40c4-aaa9-a56a4eff3970",
   "metadata": {},
   "outputs": [
    {
     "data": {
      "text/plain": [
       "Antioquia                   34902\n",
       "Boyacá                      34348\n",
       "Cundinamarca                32409\n",
       "Santander                   24376\n",
       "Nariño                      18005\n",
       "Tolima                      13296\n",
       "Bolívar                     13019\n",
       "Valle del Cauca             11911\n",
       "Cauca                       11911\n",
       "Norte de Santander          11357\n",
       "Huila                       10526\n",
       "Córdoba                      8587\n",
       "Chocó                        8587\n",
       "Magdalena                    8587\n",
       "Meta                         8310\n",
       "Caldas                       7756\n",
       "Sucre                        7479\n",
       "Cesar                        7202\n",
       "Atlántico                    6648\n",
       "Casanare                     5540\n",
       "Caquetá                      4709\n",
       "La Guajira                   4432\n",
       "Risaralda                    4155\n",
       "Putumayo                     3878\n",
       "Quindío                      3601\n",
       "Arauca                       2216\n",
       "Guaviare                     1385\n",
       "Vichada                      1385\n",
       "Vaupés                       1108\n",
       "Amazonas                      831\n",
       "San Andrés y Providencia      554\n",
       "Guainía                       554\n",
       "Bogotá                        277\n",
       "Colombia                      277\n",
       "Name: Departamento, dtype: int64"
      ]
     },
     "execution_count": 7,
     "metadata": {},
     "output_type": "execute_result"
    }
   ],
   "source": [
    "pd.value_counts(df_conflicto['Departamento'])\n",
    "#Que hago con las de colombia"
   ]
  },
  {
   "cell_type": "code",
   "execution_count": 8,
   "id": "fd775658-c6aa-49bf-bd57-e700abbc693b",
   "metadata": {},
   "outputs": [
    {
     "data": {
      "text/plain": [
       "Buenavista    1108\n",
       "La Unión      1108\n",
       "Córdoba       1108\n",
       "Nariño        1108\n",
       "Bolívar       1108\n",
       "              ... \n",
       "Padilla        277\n",
       "Paéz           277\n",
       "Patía          277\n",
       "Piamonte       277\n",
       "Cumaribo       277\n",
       "Name: Entidad, Length: 1044, dtype: int64"
      ]
     },
     "execution_count": 8,
     "metadata": {},
     "output_type": "execute_result"
    }
   ],
   "source": [
    "pd.value_counts(df_conflicto['Entidad'])\n",
    "#nada relevante aqui"
   ]
  },
  {
   "cell_type": "code",
   "execution_count": 9,
   "id": "85dc5de3-05c5-40b9-a898-e63afdb020aa",
   "metadata": {},
   "outputs": [
    {
     "data": {
      "text/plain": [
       "Conflicto armado y seguridad ciudadana    314118\n",
       "Name: Dimensión, dtype: int64"
      ]
     },
     "execution_count": 9,
     "metadata": {},
     "output_type": "execute_result"
    }
   ],
   "source": [
    "pd.value_counts(df_conflicto['Dimensión'])"
   ]
  },
  {
   "cell_type": "code",
   "execution_count": 10,
   "id": "d39e383c-6380-42a2-8cf6-d17371923b17",
   "metadata": {},
   "outputs": [
    {
     "data": {
      "text/plain": [
       "Conflicto armado                                       113400\n",
       "Homicidios por agresor y sexo de la víctima             95256\n",
       "Seguridad Ciudadana                                     51030\n",
       "Presuntos delitos sexuales según sexo de la víctima     20412\n",
       "Violencia de pareja según sexo de la víctima            20412\n",
       "Percepción                                               7938\n",
       "Violencias de género                                     5670\n",
       "Name: Subcategoría, dtype: int64"
      ]
     },
     "execution_count": 10,
     "metadata": {},
     "output_type": "execute_result"
    }
   ],
   "source": [
    "pd.value_counts(df_conflicto['Subcategoría'])\n",
    "#Los importantes son homicidios por agresor y sexo de la victima\n",
    "#Presuntos delitos sexuales segun sexo de la victima\n",
    "#Violencia de pareja\n",
    "#Violencia de genero"
   ]
  },
  {
   "cell_type": "code",
   "execution_count": 11,
   "id": "27ed29b7-b974-4120-becb-af886d68725e",
   "metadata": {},
   "outputs": [
    {
     "data": {
      "text/plain": [
       "0,00      128216\n",
       "1,00       13347\n",
       "2,00        6313\n",
       "3,00        4128\n",
       "4,00        3119\n",
       "           ...  \n",
       "200,12         1\n",
       "407,55         1\n",
       "160,45         1\n",
       "61,43          1\n",
       "176,19         1\n",
       "Name: Dato Numérico, Length: 25029, dtype: int64"
      ]
     },
     "execution_count": 11,
     "metadata": {},
     "output_type": "execute_result"
    }
   ],
   "source": [
    "pd.value_counts(df_conflicto['Dato Numérico'])\n",
    "#Cada dato numerico debe estar asociado a la unidad de medida asi que no tiene sentido mirar si hay outliers pero se deben transformar en numericos"
   ]
  },
  {
   "cell_type": "code",
   "execution_count": 12,
   "id": "d23e48e6-467b-44ca-84c5-aad23e726fbd",
   "metadata": {},
   "outputs": [
    {
     "data": {
      "text/plain": [
       "0.00      128216\n",
       "1.00       13347\n",
       "2.00        6313\n",
       "3.00        4128\n",
       "4.00        3119\n",
       "           ...  \n",
       "200.12         1\n",
       "407.55         1\n",
       "160.45         1\n",
       "61.43          1\n",
       "176.19         1\n",
       "Name: Dato Numérico, Length: 25029, dtype: int64"
      ]
     },
     "execution_count": 12,
     "metadata": {},
     "output_type": "execute_result"
    }
   ],
   "source": [
    "#Se arreglan los datos numericos\n",
    "def arreglarNumerico(row):\n",
    "    row=str(row).replace('.','')\n",
    "    row = row.replace(',','.')\n",
    "    return float(row)\n",
    "\n",
    "df_conflicto['Dato Numérico'] = df_conflicto['Dato Numérico'].apply(arreglarNumerico)\n",
    "pd.value_counts(df_conflicto['Dato Numérico'])"
   ]
  },
  {
   "cell_type": "code",
   "execution_count": 13,
   "id": "9869c66a-bc7d-460f-98af-0180b657473e",
   "metadata": {},
   "outputs": [
    {
     "data": {
      "text/plain": [
       "1984 - 2017    3402\n",
       "1990-2017      1134\n",
       "Name: Dato Cualitativo, dtype: int64"
      ]
     },
     "execution_count": 13,
     "metadata": {},
     "output_type": "execute_result"
    }
   ],
   "source": [
    "pd.value_counts(df_conflicto['Dato Cualitativo'])\n",
    "#Que representan los datos cualitativos?\n",
    "#Se supone que es un intervalo de tiempo. Solo existen 2 intervalos y casi todos los\n",
    "#demas registros son nulos, la infromacion se considera perdida"
   ]
  },
  {
   "cell_type": "code",
   "execution_count": 14,
   "id": "1f7c0449-de46-4cbe-abd7-63ef9acc017f",
   "metadata": {},
   "outputs": [],
   "source": [
    "df_conflicto = df_conflicto.drop(['Dato Cualitativo'], axis=1)\n",
    "#En caso de no poder recuperar los nulos de dato cuantitativo, se pueden dropear"
   ]
  },
  {
   "cell_type": "code",
   "execution_count": 15,
   "id": "f12c0741-09eb-4a37-bbb7-4ee8fbc41d16",
   "metadata": {},
   "outputs": [
    {
     "data": {
      "text/plain": [
       "2016.0    61236\n",
       "2015.0    53298\n",
       "2014.0    53298\n",
       "2017.0    12474\n",
       "2008.0     6804\n",
       "2003.0     6804\n",
       "2004.0     6804\n",
       "2005.0     6804\n",
       "2006.0     6804\n",
       "2007.0     6804\n",
       "2010.0     6804\n",
       "2009.0     6804\n",
       "2011.0     6804\n",
       "2012.0     6804\n",
       "2013.0     6804\n",
       "2001.0     3402\n",
       "2002.0     3402\n",
       "2000.0     3402\n",
       "1992.0     3402\n",
       "1998.0     3402\n",
       "1997.0     3402\n",
       "1996.0     3402\n",
       "1995.0     3402\n",
       "1994.0     3402\n",
       "1993.0     3402\n",
       "1999.0     3402\n",
       "1991.0     3402\n",
       "1990.0     3402\n",
       "1987.0     2268\n",
       "1985.0     2268\n",
       "1986.0     2268\n",
       "1984.0     2268\n",
       "1988.0     2268\n",
       "1989.0     2268\n",
       "2018.0     1134\n",
       "Name: Año, dtype: int64"
      ]
     },
     "execution_count": 15,
     "metadata": {},
     "output_type": "execute_result"
    }
   ],
   "source": [
    "pd.value_counts(df_conflicto['Año'])\n",
    "#Los años tienen buen formato"
   ]
  },
  {
   "cell_type": "code",
   "execution_count": 16,
   "id": "18839903-d6f2-44df-bb07-f52afa41ad16",
   "metadata": {},
   "outputs": [
    {
     "data": {
      "text/plain": [
       "12.0    314118\n",
       "Name: Mes, dtype: int64"
      ]
     },
     "execution_count": 16,
     "metadata": {},
     "output_type": "execute_result"
    }
   ],
   "source": [
    "pd.value_counts(df_conflicto['Mes'])\n",
    "#Todos los registros son en el ultimo mes, tiene sentido"
   ]
  },
  {
   "cell_type": "code",
   "execution_count": 17,
   "id": "f3b91806-8e5c-4f08-a52e-adbfeef9edd4",
   "metadata": {},
   "outputs": [
    {
     "data": {
      "text/plain": [
       "Instituto Nacional de Medicina Legal y Ciencias Forenses - INMLCF                                                                                                                                                                                                                                                                                                                                                                                                                                                      136080\n",
       "Unidad para la Atención y Reparación Integral a las Víctimas                                                                                                                                                                                                                                                                                                                                                                                                                                                            80514\n",
       "DNP a partir de información del Ministerio de Defensa Nacional y DANE                                                                                                                                                                                                                                                                                                                                                                                                                                                   34020\n",
       "Dirección para la acción integral contra minas antipersona                                                                                                                                                                                                                                                                                                                                                                                                                                                              32886\n",
       "DNP a partir de información de la Fiscalía General de la Nación y DANE                                                                                                                                                                                                                                                                                                                                                                                                                                                  17010\n",
       "CIUDATOS                                                                                                                                                                                                                                                                                                                                                                                                                                                                                                                 7938\n",
       "Ministerio de Salud y Protección Social                                                                                                                                                                                                                                                                                                                                                                                                                                                                                  5670\n",
       "aaaaaaaaaaaaaaaaaaaaaaaaaaaaaaaaaaaaaaaaaaaaaaaaaaaaaaaaaaaaaaaaaaaaaaaaaaaaaaaaaaaaaaaaaaaaaaaaaaaaaaaaaaaaaaaaaaaaaaaaaaaaaaaaaaaaaaaaaaaaaaaaaaaaaaaaaaaaaaaaaaaaaaaaaaaaaaaaaaaaaaaaaaaaaaaaaaaaaaaaaaaaaaaaaaaaaaaaaaaaaaaaaaaaaaaaaaaaaaaaaaaaaaaaaaaaaaaaaaaaaaaaaaaaaaaaaaaaaaaaaaaaaaaaaaaaaaaaaaaaaaaaaaaaaaaaaaaaaaaaaaaaaaaaaaaaaaaaaaaaaaaaaaaaaaaaaaaaaaaaaaaaaaaaaaaaaaaaaaaaaaaaaaaaaaaaaaaaaaaaaaaaaaaaaaaaaaaaaaaaaaaaaaaaaaaaaaaaaaaaaaaaaaaaaaaaaaaaaaaaaaaaaaaaaaaaaaaaaaaaaaaaaaaaaaaaaaaaaaa         1\n",
       "Name: Fuente, dtype: int64"
      ]
     },
     "execution_count": 17,
     "metadata": {},
     "output_type": "execute_result"
    }
   ],
   "source": [
    "pd.value_counts(df_conflicto['Fuente'])"
   ]
  },
  {
   "cell_type": "code",
   "execution_count": 18,
   "id": "b88c8000-3140-4d74-9ce8-fa54a93535fc",
   "metadata": {},
   "outputs": [
    {
     "data": {
      "text/plain": [
       "Personas                                                      222264\n",
       "Casos por cada 100.000 habitantes                              57834\n",
       "Porcentaje (el valor está multiplicado por 100)                 7938\n",
       "Casos por cada 100.000 habitantes hombres                       6804\n",
       "Casos por cada 100.000 habitantes mujeres                       6804\n",
       "Casos de violencia hacia mujeres  por cada 100.000 mujeres      5670\n",
       "Casos por cada 100.000 hombres                                  3402\n",
       "Casos por cada 100.000 mujeres                                  3402\n",
       "Name: Unidad de Medida, dtype: int64"
      ]
     },
     "execution_count": 18,
     "metadata": {},
     "output_type": "execute_result"
    }
   ],
   "source": [
    "pd.value_counts(df_conflicto['Unidad de Medida'])"
   ]
  },
  {
   "cell_type": "code",
   "execution_count": 19,
   "id": "a7961141-3416-4bd9-97de-1b3b5092365a",
   "metadata": {},
   "outputs": [],
   "source": [
    "df_conflicto=df_conflicto.dropna()"
   ]
  },
  {
   "cell_type": "code",
   "execution_count": 20,
   "id": "f8ee9ddb-4dec-4b3a-9def-8e10276d0798",
   "metadata": {},
   "outputs": [
    {
     "data": {
      "text/html": [
       "<div>\n",
       "<style scoped>\n",
       "    .dataframe tbody tr th:only-of-type {\n",
       "        vertical-align: middle;\n",
       "    }\n",
       "\n",
       "    .dataframe tbody tr th {\n",
       "        vertical-align: top;\n",
       "    }\n",
       "\n",
       "    .dataframe thead th {\n",
       "        text-align: right;\n",
       "    }\n",
       "</style>\n",
       "<table border=\"1\" class=\"dataframe\">\n",
       "  <thead>\n",
       "    <tr style=\"text-align: right;\">\n",
       "      <th></th>\n",
       "      <th>REGION</th>\n",
       "      <th>CÓDIGO DANE DEL DEPARTAMENTO</th>\n",
       "      <th>DEPARTAMENTO</th>\n",
       "      <th>CÓDIGO DANE DEL MUNICIPIO</th>\n",
       "      <th>MUNICIPIO</th>\n",
       "    </tr>\n",
       "  </thead>\n",
       "  <tbody>\n",
       "    <tr>\n",
       "      <th>0</th>\n",
       "      <td>Región Eje Cafetero - Antioquia</td>\n",
       "      <td>5</td>\n",
       "      <td>Antioquia</td>\n",
       "      <td>5.001</td>\n",
       "      <td>Medellín</td>\n",
       "    </tr>\n",
       "    <tr>\n",
       "      <th>1</th>\n",
       "      <td>Región Eje Cafetero - Antioquia</td>\n",
       "      <td>5</td>\n",
       "      <td>Antioquia</td>\n",
       "      <td>5.002</td>\n",
       "      <td>Abejorral</td>\n",
       "    </tr>\n",
       "    <tr>\n",
       "      <th>2</th>\n",
       "      <td>Región Eje Cafetero - Antioquia</td>\n",
       "      <td>5</td>\n",
       "      <td>Antioquia</td>\n",
       "      <td>5.004</td>\n",
       "      <td>Abriaquí</td>\n",
       "    </tr>\n",
       "    <tr>\n",
       "      <th>3</th>\n",
       "      <td>Región Eje Cafetero - Antioquia</td>\n",
       "      <td>5</td>\n",
       "      <td>Antioquia</td>\n",
       "      <td>5.021</td>\n",
       "      <td>Alejandría</td>\n",
       "    </tr>\n",
       "    <tr>\n",
       "      <th>4</th>\n",
       "      <td>Región Eje Cafetero - Antioquia</td>\n",
       "      <td>5</td>\n",
       "      <td>Antioquia</td>\n",
       "      <td>5.030</td>\n",
       "      <td>Amagá</td>\n",
       "    </tr>\n",
       "    <tr>\n",
       "      <th>...</th>\n",
       "      <td>...</td>\n",
       "      <td>...</td>\n",
       "      <td>...</td>\n",
       "      <td>...</td>\n",
       "      <td>...</td>\n",
       "    </tr>\n",
       "    <tr>\n",
       "      <th>1118</th>\n",
       "      <td>Región Eje Cafetero - Antioquia</td>\n",
       "      <td>17</td>\n",
       "      <td>Caldas</td>\n",
       "      <td>17.444</td>\n",
       "      <td>Marquetalia</td>\n",
       "    </tr>\n",
       "    <tr>\n",
       "      <th>1119</th>\n",
       "      <td>Región Pacífico</td>\n",
       "      <td>52</td>\n",
       "      <td>Nariño</td>\n",
       "      <td>52.051</td>\n",
       "      <td>Arboleda</td>\n",
       "    </tr>\n",
       "    <tr>\n",
       "      <th>1120</th>\n",
       "      <td>Región Pacífico</td>\n",
       "      <td>76</td>\n",
       "      <td>Valle del Cauca</td>\n",
       "      <td>76.109</td>\n",
       "      <td>Buenaventura</td>\n",
       "    </tr>\n",
       "    <tr>\n",
       "      <th>1121</th>\n",
       "      <td>Región Caribe</td>\n",
       "      <td>47</td>\n",
       "      <td>Magdalena</td>\n",
       "      <td>47.189</td>\n",
       "      <td>Ciénaga</td>\n",
       "    </tr>\n",
       "    <tr>\n",
       "      <th>1122</th>\n",
       "      <td>Región Caribe</td>\n",
       "      <td>8</td>\n",
       "      <td>Atlántico</td>\n",
       "      <td>8.560</td>\n",
       "      <td>Ponedera</td>\n",
       "    </tr>\n",
       "  </tbody>\n",
       "</table>\n",
       "<p>1123 rows × 5 columns</p>\n",
       "</div>"
      ],
      "text/plain": [
       "                               REGION  CÓDIGO DANE DEL DEPARTAMENTO  \\\n",
       "0     Región Eje Cafetero - Antioquia                             5   \n",
       "1     Región Eje Cafetero - Antioquia                             5   \n",
       "2     Región Eje Cafetero - Antioquia                             5   \n",
       "3     Región Eje Cafetero - Antioquia                             5   \n",
       "4     Región Eje Cafetero - Antioquia                             5   \n",
       "...                               ...                           ...   \n",
       "1118  Región Eje Cafetero - Antioquia                            17   \n",
       "1119                  Región Pacífico                            52   \n",
       "1120                  Región Pacífico                            76   \n",
       "1121                    Región Caribe                            47   \n",
       "1122                    Región Caribe                             8   \n",
       "\n",
       "         DEPARTAMENTO  CÓDIGO DANE DEL MUNICIPIO     MUNICIPIO  \n",
       "0           Antioquia                      5.001      Medellín  \n",
       "1           Antioquia                      5.002     Abejorral  \n",
       "2           Antioquia                      5.004      Abriaquí  \n",
       "3           Antioquia                      5.021    Alejandría  \n",
       "4           Antioquia                      5.030         Amagá  \n",
       "...               ...                        ...           ...  \n",
       "1118           Caldas                     17.444   Marquetalia  \n",
       "1119           Nariño                     52.051      Arboleda  \n",
       "1120  Valle del Cauca                     76.109  Buenaventura  \n",
       "1121        Magdalena                     47.189       Ciénaga  \n",
       "1122        Atlántico                      8.560      Ponedera  \n",
       "\n",
       "[1123 rows x 5 columns]"
      ]
     },
     "execution_count": 20,
     "metadata": {},
     "output_type": "execute_result"
    }
   ],
   "source": [
    "df_depymun = pd.read_csv(\"Departamentos_y_municipios_de_Colombia.csv\")\n",
    "df_depymun"
   ]
  },
  {
   "cell_type": "code",
   "execution_count": 21,
   "id": "e037539f-b13a-4a9c-86cd-affe24b9ea1a",
   "metadata": {},
   "outputs": [
    {
     "data": {
      "text/plain": [
       "Número de personas secuestradas                                                                                     38556\n",
       "Número de personas desplazadas                                                                                      38556\n",
       "Número de personas víctimas de minas antipersona                                                                    31752\n",
       "Tasa de homicidios (x cada 100.000 habitantes)                                                                      16993\n",
       "Tasa de violencia intrafamiliar (x cada 100.000 habitantes)                                                         16949\n",
       "Tasa de hurtos (x cada 100.000 habitantes)                                                                          14036\n",
       "Tasa de violencias basadas en género                                                                                 5670\n",
       "Tasa de presuntos delitos sexuales hacia mujeres (x cada 100.000 mujeres)                                            2797\n",
       "Presuntos delitos sexuales - Total de casos                                                                          2797\n",
       "Presuntos delitos sexuales - Hombres                                                                                 2797\n",
       "Tasa de presuntos delitos sexuales (x cada 100.000 habitantes)                                                       2797\n",
       "Tasa de presuntos delitos sexuales hacia hombres (x cada 100.000 hombres)                                            2797\n",
       "Presuntos delitos sexuales - Mujeres                                                                                 2754\n",
       "Violencia de pareja -  Total de casos                                                                                2545\n",
       "Violencia de pareja - Víctima hombre                                                                                 2545\n",
       "Tasa de violencia de pareja (x cada 100.000 habitantes)                                                              2545\n",
       "Tasa de violencia de pareja hacia hombres (x cada 100.000 hombres)                                                   2545\n",
       "Tasa de violencia de pareja hacia mujeres (x cada 100.000 mujeres)                                                   2545\n",
       "Homicidio de mujeres por:  Delincuencia común                                                                        2282\n",
       "Tasa de homicidios de mujeres (x cada 100.000 mujeres)                                                               2282\n",
       "Tasa de homicidios de hombres (x cada 100.000 hombres)                                                               2282\n",
       "Homicidio de mujeres por:  Delincuencia organizada                                                                   2282\n",
       "Homicidio de mujeres:  Total                                                                                         2282\n",
       "Homicidio de mujeres por:  Sin información                                                                           2282\n",
       "Homicidio de mujeres por:  Pareja o ex pareja                                                                        2282\n",
       "Homicidio de mujeres por:  Grupos alzados al margen de la ley                                                        2282\n",
       "Homicidio de mujeres por:  Familiar                                                                                  2282\n",
       "Homicidio de mujeres por:  Fuerzas armadas y de policía                                                              2282\n",
       "Homicidio de mujeres por:  Conocido                                                                                  2282\n",
       "Homicidio de hombres por:  Pareja o ex pareja                                                                        2282\n",
       "Homicidio de hombres por:  Agresor desconocido                                                                       2282\n",
       "Homicidio de hombres por:  Amigo                                                                                     2282\n",
       "Homicidio de mujeres por:  Amigo                                                                                     2282\n",
       "Homicidio de hombres por:  Delincuencia común                                                                        2282\n",
       "Homicidio de hombres por:  Familiar                                                                                  2282\n",
       "Homicidio de hombres por:  Fuerzas armadas y de policía                                                              2282\n",
       "Homicidio de hombres por:  Grupos alzados al margen de la ley                                                        2282\n",
       "Homicidio de hombres por:  Conocido                                                                                  2282\n",
       "Homicidio de hombres por:  Seguridad privada                                                                         2282\n",
       "Homicidio de hombres por:  Sin información                                                                           2282\n",
       "Homicidio de hombres:  Total                                                                                         2282\n",
       "Homicidio de hombres por:  Delincuencia organizada                                                                   2282\n",
       "Homicidio de mujeres por:  Agresor desconocido                                                                       2282\n",
       "Violencia de pareja - Víctima mujer                                                                                  1669\n",
       "Homicidio de hombres por:  Otros                                                                                     1508\n",
       "Homicidio de mujeres por:  Otros                                                                                     1508\n",
       "Número acumulado de personas desplazadas expulsadas                                                                  1134\n",
       "Número acumulado de personas desplazadas recibidas                                                                   1134\n",
       "Número acumulado de personas víctimas de minas antipersona                                                           1134\n",
       "Número acumulado de personas secuestradas                                                                            1134\n",
       "Homicidio de hombres por:  Personal de custodia en centros de internamiento especializado de menores infractores      764\n",
       "Percepción de la seguridad - Algo inseguro                                                                             21\n",
       "Percepción de la seguridad - Algo seguro                                                                               21\n",
       "Percepción de la seguridad - Muy seguro                                                                                21\n",
       "Percepción de la seguridad - Nada seguro                                                                               21\n",
       "Percepción de la seguridad - Ni seguro ni inseguro                                                                     21\n",
       "Percepción de la seguridad - Poco seguro                                                                               21\n",
       "Percepción de la seguridad - Seguro                                                                                    21\n",
       "Name: Indicador, dtype: int64"
      ]
     },
     "execution_count": 21,
     "metadata": {},
     "output_type": "execute_result"
    }
   ],
   "source": [
    "pd.value_counts(df_conflicto['Indicador'])"
   ]
  },
  {
   "cell_type": "code",
   "execution_count": 22,
   "id": "34c34b70-950f-47ef-be30-d5edeb24638f",
   "metadata": {},
   "outputs": [],
   "source": [
    "municipios = {} \n",
    "\n",
    "for i, row in df_depymun.iterrows():\n",
    "    municipio = row['MUNICIPIO'].lower().replace(\"í\",\"i\").replace(\"á\",\"a\").replace(\"é\",\"e\").replace(\"ó\",\"o\").replace(\"ú\",\"u\")\n",
    "    departamento = row['DEPARTAMENTO'].lower().replace(\"í\",\"i\").replace(\"á\",\"a\").replace(\"é\",\"e\").replace(\"ó\",\"o\").replace(\"ú\",\"u\")\n",
    "    municipios[municipio] = departamento"
   ]
  },
  {
   "cell_type": "code",
   "execution_count": 23,
   "id": "1f8f1c11-b3e6-403c-b7af-a6c4e2c3fd96",
   "metadata": {},
   "outputs": [],
   "source": [
    "columns=['id','municipio', 'departamento'] #Este va a tener [id, municipio, departamento, columnasMineria, columnasSalud, columnasConflicto]\n",
    "columns_pos = {'id':0,'municipio':1, 'departamento':2}\n",
    "\n",
    "count = 3\n",
    "\n",
    "columns.append('Violencia hacia la mujer')\n",
    "columns_pos['Violencia hacia la mujer'] = count\n",
    "count +=1 \n",
    "\n",
    "dfinal_mineria = pd.DataFrame(columns=columns)"
   ]
  },
  {
   "cell_type": "code",
   "execution_count": 25,
   "id": "a12fc92c-dd17-44b2-92f8-e08eedc10bdf",
   "metadata": {},
   "outputs": [
    {
     "name": "stdout",
     "output_type": "stream",
     "text": [
      "['id', 'municipio', 'departamento', 'Violencia hacia la mujer']\n",
      "{'colombia-colombia': ['colombia-colombia', 'colombia', 'colombia', 87789.0, 0], 'antioquia-antioquia': ['antioquia-antioquia', 'antioquia', 'antioquia', 8797.0, 0], 'medellín-antioquia': ['medellín-antioquia', 'medellín', 'antioquia', 5458.0, 0], 'abejorral-antioquia': ['abejorral-antioquia', 'abejorral', 'antioquia', 16.0, 0], 'abriaquí-antioquia': ['abriaquí-antioquia', 'abriaquí', 'antioquia', 0.0, 0], 'alejandría-antioquia': ['alejandría-antioquia', 'alejandría', 'antioquia', 0.0, 0], 'amagá-antioquia': ['amagá-antioquia', 'amagá', 'antioquia', 4.0, 0], 'amalfi-antioquia': ['amalfi-antioquia', 'amalfi', 'antioquia', 29.0, 0], 'andes-antioquia': ['andes-antioquia', 'andes', 'antioquia', 89.0, 0], 'angelópolis-antioquia': ['angelópolis-antioquia', 'angelópolis', 'antioquia', 5.0, 0], 'angostura-antioquia': ['angostura-antioquia', 'angostura', 'antioquia', 9.0, 0], 'anorí-antioquia': ['anorí-antioquia', 'anorí', 'antioquia', 13.0, 0], 'santafé de antioquia-antioquia': ['santafé de antioquia-antioquia', 'santafé de antioquia', 'antioquia', 23.0, 0], 'anzá-antioquia': ['anzá-antioquia', 'anzá', 'antioquia', 2.0, 0], 'apartadó-antioquia': ['apartadó-antioquia', 'apartadó', 'antioquia', 57.0, 0], 'arboletes-antioquia': ['arboletes-antioquia', 'arboletes', 'antioquia', 1.0, 0], 'argelia-antioquia': ['argelia-antioquia', 'argelia', 'antioquia', 0.0, 0], 'armenia-antioquia': ['armenia-antioquia', 'armenia', 'antioquia', 2.0, 0], 'barbosa-antioquia': ['barbosa-antioquia', 'barbosa', 'antioquia', 50.0, 0], 'belmira-antioquia': ['belmira-antioquia', 'belmira', 'antioquia', 0.0, 0], 'bello-antioquia': ['bello-antioquia', 'bello', 'antioquia', 629.0, 0], 'betania-antioquia': ['betania-antioquia', 'betania', 'antioquia', 4.0, 0], 'betulia-antioquia': ['betulia-antioquia', 'betulia', 'antioquia', 1.0, 0], 'ciudad bolívar-antioquia': ['ciudad bolívar-antioquia', 'ciudad bolívar', 'antioquia', 6.0, 0], 'briceño-antioquia': ['briceño-antioquia', 'briceño', 'antioquia', 2.0, 0], 'buriticá-antioquia': ['buriticá-antioquia', 'buriticá', 'antioquia', 2.0, 0], 'cáceres-antioquia': ['cáceres-antioquia', 'cáceres', 'antioquia', 8.0, 0], 'caicedo-antioquia': ['caicedo-antioquia', 'caicedo', 'antioquia', 4.0, 0], 'caldas-antioquia': ['caldas-antioquia', 'caldas', 'antioquia', 100.0, 0], 'campamento-antioquia': ['campamento-antioquia', 'campamento', 'antioquia', 5.0, 0], 'cañasgordas-antioquia': ['cañasgordas-antioquia', 'cañasgordas', 'antioquia', 1.0, 0], 'caracolí-antioquia': ['caracolí-antioquia', 'caracolí', 'antioquia', 0, 0], 'caramanta-antioquia': ['caramanta-antioquia', 'caramanta', 'antioquia', 1.0, 0], 'carepa-antioquia': ['carepa-antioquia', 'carepa', 'antioquia', 7.0, 0], 'el carmen de viboral-antioquia': ['el carmen de viboral-antioquia', 'el carmen de viboral', 'antioquia', 10.0, 0], 'carolina-antioquia': ['carolina-antioquia', 'carolina', 'antioquia', 0.0, 0], 'caucasia-antioquia': ['caucasia-antioquia', 'caucasia', 'antioquia', 32.0, 0], 'chigorodó-antioquia': ['chigorodó-antioquia', 'chigorodó', 'antioquia', 62.0, 0], 'cisneros-antioquia': ['cisneros-antioquia', 'cisneros', 'antioquia', 13.0, 0], 'cocorná-antioquia': ['cocorná-antioquia', 'cocorná', 'antioquia', 1.0, 0], 'concepción-antioquia': ['concepción-antioquia', 'concepción', 'antioquia', 1.0, 0], 'concordia-antioquia': ['concordia-antioquia', 'concordia', 'antioquia', 15.0, 0], 'copacabana-antioquia': ['copacabana-antioquia', 'copacabana', 'antioquia', 85.0, 0], 'dabeiba-antioquia': ['dabeiba-antioquia', 'dabeiba', 'antioquia', 1.0, 0], 'don matías-antioquia': ['don matías-antioquia', 'don matías', 'antioquia', 17.0, 0], 'ebéjico-antioquia': ['ebéjico-antioquia', 'ebéjico', 'antioquia', 7.0, 0], 'el bagre-antioquia': ['el bagre-antioquia', 'el bagre', 'antioquia', 9.0, 0], 'entrerrios-antioquia': ['entrerrios-antioquia', 'entrerrios', 'antioquia', 3.0, 0], 'envigado-antioquia': ['envigado-antioquia', 'envigado', 'antioquia', 190.0, 0], 'fredonia-antioquia': ['fredonia-antioquia', 'fredonia', 'antioquia', 15.0, 0], 'frontino-antioquia': ['frontino-antioquia', 'frontino', 'antioquia', 0.0, 0], 'giraldo-antioquia': ['giraldo-antioquia', 'giraldo', 'antioquia', 6.0, 0], 'girardota-antioquia': ['girardota-antioquia', 'girardota', 'antioquia', 30.0, 0], 'gómez plata-antioquia': ['gómez plata-antioquia', 'gómez plata', 'antioquia', 9.0, 0], 'granada-antioquia': ['granada-antioquia', 'granada', 'antioquia', 1.0, 0], 'guadalupe-antioquia': ['guadalupe-antioquia', 'guadalupe', 'antioquia', 0.0, 0], 'guarne-antioquia': ['guarne-antioquia', 'guarne', 'antioquia', 60.0, 0], 'guatapé-antioquia': ['guatapé-antioquia', 'guatapé', 'antioquia', 4.0, 0], 'heliconia-antioquia': ['heliconia-antioquia', 'heliconia', 'antioquia', 3.0, 0], 'hispania-antioquia': ['hispania-antioquia', 'hispania', 'antioquia', 1.0, 0], 'itagüí-antioquia': ['itagüí-antioquia', 'itagüí', 'antioquia', 501.0, 0], 'ituango-antioquia': ['ituango-antioquia', 'ituango', 'antioquia', 22.0, 0], 'jardín-antioquia': ['jardín-antioquia', 'jardín', 'antioquia', 4.0, 0], 'jericó-antioquia': ['jericó-antioquia', 'jericó', 'antioquia', 6.0, 0], 'la ceja-antioquia': ['la ceja-antioquia', 'la ceja', 'antioquia', 141.0, 0], 'la estrella-antioquia': ['la estrella-antioquia', 'la estrella', 'antioquia', 87.0, 0], 'la pintada-antioquia': ['la pintada-antioquia', 'la pintada', 'antioquia', 6.0, 0], 'la unión-antioquia': ['la unión-antioquia', 'la unión', 'antioquia', 3.0, 0], 'liborina-antioquia': ['liborina-antioquia', 'liborina', 'antioquia', 0.0, 0], 'maceo-antioquia': ['maceo-antioquia', 'maceo', 'antioquia', 1.0, 0], 'marinilla-antioquia': ['marinilla-antioquia', 'marinilla', 'antioquia', 7.0, 0], 'montebello-antioquia': ['montebello-antioquia', 'montebello', 'antioquia', 0.0, 0], 'murindó-antioquia': ['murindó-antioquia', 'murindó', 'antioquia', 1.0, 0], 'mutatá-antioquia': ['mutatá-antioquia', 'mutatá', 'antioquia', 10.0, 0], 'nariño-antioquia': ['nariño-antioquia', 'nariño', 'antioquia', 1.0, 0], 'necoclí-antioquia': ['necoclí-antioquia', 'necoclí', 'antioquia', 4.0, 0], 'nechí-antioquia': ['nechí-antioquia', 'nechí', 'antioquia', 0.0, 0], 'olaya-antioquia': ['olaya-antioquia', 'olaya', 'antioquia', 0.0, 0], 'peñol-antioquia': ['peñol-antioquia', 'peñol', 'antioquia', 6.0, 0], 'peque-antioquia': ['peque-antioquia', 'peque', 'antioquia', 1.0, 0], 'pueblorrico-antioquia': ['pueblorrico-antioquia', 'pueblorrico', 'antioquia', 0.0, 0], 'puerto berrío-antioquia': ['puerto berrío-antioquia', 'puerto berrío', 'antioquia', 107.0, 0], 'puerto nare-antioquia': ['puerto nare-antioquia', 'puerto nare', 'antioquia', 3.0, 0], 'puerto triunfo-antioquia': ['puerto triunfo-antioquia', 'puerto triunfo', 'antioquia', 5.0, 0], 'remedios-antioquia': ['remedios-antioquia', 'remedios', 'antioquia', 5.0, 0], 'retiro-antioquia': ['retiro-antioquia', 'retiro', 'antioquia', 8.0, 0], 'rionegro-antioquia': ['rionegro-antioquia', 'rionegro', 'antioquia', 182.0, 0], 'sabanalarga-antioquia': ['sabanalarga-antioquia', 'sabanalarga', 'antioquia', 2.0, 0], 'sabaneta-antioquia': ['sabaneta-antioquia', 'sabaneta', 'antioquia', 41.0, 0], 'salgar-antioquia': ['salgar-antioquia', 'salgar', 'antioquia', 15.0, 0], 'san andrés de cuerquía-antioquia': ['san andrés de cuerquía-antioquia', 'san andrés de cuerquía', 'antioquia', 3.0, 0], 'san carlos-antioquia': ['san carlos-antioquia', 'san carlos', 'antioquia', 11.0, 0], 'san francisco-antioquia': ['san francisco-antioquia', 'san francisco', 'antioquia', 0.0, 0], 'san jerónimo-antioquia': ['san jerónimo-antioquia', 'san jerónimo', 'antioquia', 6.0, 0], 'san josé de la montaña-antioquia': ['san josé de la montaña-antioquia', 'san josé de la montaña', 'antioquia', 0, 0], 'san juan de urabá-antioquia': ['san juan de urabá-antioquia', 'san juan de urabá', 'antioquia', 1.0, 0], 'san luis-antioquia': ['san luis-antioquia', 'san luis', 'antioquia', 9.0, 0], 'san pedro de los milagros-antioquia': ['san pedro de los milagros-antioquia', 'san pedro de los milagros', 'antioquia', 6.0, 0], 'san pedro de urabá-antioquia': ['san pedro de urabá-antioquia', 'san pedro de urabá', 'antioquia', 1.0, 0], 'san rafael-antioquia': ['san rafael-antioquia', 'san rafael', 'antioquia', 10.0, 0], 'san roque-antioquia': ['san roque-antioquia', 'san roque', 'antioquia', 9.0, 0], 'san vicente-antioquia': ['san vicente-antioquia', 'san vicente', 'antioquia', 6.0, 0], 'santa bárbara-antioquia': ['santa bárbara-antioquia', 'santa bárbara', 'antioquia', 6.0, 0], 'santa rosa de osos-antioquia': ['santa rosa de osos-antioquia', 'santa rosa de osos', 'antioquia', 25.0, 0], 'santo domingo-antioquia': ['santo domingo-antioquia', 'santo domingo', 'antioquia', 3.0, 0], 'el santuario-antioquia': ['el santuario-antioquia', 'el santuario', 'antioquia', 7.0, 0], 'segovia-antioquia': ['segovia-antioquia', 'segovia', 'antioquia', 15.0, 0], 'sonsón-antioquia': ['sonsón-antioquia', 'sonsón', 'antioquia', 21.0, 0], 'sopetrán-antioquia': ['sopetrán-antioquia', 'sopetrán', 'antioquia', 5.0, 0], 'támesis-antioquia': ['támesis-antioquia', 'támesis', 'antioquia', 2.0, 0], 'tarazá-antioquia': ['tarazá-antioquia', 'tarazá', 'antioquia', 6.0, 0], 'tarso-antioquia': ['tarso-antioquia', 'tarso', 'antioquia', 1.0, 0], 'titiribí-antioquia': ['titiribí-antioquia', 'titiribí', 'antioquia', 1.0, 0], 'toledo-antioquia': ['toledo-antioquia', 'toledo', 'antioquia', 3.0, 0], 'turbo-antioquia': ['turbo-antioquia', 'turbo', 'antioquia', 258.0, 0], 'uramita-antioquia': ['uramita-antioquia', 'uramita', 'antioquia', 2.0, 0], 'urrao-antioquia': ['urrao-antioquia', 'urrao', 'antioquia', 6.0, 0], 'valdivia-antioquia': ['valdivia-antioquia', 'valdivia', 'antioquia', 4.0, 0], 'valparaíso-antioquia': ['valparaíso-antioquia', 'valparaíso', 'antioquia', 0.0, 0], 'vegachí-antioquia': ['vegachí-antioquia', 'vegachí', 'antioquia', 0.0, 0], 'venecia-antioquia': ['venecia-antioquia', 'venecia', 'antioquia', 2.0, 0], 'vigía del fuerte-antioquia': ['vigía del fuerte-antioquia', 'vigía del fuerte', 'antioquia', 0.0, 0], 'yalí-antioquia': ['yalí-antioquia', 'yalí', 'antioquia', 1.0, 0], 'yarumal-antioquia': ['yarumal-antioquia', 'yarumal', 'antioquia', 59.0, 0], 'yolombó-antioquia': ['yolombó-antioquia', 'yolombó', 'antioquia', 7.0, 0], 'yondó-antioquia': ['yondó-antioquia', 'yondó', 'antioquia', 25.0, 0], 'zaragoza-antioquia': ['zaragoza-antioquia', 'zaragoza', 'antioquia', 4.0, 0], 'atlántico-atlántico': ['atlántico-atlántico', 'atlántico', 'atlántico', 4525.0, 0], 'barranquilla-atlántico': ['barranquilla-atlántico', 'barranquilla', 'atlántico', 2886.0, 0], 'baranoa-atlántico': ['baranoa-atlántico', 'baranoa', 'atlántico', 59.0, 0], 'campo de la cruz-atlántico': ['campo de la cruz-atlántico', 'campo de la cruz', 'atlántico', 8.0, 0], 'candelaria-atlántico': ['candelaria-atlántico', 'candelaria', 'atlántico', 7.0, 0], 'galapa-atlántico': ['galapa-atlántico', 'galapa', 'atlántico', 48.0, 0], 'juan de acosta-atlántico': ['juan de acosta-atlántico', 'juan de acosta', 'atlántico', 8.0, 0], 'luruaco-atlántico': ['luruaco-atlántico', 'luruaco', 'atlántico', 10.0, 0], 'malambo-atlántico': ['malambo-atlántico', 'malambo', 'atlántico', 250.0, 0], 'manatí-atlántico': ['manatí-atlántico', 'manatí', 'atlántico', 5.0, 0], 'palmar de varela-atlántico': ['palmar de varela-atlántico', 'palmar de varela', 'atlántico', 21.0, 0], 'piojó-atlántico': ['piojó-atlántico', 'piojó', 'atlántico', 1.0, 0], 'polonuevo-atlántico': ['polonuevo-atlántico', 'polonuevo', 'atlántico', 22.0, 0], 'ponedera-atlántico': ['ponedera-atlántico', 'ponedera', 'atlántico', 6.0, 0], 'puerto colombia-atlántico': ['puerto colombia-atlántico', 'puerto colombia', 'atlántico', 72.0, 0], 'repelón-atlántico': ['repelón-atlántico', 'repelón', 'atlántico', 7.0, 0], 'sabanagrande-atlántico': ['sabanagrande-atlántico', 'sabanagrande', 'atlántico', 17.0, 0], 'sabanalarga-atlántico': ['sabanalarga-atlántico', 'sabanalarga', 'atlántico', 89.0, 0], 'santa lucía-atlántico': ['santa lucía-atlántico', 'santa lucía', 'atlántico', 1.0, 0], 'santo tomás-atlántico': ['santo tomás-atlántico', 'santo tomás', 'atlántico', 13.0, 0], 'soledad-atlántico': ['soledad-atlántico', 'soledad', 'atlántico', 990.0, 0], 'suan-atlántico': ['suan-atlántico', 'suan', 'atlántico', 1.0, 0], 'tubará-atlántico': ['tubará-atlántico', 'tubará', 'atlántico', 3.0, 0], 'usiacurí-atlántico': ['usiacurí-atlántico', 'usiacurí', 'atlántico', 1.0, 0], 'bogotá-bogotá': ['bogotá-bogotá', 'bogotá', 'bogotá', 20386.0, 0], 'bolívar-bolívar': ['bolívar-bolívar', 'bolívar', 'bolívar', 3041.0, 0], 'cartagena-bolívar': ['cartagena-bolívar', 'cartagena', 'bolívar', 2193.0, 0], 'achí-bolívar': ['achí-bolívar', 'achí', 'bolívar', 0.0, 0], 'altos del rosario-bolívar': ['altos del rosario-bolívar', 'altos del rosario', 'bolívar', 1.0, 0], 'arenal-bolívar': ['arenal-bolívar', 'arenal', 'bolívar', 4.0, 0], 'arjona-bolívar': ['arjona-bolívar', 'arjona', 'bolívar', 46.0, 0], 'arroyohondo-bolívar': ['arroyohondo-bolívar', 'arroyohondo', 'bolívar', 0, 0], 'barranco de loba-bolívar': ['barranco de loba-bolívar', 'barranco de loba', 'bolívar', 4.0, 0], 'calamar-bolívar': ['calamar-bolívar', 'calamar', 'bolívar', 6.0, 0], 'cantagallo-bolívar': ['cantagallo-bolívar', 'cantagallo', 'bolívar', 0.0, 0], 'cicuco-bolívar': ['cicuco-bolívar', 'cicuco', 'bolívar', 10.0, 0], 'córdoba-bolívar': ['córdoba-bolívar', 'córdoba', 'bolívar', 7.0, 0], 'clemencia-bolívar': ['clemencia-bolívar', 'clemencia', 'bolívar', 17.0, 0], 'el carmen de bolívar-bolívar': ['el carmen de bolívar-bolívar', 'el carmen de bolívar', 'bolívar', 132.0, 0], 'el guamo-bolívar': ['el guamo-bolívar', 'el guamo', 'bolívar', 1.0, 0], 'el peñón-bolívar': ['el peñón-bolívar', 'el peñón', 'bolívar', 4.0, 0], 'hatillo de loba-bolívar': ['hatillo de loba-bolívar', 'hatillo de loba', 'bolívar', 1.0, 0], 'magangué-bolívar': ['magangué-bolívar', 'magangué', 'bolívar', 323.0, 0], 'mahates-bolívar': ['mahates-bolívar', 'mahates', 'bolívar', 2.0, 0], 'margarita-bolívar': ['margarita-bolívar', 'margarita', 'bolívar', 0.0, 0], 'maría la baja-bolívar': ['maría la baja-bolívar', 'maría la baja', 'bolívar', 21.0, 0], 'montecristo-bolívar': ['montecristo-bolívar', 'montecristo', 'bolívar', 2.0, 0], 'mompós-bolívar': ['mompós-bolívar', 'mompós', 'bolívar', 2.0, 0], 'morales-bolívar': ['morales-bolívar', 'morales', 'bolívar', 6.0, 0], 'norosí-bolívar': ['norosí-bolívar', 'norosí', 'bolívar', 1.0, 0], 'pinillos-bolívar': ['pinillos-bolívar', 'pinillos', 'bolívar', 2.0, 0], 'regidor-bolívar': ['regidor-bolívar', 'regidor', 'bolívar', 0.0, 0], 'río viejo-bolívar': ['río viejo-bolívar', 'río viejo', 'bolívar', 2.0, 0], 'san cristóbal-bolívar': ['san cristóbal-bolívar', 'san cristóbal', 'bolívar', 3.0, 0], 'san estanislao-bolívar': ['san estanislao-bolívar', 'san estanislao', 'bolívar', 4.0, 0], 'san fernando-bolívar': ['san fernando-bolívar', 'san fernando', 'bolívar', 1.0, 0], 'san jacinto-bolívar': ['san jacinto-bolívar', 'san jacinto', 'bolívar', 30.0, 0], 'san jacinto del cauca-bolívar': ['san jacinto del cauca-bolívar', 'san jacinto del cauca', 'bolívar', 0.0, 0], 'san juan nepomuceno-bolívar': ['san juan nepomuceno-bolívar', 'san juan nepomuceno', 'bolívar', 8.0, 0], 'san martín de loba-bolívar': ['san martín de loba-bolívar', 'san martín de loba', 'bolívar', 9.0, 0], 'san pablo-bolívar': ['san pablo-bolívar', 'san pablo', 'bolívar', 1.0, 0], 'santa catalina-bolívar': ['santa catalina-bolívar', 'santa catalina', 'bolívar', 5.0, 0], 'santa rosa-bolívar': ['santa rosa-bolívar', 'santa rosa', 'bolívar', 33.0, 0], 'santa rosa del sur-bolívar': ['santa rosa del sur-bolívar', 'santa rosa del sur', 'bolívar', 3.0, 0], 'simití-bolívar': ['simití-bolívar', 'simití', 'bolívar', 3.0, 0], 'soplaviento-bolívar': ['soplaviento-bolívar', 'soplaviento', 'bolívar', 0, 0], 'talaigua nuevo-bolívar': ['talaigua nuevo-bolívar', 'talaigua nuevo', 'bolívar', 2.0, 0], 'tiquisio-bolívar': ['tiquisio-bolívar', 'tiquisio', 'bolívar', 1.0, 0], 'turbaco-bolívar': ['turbaco-bolívar', 'turbaco', 'bolívar', 104.0, 0], 'turbaná-bolívar': ['turbaná-bolívar', 'turbaná', 'bolívar', 24.0, 0], 'villanueva-bolívar': ['villanueva-bolívar', 'villanueva', 'bolívar', 15.0, 0], 'zambrano-bolívar': ['zambrano-bolívar', 'zambrano', 'bolívar', 8.0, 0], 'boyacá-boyacá': ['boyacá-boyacá', 'boyacá', 'boyacá', 2970.0, 0], 'tunja-boyacá': ['tunja-boyacá', 'tunja', 'boyacá', 825.0, 0], 'almeida-boyacá': ['almeida-boyacá', 'almeida', 'boyacá', 5.0, 0], 'aquitania-boyacá': ['aquitania-boyacá', 'aquitania', 'boyacá', 13.0, 0], 'arcabuco-boyacá': ['arcabuco-boyacá', 'arcabuco', 'boyacá', 3.0, 0], 'belén-boyacá': ['belén-boyacá', 'belén', 'boyacá', 10.0, 0], 'berbeo-boyacá': ['berbeo-boyacá', 'berbeo', 'boyacá', 0, 0], 'betéitiva-boyacá': ['betéitiva-boyacá', 'betéitiva', 'boyacá', 0, 0], 'boavita-boyacá': ['boavita-boyacá', 'boavita', 'boyacá', 0, 0], 'briceño-boyacá': ['briceño-boyacá', 'briceño', 'boyacá', 0, 0], 'buenavista-boyacá': ['buenavista-boyacá', 'buenavista', 'boyacá', 0, 0], 'busbanzá-boyacá': ['busbanzá-boyacá', 'busbanzá', 'boyacá', 1.0, 0], 'caldas-boyacá': ['caldas-boyacá', 'caldas', 'boyacá', 3.0, 0], 'campohermoso-boyacá': ['campohermoso-boyacá', 'campohermoso', 'boyacá', 1.0, 0], 'cerinza-boyacá': ['cerinza-boyacá', 'cerinza', 'boyacá', 5.0, 0], 'chinavita-boyacá': ['chinavita-boyacá', 'chinavita', 'boyacá', 2.0, 0], 'chiquinquirá-boyacá': ['chiquinquirá-boyacá', 'chiquinquirá', 'boyacá', 166.0, 0], 'chiscas-boyacá': ['chiscas-boyacá', 'chiscas', 'boyacá', 0.0, 0], 'chita-boyacá': ['chita-boyacá', 'chita', 'boyacá', 1.0, 0], 'chitaraque-boyacá': ['chitaraque-boyacá', 'chitaraque', 'boyacá', 1.0, 0], 'chivatá-boyacá': ['chivatá-boyacá', 'chivatá', 'boyacá', 0, 0], 'ciénega-boyacá': ['ciénega-boyacá', 'ciénega', 'boyacá', 6.0, 0], 'cómbita-boyacá': ['cómbita-boyacá', 'cómbita', 'boyacá', 7.0, 0], 'coper-boyacá': ['coper-boyacá', 'coper', 'boyacá', 0.0, 0], 'corrales-boyacá': ['corrales-boyacá', 'corrales', 'boyacá', 2.0, 0], 'covarachía-boyacá': ['covarachía-boyacá', 'covarachía', 'boyacá', 0, 0], 'cubará-boyacá': ['cubará-boyacá', 'cubará', 'boyacá', 2.0, 0], 'cucaita-boyacá': ['cucaita-boyacá', 'cucaita', 'boyacá', 2.0, 0], 'cuítiva-boyacá': ['cuítiva-boyacá', 'cuítiva', 'boyacá', 2.0, 0], 'chíquiza-boyacá': ['chíquiza-boyacá', 'chíquiza', 'boyacá', 4.0, 0], 'chivor-boyacá': ['chivor-boyacá', 'chivor', 'boyacá', 3.0, 0], 'duitama-boyacá': ['duitama-boyacá', 'duitama', 'boyacá', 448.0, 0], 'el cocuy-boyacá': ['el cocuy-boyacá', 'el cocuy', 'boyacá', 0, 0], 'el espino-boyacá': ['el espino-boyacá', 'el espino', 'boyacá', 0, 0], 'firavitoba-boyacá': ['firavitoba-boyacá', 'firavitoba', 'boyacá', 6.0, 0], 'floresta-boyacá': ['floresta-boyacá', 'floresta', 'boyacá', 1.0, 0], 'gachantivá-boyacá': ['gachantivá-boyacá', 'gachantivá', 'boyacá', 2.0, 0], 'gámeza-boyacá': ['gámeza-boyacá', 'gámeza', 'boyacá', 6.0, 0], 'garagoa-boyacá': ['garagoa-boyacá', 'garagoa', 'boyacá', 57.0, 0], 'guacamayas-boyacá': ['guacamayas-boyacá', 'guacamayas', 'boyacá', 0, 0], 'guateque-boyacá': ['guateque-boyacá', 'guateque', 'boyacá', 0, 0], 'guayatá-boyacá': ['guayatá-boyacá', 'guayatá', 'boyacá', 1.0, 0], 'güicán-boyacá': ['güicán-boyacá', 'güicán', 'boyacá', 2.0, 0], 'iza-boyacá': ['iza-boyacá', 'iza', 'boyacá', 0, 0], 'jenesano-boyacá': ['jenesano-boyacá', 'jenesano', 'boyacá', 0, 0], 'jericó-boyacá': ['jericó-boyacá', 'jericó', 'boyacá', 0, 0], 'labranzagrande-boyacá': ['labranzagrande-boyacá', 'labranzagrande', 'boyacá', 1.0, 0], 'la capilla-boyacá': ['la capilla-boyacá', 'la capilla', 'boyacá', 2.0, 0], 'la victoria-boyacá': ['la victoria-boyacá', 'la victoria', 'boyacá', 0, 0], 'la uvita-boyacá': ['la uvita-boyacá', 'la uvita', 'boyacá', 0, 0], 'villa de leyva-boyacá': ['villa de leyva-boyacá', 'villa de leyva', 'boyacá', 7.0, 0], 'macanal-boyacá': ['macanal-boyacá', 'macanal', 'boyacá', 7.0, 0], 'maripí-boyacá': ['maripí-boyacá', 'maripí', 'boyacá', 4.0, 0], 'miraflores-boyacá': ['miraflores-boyacá', 'miraflores', 'boyacá', 4.0, 0], 'mongua-boyacá': ['mongua-boyacá', 'mongua', 'boyacá', 1.0, 0], 'monguí-boyacá': ['monguí-boyacá', 'monguí', 'boyacá', 5.0, 0], 'moniquirá-boyacá': ['moniquirá-boyacá', 'moniquirá', 'boyacá', 37.0, 0], 'motavita-boyacá': ['motavita-boyacá', 'motavita', 'boyacá', 7.0, 0], 'muzo-boyacá': ['muzo-boyacá', 'muzo', 'boyacá', 1.0, 0], 'nobsa-boyacá': ['nobsa-boyacá', 'nobsa', 'boyacá', 30.0, 0], 'nuevo colón-boyacá': ['nuevo colón-boyacá', 'nuevo colón', 'boyacá', 6.0, 0], 'oicatá-boyacá': ['oicatá-boyacá', 'oicatá', 'boyacá', 3.0, 0], 'otanche-boyacá': ['otanche-boyacá', 'otanche', 'boyacá', 0, 0], 'pachavita-boyacá': ['pachavita-boyacá', 'pachavita', 'boyacá', 3.0, 0], 'páez-boyacá': ['páez-boyacá', 'páez', 'boyacá', 2.0, 0], 'paipa-boyacá': ['paipa-boyacá', 'paipa', 'boyacá', 35.0, 0], 'pajarito-boyacá': ['pajarito-boyacá', 'pajarito', 'boyacá', 1.0, 0], 'panqueba-boyacá': ['panqueba-boyacá', 'panqueba', 'boyacá', 1.0, 0], 'pauna-boyacá': ['pauna-boyacá', 'pauna', 'boyacá', 6.0, 0], 'paya-boyacá': ['paya-boyacá', 'paya', 'boyacá', 0, 0], 'paz de río-boyacá': ['paz de río-boyacá', 'paz de río', 'boyacá', 0, 0], 'pesca-boyacá': ['pesca-boyacá', 'pesca', 'boyacá', 11.0, 0], 'pisba-boyacá': ['pisba-boyacá', 'pisba', 'boyacá', 1.0, 0], 'puerto boyacá-boyacá': ['puerto boyacá-boyacá', 'puerto boyacá', 'boyacá', 147.0, 0], 'quípama-boyacá': ['quípama-boyacá', 'quípama', 'boyacá', 6.0, 0], 'ramiriquí-boyacá': ['ramiriquí-boyacá', 'ramiriquí', 'boyacá', 4.0, 0], 'ráquira-boyacá': ['ráquira-boyacá', 'ráquira', 'boyacá', 13.0, 0], 'rondón-boyacá': ['rondón-boyacá', 'rondón', 'boyacá', 0, 0], 'saboyá-boyacá': ['saboyá-boyacá', 'saboyá', 'boyacá', 4.0, 0], 'sáchica-boyacá': ['sáchica-boyacá', 'sáchica', 'boyacá', 11.0, 0], 'samacá-boyacá': ['samacá-boyacá', 'samacá', 'boyacá', 28.0, 0], 'san eduardo-boyacá': ['san eduardo-boyacá', 'san eduardo', 'boyacá', 3.0, 0], 'san josé de pare-boyacá': ['san josé de pare-boyacá', 'san josé de pare', 'boyacá', 1.0, 0], 'san luis de gaceno-boyacá': ['san luis de gaceno-boyacá', 'san luis de gaceno', 'boyacá', 0.0, 0], 'san mateo-boyacá': ['san mateo-boyacá', 'san mateo', 'boyacá', 0, 0], 'san miguel de sema-boyacá': ['san miguel de sema-boyacá', 'san miguel de sema', 'boyacá', 1.0, 0], 'san pablo de borbur-boyacá': ['san pablo de borbur-boyacá', 'san pablo de borbur', 'boyacá', 6.0, 0], 'santana-boyacá': ['santana-boyacá', 'santana', 'boyacá', 29.0, 0], 'santa maría-boyacá': ['santa maría-boyacá', 'santa maría', 'boyacá', 0.0, 0], 'santa rosa de viterbo-boyacá': ['santa rosa de viterbo-boyacá', 'santa rosa de viterbo', 'boyacá', 21.0, 0], 'santa sofía-boyacá': ['santa sofía-boyacá', 'santa sofía', 'boyacá', 2.0, 0], 'sativanorte-boyacá': ['sativanorte-boyacá', 'sativanorte', 'boyacá', 1.0, 0], 'sativasur-boyacá': ['sativasur-boyacá', 'sativasur', 'boyacá', 0.0, 0], 'siachoque-boyacá': ['siachoque-boyacá', 'siachoque', 'boyacá', 6.0, 0], 'soatá-boyacá': ['soatá-boyacá', 'soatá', 'boyacá', 2.0, 0], 'socotá-boyacá': ['socotá-boyacá', 'socotá', 'boyacá', 9.0, 0], 'socha-boyacá': ['socha-boyacá', 'socha', 'boyacá', 0.0, 0], 'sogamoso-boyacá': ['sogamoso-boyacá', 'sogamoso', 'boyacá', 783.0, 0], 'somondoco-boyacá': ['somondoco-boyacá', 'somondoco', 'boyacá', 0, 0], 'sora-boyacá': ['sora-boyacá', 'sora', 'boyacá', 4.0, 0], 'sotaquirá-boyacá': ['sotaquirá-boyacá', 'sotaquirá', 'boyacá', 6.0, 0], 'soracá-boyacá': ['soracá-boyacá', 'soracá', 'boyacá', 29.0, 0], 'susacón-boyacá': ['susacón-boyacá', 'susacón', 'boyacá', 0.0, 0], 'sutamarchán-boyacá': ['sutamarchán-boyacá', 'sutamarchán', 'boyacá', 7.0, 0], 'sutatenza-boyacá': ['sutatenza-boyacá', 'sutatenza', 'boyacá', 6.0, 0], 'tasco-boyacá': ['tasco-boyacá', 'tasco', 'boyacá', 4.0, 0], 'tenza-boyacá': ['tenza-boyacá', 'tenza', 'boyacá', 1.0, 0], 'tibaná-boyacá': ['tibaná-boyacá', 'tibaná', 'boyacá', 2.0, 0], 'tibasosa-boyacá': ['tibasosa-boyacá', 'tibasosa', 'boyacá', 17.0, 0], 'tinjacá-boyacá': ['tinjacá-boyacá', 'tinjacá', 'boyacá', 4.0, 0], 'tipacoque-boyacá': ['tipacoque-boyacá', 'tipacoque', 'boyacá', 0.0, 0], 'toca-boyacá': ['toca-boyacá', 'toca', 'boyacá', 6.0, 0], 'togüí-boyacá': ['togüí-boyacá', 'togüí', 'boyacá', 2.0, 0], 'tópaga-boyacá': ['tópaga-boyacá', 'tópaga', 'boyacá', 2.0, 0], 'tota-boyacá': ['tota-boyacá', 'tota', 'boyacá', 1.0, 0], 'tununguá-boyacá': ['tununguá-boyacá', 'tununguá', 'boyacá', 0, 0], 'turmequé-boyacá': ['turmequé-boyacá', 'turmequé', 'boyacá', 0.0, 0], 'tuta-boyacá': ['tuta-boyacá', 'tuta', 'boyacá', 11.0, 0], 'tutazá-boyacá': ['tutazá-boyacá', 'tutazá', 'boyacá', 0.0, 0], 'umbita-boyacá': ['umbita-boyacá', 'umbita', 'boyacá', 2.0, 0], 'ventaquemada-boyacá': ['ventaquemada-boyacá', 'ventaquemada', 'boyacá', 5.0, 0], 'viracachá-boyacá': ['viracachá-boyacá', 'viracachá', 'boyacá', 9.0, 0], 'zetaquira-boyacá': ['zetaquira-boyacá', 'zetaquira', 'boyacá', 1.0, 0], 'caldas-caldas': ['caldas-caldas', 'caldas', 'caldas', 1242.0, 0], 'manizales-caldas': ['manizales-caldas', 'manizales', 'caldas', 635.0, 0], 'aguadas-caldas': ['aguadas-caldas', 'aguadas', 'caldas', 4.0, 0], 'anserma-caldas': ['anserma-caldas', 'anserma', 'caldas', 38.0, 0], 'aranzazu-caldas': ['aranzazu-caldas', 'aranzazu', 'caldas', 3.0, 0], 'belalcázar-caldas': ['belalcázar-caldas', 'belalcázar', 'caldas', 2.0, 0], 'chinchiná-caldas': ['chinchiná-caldas', 'chinchiná', 'caldas', 86.0, 0], 'filadelfia-caldas': ['filadelfia-caldas', 'filadelfia', 'caldas', 2.0, 0], 'la dorada-caldas': ['la dorada-caldas', 'la dorada', 'caldas', 231.0, 0], 'la merced-caldas': ['la merced-caldas', 'la merced', 'caldas', 1.0, 0], 'manzanares-caldas': ['manzanares-caldas', 'manzanares', 'caldas', 13.0, 0], 'marmato-caldas': ['marmato-caldas', 'marmato', 'caldas', 8.0, 0], 'marquetalia-caldas': ['marquetalia-caldas', 'marquetalia', 'caldas', 1.0, 0], 'marulanda-caldas': ['marulanda-caldas', 'marulanda', 'caldas', 0, 0], 'neira-caldas': ['neira-caldas', 'neira', 'caldas', 13.0, 0], 'norcasia-caldas': ['norcasia-caldas', 'norcasia', 'caldas', 5.0, 0], 'pácora-caldas': ['pácora-caldas', 'pácora', 'caldas', 2.0, 0], 'palestina-caldas': ['palestina-caldas', 'palestina', 'caldas', 27.0, 0], 'pensilvania-caldas': ['pensilvania-caldas', 'pensilvania', 'caldas', 3.0, 0], 'riosucio-caldas': ['riosucio-caldas', 'riosucio', 'caldas', 20.0, 0], 'risaralda-caldas': ['risaralda-caldas', 'risaralda', 'caldas', 4.0, 0], 'salamina-caldas': ['salamina-caldas', 'salamina', 'caldas', 27.0, 0], 'samaná-caldas': ['samaná-caldas', 'samaná', 'caldas', 3.0, 0], 'san josé-caldas': ['san josé-caldas', 'san josé', 'caldas', 0.0, 0], 'supía-caldas': ['supía-caldas', 'supía', 'caldas', 32.0, 0], 'victoria-caldas': ['victoria-caldas', 'victoria', 'caldas', 6.0, 0], 'villamaría-caldas': ['villamaría-caldas', 'villamaría', 'caldas', 75.0, 0], 'viterbo-caldas': ['viterbo-caldas', 'viterbo', 'caldas', 1.0, 0], 'caquetá-caquetá': ['caquetá-caquetá', 'caquetá', 'caquetá', 567.0, 0], 'florencia-caquetá': ['florencia-caquetá', 'florencia', 'caquetá', 456.0, 0], 'albania-caquetá': ['albania-caquetá', 'albania', 'caquetá', 3.0, 0], 'belén de los andaquíes-caquetá': ['belén de los andaquíes-caquetá', 'belén de los andaquíes', 'caquetá', 2.0, 0], 'cartagena del chairá-caquetá': ['cartagena del chairá-caquetá', 'cartagena del chairá', 'caquetá', 30.0, 0], 'curillo-caquetá': ['curillo-caquetá', 'curillo', 'caquetá', 2.0, 0], 'el doncello-caquetá': ['el doncello-caquetá', 'el doncello', 'caquetá', 8.0, 0], 'el paujil-caquetá': ['el paujil-caquetá', 'el paujil', 'caquetá', 5.0, 0], 'la montañita-caquetá': ['la montañita-caquetá', 'la montañita', 'caquetá', 5.0, 0], 'milán-caquetá': ['milán-caquetá', 'milán', 'caquetá', 2.0, 0], 'morelia-caquetá': ['morelia-caquetá', 'morelia', 'caquetá', 2.0, 0], 'puerto rico-caquetá': ['puerto rico-caquetá', 'puerto rico', 'caquetá', 26.0, 0], 'san josé del fragua-caquetá': ['san josé del fragua-caquetá', 'san josé del fragua', 'caquetá', 1.0, 0], 'san vicente del caguán-caquetá': ['san vicente del caguán-caquetá', 'san vicente del caguán', 'caquetá', 16.0, 0], 'solano-caquetá': ['solano-caquetá', 'solano', 'caquetá', 1.0, 0], 'solita-caquetá': ['solita-caquetá', 'solita', 'caquetá', 6.0, 0], 'valparaíso-caquetá': ['valparaíso-caquetá', 'valparaíso', 'caquetá', 2.0, 0], 'cauca-cauca': ['cauca-cauca', 'cauca', 'cauca', 1836.0, 0], 'popayán-cauca': ['popayán-cauca', 'popayán', 'cauca', 1194.0, 0], 'almaguer-cauca': ['almaguer-cauca', 'almaguer', 'cauca', 1.0, 0], 'argelia-cauca': ['argelia-cauca', 'argelia', 'cauca', 5.0, 0], 'balboa-cauca': ['balboa-cauca', 'balboa', 'cauca', 4.0, 0], 'bolívar-cauca': ['bolívar-cauca', 'bolívar', 'cauca', 2.0, 0], 'buenos aires-cauca': ['buenos aires-cauca', 'buenos aires', 'cauca', 9.0, 0], 'cajibío-cauca': ['cajibío-cauca', 'cajibío', 'cauca', 15.0, 0], 'caldono-cauca': ['caldono-cauca', 'caldono', 'cauca', 3.0, 0], 'caloto-cauca': ['caloto-cauca', 'caloto', 'cauca', 39.0, 0], 'corinto-cauca': ['corinto-cauca', 'corinto', 'cauca', 20.0, 0], 'el tambo-cauca': ['el tambo-cauca', 'el tambo', 'cauca', 19.0, 0], 'florencia-cauca': ['florencia-cauca', 'florencia', 'cauca', 0, 0], 'guachené-cauca': ['guachené-cauca', 'guachené', 'cauca', 3.0, 0], 'guapi-cauca': ['guapi-cauca', 'guapi', 'cauca', 6.0, 0], 'inzá-cauca': ['inzá-cauca', 'inzá', 'cauca', 5.0, 0], 'jambaló-cauca': ['jambaló-cauca', 'jambaló', 'cauca', 0.0, 0], 'la sierra-cauca': ['la sierra-cauca', 'la sierra', 'cauca', 4.0, 0], 'la vega-cauca': ['la vega-cauca', 'la vega', 'cauca', 2.0, 0], 'lópez-cauca': ['lópez-cauca', 'lópez', 'cauca', 0.0, 0], 'mercaderes-cauca': ['mercaderes-cauca', 'mercaderes', 'cauca', 1.0, 0], 'miranda-cauca': ['miranda-cauca', 'miranda', 'cauca', 16.0, 0], 'morales-cauca': ['morales-cauca', 'morales', 'cauca', 1.0, 0], 'padilla-cauca': ['padilla-cauca', 'padilla', 'cauca', 7.0, 0], 'paéz-cauca': ['paéz-cauca', 'paéz', 'cauca', 6.0, 0], 'patía-cauca': ['patía-cauca', 'patía', 'cauca', 26.0, 0], 'piamonte-cauca': ['piamonte-cauca', 'piamonte', 'cauca', 3.0, 0], 'piendamó-cauca': ['piendamó-cauca', 'piendamó', 'cauca', 30.0, 0], 'puerto tejada-cauca': ['puerto tejada-cauca', 'puerto tejada', 'cauca', 63.0, 0], 'puracé-cauca': ['puracé-cauca', 'puracé', 'cauca', 8.0, 0], 'rosas-cauca': ['rosas-cauca', 'rosas', 'cauca', 2.0, 0], 'san sebastián-cauca': ['san sebastián-cauca', 'san sebastián', 'cauca', 0, 0], 'santander de quilichao-cauca': ['santander de quilichao-cauca', 'santander de quilichao', 'cauca', 265.0, 0], 'santa rosa-cauca': ['santa rosa-cauca', 'santa rosa', 'cauca', 4.0, 0], 'silvia-cauca': ['silvia-cauca', 'silvia', 'cauca', 7.0, 0], 'sotará-cauca': ['sotará-cauca', 'sotará', 'cauca', 6.0, 0], 'suárez-cauca': ['suárez-cauca', 'suárez', 'cauca', 4.0, 0], 'sucre-cauca': ['sucre-cauca', 'sucre', 'cauca', 2.0, 0], 'timbío-cauca': ['timbío-cauca', 'timbío', 'cauca', 27.0, 0], 'timbiquí-cauca': ['timbiquí-cauca', 'timbiquí', 'cauca', 0.0, 0], 'toribío-cauca': ['toribío-cauca', 'toribío', 'cauca', 4.0, 0], 'totoró-cauca': ['totoró-cauca', 'totoró', 'cauca', 5.0, 0], 'villa rica-cauca': ['villa rica-cauca', 'villa rica', 'cauca', 18.0, 0], 'cesar-cesar': ['cesar-cesar', 'cesar', 'cesar', 1810.0, 0], 'valledupar-cesar': ['valledupar-cesar', 'valledupar', 'cesar', 1057.0, 0], 'aguachica-cesar': ['aguachica-cesar', 'aguachica', 'cesar', 329.0, 0], 'agustín codazzi-cesar': ['agustín codazzi-cesar', 'agustín codazzi', 'cesar', 140.0, 0], 'astrea-cesar': ['astrea-cesar', 'astrea', 'cesar', 2.0, 0], 'becerril-cesar': ['becerril-cesar', 'becerril', 'cesar', 11.0, 0], 'bosconia-cesar': ['bosconia-cesar', 'bosconia', 'cesar', 43.0, 0], 'chimichagua-cesar': ['chimichagua-cesar', 'chimichagua', 'cesar', 2.0, 0], 'chiriguaná-cesar': ['chiriguaná-cesar', 'chiriguaná', 'cesar', 44.0, 0], 'curumaní-cesar': ['curumaní-cesar', 'curumaní', 'cesar', 6.0, 0], 'el copey-cesar': ['el copey-cesar', 'el copey', 'cesar', 2.0, 0], 'el paso-cesar': ['el paso-cesar', 'el paso', 'cesar', 27.0, 0], 'gamarra-cesar': ['gamarra-cesar', 'gamarra', 'cesar', 11.0, 0], 'gonzález-cesar': ['gonzález-cesar', 'gonzález', 'cesar', 1.0, 0], 'la gloria-cesar': ['la gloria-cesar', 'la gloria', 'cesar', 25.0, 0], 'la jagua de ibirico-cesar': ['la jagua de ibirico-cesar', 'la jagua de ibirico', 'cesar', 8.0, 0], 'manaure-cesar': ['manaure-cesar', 'manaure', 'cesar', 5.0, 0], 'pailitas-cesar': ['pailitas-cesar', 'pailitas', 'cesar', 6.0, 0], 'pelaya-cesar': ['pelaya-cesar', 'pelaya', 'cesar', 3.0, 0], 'pueblo bello-cesar': ['pueblo bello-cesar', 'pueblo bello', 'cesar', 17.0, 0], 'río de oro-cesar': ['río de oro-cesar', 'río de oro', 'cesar', 6.0, 0], 'la paz-cesar': ['la paz-cesar', 'la paz', 'cesar', 14.0, 0], 'san alberto-cesar': ['san alberto-cesar', 'san alberto', 'cesar', 25.0, 0], 'san diego-cesar': ['san diego-cesar', 'san diego', 'cesar', 6.0, 0], 'san martín-cesar': ['san martín-cesar', 'san martín', 'cesar', 15.0, 0], 'tamalameque-cesar': ['tamalameque-cesar', 'tamalameque', 'cesar', 5.0, 0], 'córdoba-córdoba': ['córdoba-córdoba', 'córdoba', 'córdoba', 773.0, 0], 'montería-córdoba': ['montería-córdoba', 'montería', 'córdoba', 517.0, 0], 'ayapel-córdoba': ['ayapel-córdoba', 'ayapel', 'córdoba', 3.0, 0], 'buenavista-córdoba': ['buenavista-córdoba', 'buenavista', 'córdoba', 2.0, 0], 'canalete-córdoba': ['canalete-córdoba', 'canalete', 'córdoba', 3.0, 0], 'cereté-córdoba': ['cereté-córdoba', 'cereté', 'córdoba', 50.0, 0], 'chimá-córdoba': ['chimá-córdoba', 'chimá', 'córdoba', 0.0, 0], 'chinú-córdoba': ['chinú-córdoba', 'chinú', 'córdoba', 10.0, 0], 'ciénaga de oro-córdoba': ['ciénaga de oro-córdoba', 'ciénaga de oro', 'córdoba', 19.0, 0], 'cotorra-córdoba': ['cotorra-córdoba', 'cotorra', 'córdoba', 1.0, 0], 'la apartada-córdoba': ['la apartada-córdoba', 'la apartada', 'córdoba', 0.0, 0], 'lorica-córdoba': ['lorica-córdoba', 'lorica', 'córdoba', 52.0, 0], 'los córdobas-córdoba': ['los córdobas-córdoba', 'los córdobas', 'córdoba', 3.0, 0], 'momil-córdoba': ['momil-córdoba', 'momil', 'córdoba', 5.0, 0], 'montelíbano-córdoba': ['montelíbano-córdoba', 'montelíbano', 'córdoba', 15.0, 0], 'moñitos-córdoba': ['moñitos-córdoba', 'moñitos', 'córdoba', 5.0, 0], 'planeta rica-córdoba': ['planeta rica-córdoba', 'planeta rica', 'córdoba', 6.0, 0], 'pueblo nuevo-córdoba': ['pueblo nuevo-córdoba', 'pueblo nuevo', 'córdoba', 2.0, 0], 'puerto escondido-córdoba': ['puerto escondido-córdoba', 'puerto escondido', 'córdoba', 3.0, 0], 'puerto libertador-córdoba': ['puerto libertador-córdoba', 'puerto libertador', 'córdoba', 6.0, 0], 'purísima-córdoba': ['purísima-córdoba', 'purísima', 'córdoba', 6.0, 0], 'sahagún-córdoba': ['sahagún-córdoba', 'sahagún', 'córdoba', 9.0, 0], 'san andrés sotavento-córdoba': ['san andrés sotavento-córdoba', 'san andrés sotavento', 'córdoba', 5.0, 0], 'san antero-córdoba': ['san antero-córdoba', 'san antero', 'córdoba', 12.0, 0], 'san bernardo del viento-córdoba': ['san bernardo del viento-córdoba', 'san bernardo del viento', 'córdoba', 9.0, 0], 'san carlos-córdoba': ['san carlos-córdoba', 'san carlos', 'córdoba', 5.0, 0], 'san josé de ure-córdoba': ['san josé de ure-córdoba', 'san josé de ure', 'córdoba', 2.0, 0], 'san pelayo-córdoba': ['san pelayo-córdoba', 'san pelayo', 'córdoba', 12.0, 0], 'tierralta-córdoba': ['tierralta-córdoba', 'tierralta', 'córdoba', 8.0, 0], 'tuchín-córdoba': ['tuchín-córdoba', 'tuchín', 'córdoba', 2.0, 0], 'valencia-córdoba': ['valencia-córdoba', 'valencia', 'córdoba', 1.0, 0], 'cundinamarca-cundinamarca': ['cundinamarca-cundinamarca', 'cundinamarca', 'cundinamarca', 6997.0, 0], 'agua de dios-cundinamarca': ['agua de dios-cundinamarca', 'agua de dios', 'cundinamarca', 13.0, 0], 'albán-cundinamarca': ['albán-cundinamarca', 'albán', 'cundinamarca', 6.0, 0], 'anapoima-cundinamarca': ['anapoima-cundinamarca', 'anapoima', 'cundinamarca', 33.0, 0], 'anolaima-cundinamarca': ['anolaima-cundinamarca', 'anolaima', 'cundinamarca', 24.0, 0], 'arbeláez-cundinamarca': ['arbeláez-cundinamarca', 'arbeláez', 'cundinamarca', 15.0, 0], 'beltrán-cundinamarca': ['beltrán-cundinamarca', 'beltrán', 'cundinamarca', 0.0, 0], 'bituima-cundinamarca': ['bituima-cundinamarca', 'bituima', 'cundinamarca', 5.0, 0], 'bojacá-cundinamarca': ['bojacá-cundinamarca', 'bojacá', 'cundinamarca', 5.0, 0], 'cabrera-cundinamarca': ['cabrera-cundinamarca', 'cabrera', 'cundinamarca', 1.0, 0], 'cachipay-cundinamarca': ['cachipay-cundinamarca', 'cachipay', 'cundinamarca', 24.0, 0], 'cajicá-cundinamarca': ['cajicá-cundinamarca', 'cajicá', 'cundinamarca', 109.0, 0], 'caparrapí-cundinamarca': ['caparrapí-cundinamarca', 'caparrapí', 'cundinamarca', 2.0, 0], 'cáqueza-cundinamarca': ['cáqueza-cundinamarca', 'cáqueza', 'cundinamarca', 52.0, 0], 'carmen de carupa-cundinamarca': ['carmen de carupa-cundinamarca', 'carmen de carupa', 'cundinamarca', 13.0, 0], 'chaguaní-cundinamarca': ['chaguaní-cundinamarca', 'chaguaní', 'cundinamarca', 1.0, 0], 'chía-cundinamarca': ['chía-cundinamarca', 'chía', 'cundinamarca', 27.0, 0], 'chipaque-cundinamarca': ['chipaque-cundinamarca', 'chipaque', 'cundinamarca', 12.0, 0], 'choachí-cundinamarca': ['choachí-cundinamarca', 'choachí', 'cundinamarca', 25.0, 0], 'chocontá-cundinamarca': ['chocontá-cundinamarca', 'chocontá', 'cundinamarca', 77.0, 0], 'cogua-cundinamarca': ['cogua-cundinamarca', 'cogua', 'cundinamarca', 64.0, 0], 'cota-cundinamarca': ['cota-cundinamarca', 'cota', 'cundinamarca', 3.0, 0], 'cucunubá-cundinamarca': ['cucunubá-cundinamarca', 'cucunubá', 'cundinamarca', 22.0, 0], 'el colegio-cundinamarca': ['el colegio-cundinamarca', 'el colegio', 'cundinamarca', 52.0, 0], 'el peñón-cundinamarca': ['el peñón-cundinamarca', 'el peñón', 'cundinamarca', 4.0, 0], 'el rosal-cundinamarca': ['el rosal-cundinamarca', 'el rosal', 'cundinamarca', 7.0, 0], 'facatativá-cundinamarca': ['facatativá-cundinamarca', 'facatativá', 'cundinamarca', 552.0, 0], 'fómeque-cundinamarca': ['fómeque-cundinamarca', 'fómeque', 'cundinamarca', 18.0, 0], 'fosca-cundinamarca': ['fosca-cundinamarca', 'fosca', 'cundinamarca', 6.0, 0], 'funza-cundinamarca': ['funza-cundinamarca', 'funza', 'cundinamarca', 89.0, 0], 'fúquene-cundinamarca': ['fúquene-cundinamarca', 'fúquene', 'cundinamarca', 3.0, 0], 'fusagasugá-cundinamarca': ['fusagasugá-cundinamarca', 'fusagasugá', 'cundinamarca', 484.0, 0], 'gachalá-cundinamarca': ['gachalá-cundinamarca', 'gachalá', 'cundinamarca', 1.0, 0], 'gachancipá-cundinamarca': ['gachancipá-cundinamarca', 'gachancipá', 'cundinamarca', 30.0, 0], 'gachetá-cundinamarca': ['gachetá-cundinamarca', 'gachetá', 'cundinamarca', 1.0, 0], 'gama-cundinamarca': ['gama-cundinamarca', 'gama', 'cundinamarca', 0, 0], 'girardot-cundinamarca': ['girardot-cundinamarca', 'girardot', 'cundinamarca', 261.0, 0], 'granada-cundinamarca': ['granada-cundinamarca', 'granada', 'cundinamarca', 8.0, 0], 'guachetá-cundinamarca': ['guachetá-cundinamarca', 'guachetá', 'cundinamarca', 17.0, 0], 'guaduas-cundinamarca': ['guaduas-cundinamarca', 'guaduas', 'cundinamarca', 48.0, 0], 'guasca-cundinamarca': ['guasca-cundinamarca', 'guasca', 'cundinamarca', 24.0, 0], 'guataquí-cundinamarca': ['guataquí-cundinamarca', 'guataquí', 'cundinamarca', 0.0, 0], 'guatavita-cundinamarca': ['guatavita-cundinamarca', 'guatavita', 'cundinamarca', 2.0, 0], 'guayabal de síquima-cundinamarca': ['guayabal de síquima-cundinamarca', 'guayabal de síquima', 'cundinamarca', 10.0, 0], 'guayabetal-cundinamarca': ['guayabetal-cundinamarca', 'guayabetal', 'cundinamarca', 6.0, 0], 'gutiérrez-cundinamarca': ['gutiérrez-cundinamarca', 'gutiérrez', 'cundinamarca', 3.0, 0], 'jerusalén-cundinamarca': ['jerusalén-cundinamarca', 'jerusalén', 'cundinamarca', 3.0, 0], 'junín-cundinamarca': ['junín-cundinamarca', 'junín', 'cundinamarca', 0, 0], 'la calera-cundinamarca': ['la calera-cundinamarca', 'la calera', 'cundinamarca', 26.0, 0], 'la mesa-cundinamarca': ['la mesa-cundinamarca', 'la mesa', 'cundinamarca', 91.0, 0], 'la palma-cundinamarca': ['la palma-cundinamarca', 'la palma', 'cundinamarca', 2.0, 0], 'la peña-cundinamarca': ['la peña-cundinamarca', 'la peña', 'cundinamarca', 7.0, 0], 'la vega-cundinamarca': ['la vega-cundinamarca', 'la vega', 'cundinamarca', 48.0, 0], 'lenguazaque-cundinamarca': ['lenguazaque-cundinamarca', 'lenguazaque', 'cundinamarca', 15.0, 0], 'machetá-cundinamarca': ['machetá-cundinamarca', 'machetá', 'cundinamarca', 11.0, 0], 'madrid-cundinamarca': ['madrid-cundinamarca', 'madrid', 'cundinamarca', 213.0, 0], 'manta-cundinamarca': ['manta-cundinamarca', 'manta', 'cundinamarca', 1.0, 0], 'medina-cundinamarca': ['medina-cundinamarca', 'medina', 'cundinamarca', 29.0, 0], 'mosquera-cundinamarca': ['mosquera-cundinamarca', 'mosquera', 'cundinamarca', 75.0, 0], 'nariño-cundinamarca': ['nariño-cundinamarca', 'nariño', 'cundinamarca', 0.0, 0], 'nemocón-cundinamarca': ['nemocón-cundinamarca', 'nemocón', 'cundinamarca', 49.0, 0], 'nilo-cundinamarca': ['nilo-cundinamarca', 'nilo', 'cundinamarca', 7.0, 0], 'nimaima-cundinamarca': ['nimaima-cundinamarca', 'nimaima', 'cundinamarca', 3.0, 0], 'nocaima-cundinamarca': ['nocaima-cundinamarca', 'nocaima', 'cundinamarca', 1.0, 0], 'venecia-cundinamarca': ['venecia-cundinamarca', 'venecia', 'cundinamarca', 8.0, 0], 'pacho-cundinamarca': ['pacho-cundinamarca', 'pacho', 'cundinamarca', 54.0, 0], 'paime-cundinamarca': ['paime-cundinamarca', 'paime', 'cundinamarca', 2.0, 0], 'pandi-cundinamarca': ['pandi-cundinamarca', 'pandi', 'cundinamarca', 7.0, 0], 'paratebueno-cundinamarca': ['paratebueno-cundinamarca', 'paratebueno', 'cundinamarca', 34.0, 0], 'pasca-cundinamarca': ['pasca-cundinamarca', 'pasca', 'cundinamarca', 37.0, 0], 'puerto salgar-cundinamarca': ['puerto salgar-cundinamarca', 'puerto salgar', 'cundinamarca', 17.0, 0], 'pulí-cundinamarca': ['pulí-cundinamarca', 'pulí', 'cundinamarca', 2.0, 0], 'quebradanegra-cundinamarca': ['quebradanegra-cundinamarca', 'quebradanegra', 'cundinamarca', 9.0, 0], 'quetame-cundinamarca': ['quetame-cundinamarca', 'quetame', 'cundinamarca', 11.0, 0], 'quipile-cundinamarca': ['quipile-cundinamarca', 'quipile', 'cundinamarca', 15.0, 0], 'apulo-cundinamarca': ['apulo-cundinamarca', 'apulo', 'cundinamarca', 11.0, 0], 'ricaurte-cundinamarca': ['ricaurte-cundinamarca', 'ricaurte', 'cundinamarca', 13.0, 0], 'san antonio del tequendama-cundinamarca': ['san antonio del tequendama-cundinamarca', 'san antonio del tequendama', 'cundinamarca', 24.0, 0], 'san bernardo-cundinamarca': ['san bernardo-cundinamarca', 'san bernardo', 'cundinamarca', 8.0, 0], 'san cayetano-cundinamarca': ['san cayetano-cundinamarca', 'san cayetano', 'cundinamarca', 6.0, 0], 'san francisco-cundinamarca': ['san francisco-cundinamarca', 'san francisco', 'cundinamarca', 20.0, 0], 'san juan de río seco-cundinamarca': ['san juan de río seco-cundinamarca', 'san juan de río seco', 'cundinamarca', 16.0, 0], 'sasaima-cundinamarca': ['sasaima-cundinamarca', 'sasaima', 'cundinamarca', 28.0, 0], 'sesquilé-cundinamarca': ['sesquilé-cundinamarca', 'sesquilé', 'cundinamarca', 21.0, 0], 'sibaté-cundinamarca': ['sibaté-cundinamarca', 'sibaté', 'cundinamarca', 136.0, 0], 'silvania-cundinamarca': ['silvania-cundinamarca', 'silvania', 'cundinamarca', 39.0, 0], 'simijaca-cundinamarca': ['simijaca-cundinamarca', 'simijaca', 'cundinamarca', 5.0, 0], 'soacha-cundinamarca': ['soacha-cundinamarca', 'soacha', 'cundinamarca', 2757.0, 0], 'sopó-cundinamarca': ['sopó-cundinamarca', 'sopó', 'cundinamarca', 20.0, 0], 'subachoque-cundinamarca': ['subachoque-cundinamarca', 'subachoque', 'cundinamarca', 0.0, 0], 'suesca-cundinamarca': ['suesca-cundinamarca', 'suesca', 'cundinamarca', 25.0, 0], 'supatá-cundinamarca': ['supatá-cundinamarca', 'supatá', 'cundinamarca', 10.0, 0], 'susa-cundinamarca': ['susa-cundinamarca', 'susa', 'cundinamarca', 9.0, 0], 'sutatausa-cundinamarca': ['sutatausa-cundinamarca', 'sutatausa', 'cundinamarca', 2.0, 0], 'tabio-cundinamarca': ['tabio-cundinamarca', 'tabio', 'cundinamarca', 5.0, 0], 'tausa-cundinamarca': ['tausa-cundinamarca', 'tausa', 'cundinamarca', 4.0, 0], 'tena-cundinamarca': ['tena-cundinamarca', 'tena', 'cundinamarca', 17.0, 0], 'tenjo-cundinamarca': ['tenjo-cundinamarca', 'tenjo', 'cundinamarca', 40.0, 0], 'tibacuy-cundinamarca': ['tibacuy-cundinamarca', 'tibacuy', 'cundinamarca', 5.0, 0], 'tibirita-cundinamarca': ['tibirita-cundinamarca', 'tibirita', 'cundinamarca', 1.0, 0], 'tocaima-cundinamarca': ['tocaima-cundinamarca', 'tocaima', 'cundinamarca', 22.0, 0], 'tocancipá-cundinamarca': ['tocancipá-cundinamarca', 'tocancipá', 'cundinamarca', 18.0, 0], 'topaipí-cundinamarca': ['topaipí-cundinamarca', 'topaipí', 'cundinamarca', 3.0, 0], 'ubalá-cundinamarca': ['ubalá-cundinamarca', 'ubalá', 'cundinamarca', 3.0, 0], 'ubaque-cundinamarca': ['ubaque-cundinamarca', 'ubaque', 'cundinamarca', 11.0, 0], 'villa de san diego de ubate-cundinamarca': ['villa de san diego de ubate-cundinamarca', 'villa de san diego de ubate', 'cundinamarca', 225.0, 0], 'une-cundinamarca': ['une-cundinamarca', 'une', 'cundinamarca', 7.0, 0], 'útica-cundinamarca': ['útica-cundinamarca', 'útica', 'cundinamarca', 4.0, 0], 'vergara-cundinamarca': ['vergara-cundinamarca', 'vergara', 'cundinamarca', 4.0, 0], 'vianí-cundinamarca': ['vianí-cundinamarca', 'vianí', 'cundinamarca', 0.0, 0], 'villagómez-cundinamarca': ['villagómez-cundinamarca', 'villagómez', 'cundinamarca', 7.0, 0], 'villapinzón-cundinamarca': ['villapinzón-cundinamarca', 'villapinzón', 'cundinamarca', 21.0, 0], 'villeta-cundinamarca': ['villeta-cundinamarca', 'villeta', 'cundinamarca', 85.0, 0], 'viotá-cundinamarca': ['viotá-cundinamarca', 'viotá', 'cundinamarca', 2.0, 0], 'yacopí-cundinamarca': ['yacopí-cundinamarca', 'yacopí', 'cundinamarca', 8.0, 0], 'zipacón-cundinamarca': ['zipacón-cundinamarca', 'zipacón', 'cundinamarca', 11.0, 0], 'zipaquirá-cundinamarca': ['zipaquirá-cundinamarca', 'zipaquirá', 'cundinamarca', 408.0, 0], 'chocó-chocó': ['chocó-chocó', 'chocó', 'chocó', 512.0, 0], 'quibdó-chocó': ['quibdó-chocó', 'quibdó', 'chocó', 397.0, 0], 'acandí-chocó': ['acandí-chocó', 'acandí', 'chocó', 2.0, 0], 'alto baudó-chocó': ['alto baudó-chocó', 'alto baudó', 'chocó', 3.0, 0], 'atrato-chocó': ['atrato-chocó', 'atrato', 'chocó', 9.0, 0], 'bagadó-chocó': ['bagadó-chocó', 'bagadó', 'chocó', 2.0, 0], 'bahía solano-chocó': ['bahía solano-chocó', 'bahía solano', 'chocó', 1.0, 0], 'bajo baudó-chocó': ['bajo baudó-chocó', 'bajo baudó', 'chocó', 4.0, 0], 'bojayá-chocó': ['bojayá-chocó', 'bojayá', 'chocó', 1.0, 0], 'el cantón del san pablo-chocó': ['el cantón del san pablo-chocó', 'el cantón del san pablo', 'chocó', 6.0, 0], 'carmen del darién-chocó': ['carmen del darién-chocó', 'carmen del darién', 'chocó', 0.0, 0], 'cértegui-chocó': ['cértegui-chocó', 'cértegui', 'chocó', 1.0, 0], 'condoto-chocó': ['condoto-chocó', 'condoto', 'chocó', 8.0, 0], 'el carmen de atrato-chocó': ['el carmen de atrato-chocó', 'el carmen de atrato', 'chocó', 0.0, 0], 'el litoral del san juan-chocó': ['el litoral del san juan-chocó', 'el litoral del san juan', 'chocó', 4.0, 0], 'istmina-chocó': ['istmina-chocó', 'istmina', 'chocó', 27.0, 0], 'juradó-chocó': ['juradó-chocó', 'juradó', 'chocó', 0.0, 0], 'lloró-chocó': ['lloró-chocó', 'lloró', 'chocó', 3.0, 0], 'medio atrato-chocó': ['medio atrato-chocó', 'medio atrato', 'chocó', 2.0, 0], 'medio baudó-chocó': ['medio baudó-chocó', 'medio baudó', 'chocó', 2.0, 0], 'medio san juan-chocó': ['medio san juan-chocó', 'medio san juan', 'chocó', 2.0, 0], 'nóvita-chocó': ['nóvita-chocó', 'nóvita', 'chocó', 1.0, 0], 'nuquí-chocó': ['nuquí-chocó', 'nuquí', 'chocó', 0, 0], 'río iró-chocó': ['río iró-chocó', 'río iró', 'chocó', 1.0, 0], 'río quito-chocó': ['río quito-chocó', 'río quito', 'chocó', 4.0, 0], 'riosucio-chocó': ['riosucio-chocó', 'riosucio', 'chocó', 0.0, 0], 'san josé del palmar-chocó': ['san josé del palmar-chocó', 'san josé del palmar', 'chocó', 6.0, 0], 'sipí-chocó': ['sipí-chocó', 'sipí', 'chocó', 0.0, 0], 'tadó-chocó': ['tadó-chocó', 'tadó', 'chocó', 20.0, 0], 'unguía-chocó': ['unguía-chocó', 'unguía', 'chocó', 2.0, 0], 'unión panamericana-chocó': ['unión panamericana-chocó', 'unión panamericana', 'chocó', 4.0, 0], 'huila-huila': ['huila-huila', 'huila', 'huila', 2699.0, 0], 'neiva-huila': ['neiva-huila', 'neiva', 'huila', 1617.0, 0], 'acevedo-huila': ['acevedo-huila', 'acevedo', 'huila', 76.0, 0], 'agrado-huila': ['agrado-huila', 'agrado', 'huila', 4.0, 0], 'aipe-huila': ['aipe-huila', 'aipe', 'huila', 33.0, 0], 'algeciras-huila': ['algeciras-huila', 'algeciras', 'huila', 19.0, 0], 'altamira-huila': ['altamira-huila', 'altamira', 'huila', 2.0, 0], 'baraya-huila': ['baraya-huila', 'baraya', 'huila', 14.0, 0], 'campoalegre-huila': ['campoalegre-huila', 'campoalegre', 'huila', 10.0, 0], 'colombia-huila': ['colombia-huila', 'colombia', 'huila', 7.0, 0], 'elías-huila': ['elías-huila', 'elías', 'huila', 2.0, 0], 'garzón-huila': ['garzón-huila', 'garzón', 'huila', 155.0, 0], 'gigante-huila': ['gigante-huila', 'gigante', 'huila', 4.0, 0], 'guadalupe-huila': ['guadalupe-huila', 'guadalupe', 'huila', 2.0, 0], 'hobo-huila': ['hobo-huila', 'hobo', 'huila', 0.0, 0], 'iquira-huila': ['iquira-huila', 'iquira', 'huila', 2.0, 0], 'isnos-huila': ['isnos-huila', 'isnos', 'huila', 26.0, 0], 'la argentina-huila': ['la argentina-huila', 'la argentina', 'huila', 13.0, 0], 'la plata-huila': ['la plata-huila', 'la plata', 'huila', 102.0, 0], 'nátaga-huila': ['nátaga-huila', 'nátaga', 'huila', 4.0, 0], 'oporapa-huila': ['oporapa-huila', 'oporapa', 'huila', 8.0, 0], 'paicol-huila': ['paicol-huila', 'paicol', 'huila', 14.0, 0], 'palermo-huila': ['palermo-huila', 'palermo', 'huila', 28.0, 0], 'palestina-huila': ['palestina-huila', 'palestina', 'huila', 12.0, 0], 'pital-huila': ['pital-huila', 'pital', 'huila', 22.0, 0], 'pitalito-huila': ['pitalito-huila', 'pitalito', 'huila', 301.0, 0], 'rivera-huila': ['rivera-huila', 'rivera', 'huila', 20.0, 0], 'saladoblanco-huila': ['saladoblanco-huila', 'saladoblanco', 'huila', 8.0, 0], 'san agustín-huila': ['san agustín-huila', 'san agustín', 'huila', 28.0, 0], 'santa maría-huila': ['santa maría-huila', 'santa maría', 'huila', 15.0, 0], 'suaza-huila': ['suaza-huila', 'suaza', 'huila', 25.0, 0], 'tarqui-huila': ['tarqui-huila', 'tarqui', 'huila', 2.0, 0], 'tesalia-huila': ['tesalia-huila', 'tesalia', 'huila', 12.0, 0], 'tello-huila': ['tello-huila', 'tello', 'huila', 20.0, 0], 'teruel-huila': ['teruel-huila', 'teruel', 'huila', 11.0, 0], 'timaná-huila': ['timaná-huila', 'timaná', 'huila', 43.0, 0], 'villavieja-huila': ['villavieja-huila', 'villavieja', 'huila', 7.0, 0], 'yaguará-huila': ['yaguará-huila', 'yaguará', 'huila', 31.0, 0], 'la guajira-la guajira': ['la guajira-la guajira', 'la guajira', 'la guajira', 1022.0, 0], 'riohacha-la guajira': ['riohacha-la guajira', 'riohacha', 'la guajira', 480.0, 0], 'albania-la guajira': ['albania-la guajira', 'albania', 'la guajira', 14.0, 0], 'barrancas-la guajira': ['barrancas-la guajira', 'barrancas', 'la guajira', 39.0, 0], 'dibulla-la guajira': ['dibulla-la guajira', 'dibulla', 'la guajira', 19.0, 0], 'distracción-la guajira': ['distracción-la guajira', 'distracción', 'la guajira', 10.0, 0], 'el molino-la guajira': ['el molino-la guajira', 'el molino', 'la guajira', 0.0, 0], 'fonseca-la guajira': ['fonseca-la guajira', 'fonseca', 'la guajira', 76.0, 0], 'hatonuevo-la guajira': ['hatonuevo-la guajira', 'hatonuevo', 'la guajira', 10.0, 0], 'la jagua del pilar-la guajira': ['la jagua del pilar-la guajira', 'la jagua del pilar', 'la guajira', 1.0, 0], 'maicao-la guajira': ['maicao-la guajira', 'maicao', 'la guajira', 318.0, 0], 'manaure-la guajira': ['manaure-la guajira', 'manaure', 'la guajira', 4.0, 0], 'san juan del cesar-la guajira': ['san juan del cesar-la guajira', 'san juan del cesar', 'la guajira', 22.0, 0], 'uribia-la guajira': ['uribia-la guajira', 'uribia', 'la guajira', 8.0, 0], 'urumita-la guajira': ['urumita-la guajira', 'urumita', 'la guajira', 6.0, 0], 'villanueva-la guajira': ['villanueva-la guajira', 'villanueva', 'la guajira', 15.0, 0], 'magdalena-magdalena': ['magdalena-magdalena', 'magdalena', 'magdalena', 2271.0, 0], 'santa marta-magdalena': ['santa marta-magdalena', 'santa marta', 'magdalena', 1328.0, 0], 'algarrobo-magdalena': ['algarrobo-magdalena', 'algarrobo', 'magdalena', 3.0, 0], 'aracataca-magdalena': ['aracataca-magdalena', 'aracataca', 'magdalena', 43.0, 0], 'ariguaní-magdalena': ['ariguaní-magdalena', 'ariguaní', 'magdalena', 12.0, 0], 'cerro san antonio-magdalena': ['cerro san antonio-magdalena', 'cerro san antonio', 'magdalena', 0, 0], 'chibolo-magdalena': ['chibolo-magdalena', 'chibolo', 'magdalena', 11.0, 0], 'ciénaga-magdalena': ['ciénaga-magdalena', 'ciénaga', 'magdalena', 322.0, 0], 'concordia-magdalena': ['concordia-magdalena', 'concordia', 'magdalena', 2.0, 0], 'el banco-magdalena': ['el banco-magdalena', 'el banco', 'magdalena', 102.0, 0], 'el piñón-magdalena': ['el piñón-magdalena', 'el piñón', 'magdalena', 0.0, 0], 'el retén-magdalena': ['el retén-magdalena', 'el retén', 'magdalena', 7.0, 0], 'fundación-magdalena': ['fundación-magdalena', 'fundación', 'magdalena', 131.0, 0], 'guamal-magdalena': ['guamal-magdalena', 'guamal', 'magdalena', 3.0, 0], 'nueva granada-magdalena': ['nueva granada-magdalena', 'nueva granada', 'magdalena', 8.0, 0], 'pedraza-magdalena': ['pedraza-magdalena', 'pedraza', 'magdalena', 1.0, 0], 'pijiño del carmen-magdalena': ['pijiño del carmen-magdalena', 'pijiño del carmen', 'magdalena', 1.0, 0], 'pivijay-magdalena': ['pivijay-magdalena', 'pivijay', 'magdalena', 4.0, 0], 'plato-magdalena': ['plato-magdalena', 'plato', 'magdalena', 148.0, 0], 'puebloviejo-magdalena': ['puebloviejo-magdalena', 'puebloviejo', 'magdalena', 24.0, 0], 'remolino-magdalena': ['remolino-magdalena', 'remolino', 'magdalena', 2.0, 0], 'sabanas de san ángel-magdalena': ['sabanas de san ángel-magdalena', 'sabanas de san ángel', 'magdalena', 2.0, 0], 'salamina-magdalena': ['salamina-magdalena', 'salamina', 'magdalena', 0.0, 0], 'san sebastián de buenavista-magdalena': ['san sebastián de buenavista-magdalena', 'san sebastián de buenavista', 'magdalena', 1.0, 0], 'san zenón-magdalena': ['san zenón-magdalena', 'san zenón', 'magdalena', 1.0, 0], 'santa ana-magdalena': ['santa ana-magdalena', 'santa ana', 'magdalena', 3.0, 0], 'santa bárbara de pinto-magdalena': ['santa bárbara de pinto-magdalena', 'santa bárbara de pinto', 'magdalena', 2.0, 0], 'sitionuevo-magdalena': ['sitionuevo-magdalena', 'sitionuevo', 'magdalena', 17.0, 0], 'tenerife-magdalena': ['tenerife-magdalena', 'tenerife', 'magdalena', 8.0, 0], 'zapayán-magdalena': ['zapayán-magdalena', 'zapayán', 'magdalena', 1.0, 0], 'zona bananera-magdalena': ['zona bananera-magdalena', 'zona bananera', 'magdalena', 84.0, 0], 'meta-meta': ['meta-meta', 'meta', 'meta', 2939.0, 0], 'villavicencio-meta': ['villavicencio-meta', 'villavicencio', 'meta', 2242.0, 0], 'acacías-meta': ['acacías-meta', 'acacías', 'meta', 172.0, 0], 'barranca de upía-meta': ['barranca de upía-meta', 'barranca de upía', 'meta', 22.0, 0], 'cabuyaro-meta': ['cabuyaro-meta', 'cabuyaro', 'meta', 6.0, 0], 'castilla la nueva-meta': ['castilla la nueva-meta', 'castilla la nueva', 'meta', 3.0, 0], 'cubarral-meta': ['cubarral-meta', 'cubarral', 'meta', 3.0, 0], 'cumaral-meta': ['cumaral-meta', 'cumaral', 'meta', 46.0, 0], 'el calvario-meta': ['el calvario-meta', 'el calvario', 'meta', 0, 0], 'el castillo-meta': ['el castillo-meta', 'el castillo', 'meta', 26.0, 0], 'el dorado-meta': ['el dorado-meta', 'el dorado', 'meta', 10.0, 0], 'fuente de oro-meta': ['fuente de oro-meta', 'fuente de oro', 'meta', 10.0, 0], 'granada-meta': ['granada-meta', 'granada', 'meta', 110.0, 0], 'guamal-meta': ['guamal-meta', 'guamal', 'meta', 11.0, 0], 'mapiripán-meta': ['mapiripán-meta', 'mapiripán', 'meta', 1.0, 0], 'mesetas-meta': ['mesetas-meta', 'mesetas', 'meta', 3.0, 0], 'la macarena-meta': ['la macarena-meta', 'la macarena', 'meta', 10.0, 0], 'uribe-meta': ['uribe-meta', 'uribe', 'meta', 4.0, 0], 'lejanías-meta': ['lejanías-meta', 'lejanías', 'meta', 20.0, 0], 'puerto concordia-meta': ['puerto concordia-meta', 'puerto concordia', 'meta', 8.0, 0], 'puerto gaitán-meta': ['puerto gaitán-meta', 'puerto gaitán', 'meta', 49.0, 0], 'puerto lópez-meta': ['puerto lópez-meta', 'puerto lópez', 'meta', 80.0, 0], 'puerto lleras-meta': ['puerto lleras-meta', 'puerto lleras', 'meta', 8.0, 0], 'puerto rico-meta': ['puerto rico-meta', 'puerto rico', 'meta', 4.0, 0], 'restrepo-meta': ['restrepo-meta', 'restrepo', 'meta', 42.0, 0], 'san carlos de guaroa-meta': ['san carlos de guaroa-meta', 'san carlos de guaroa', 'meta', 10.0, 0], 'san juan de arama-meta': ['san juan de arama-meta', 'san juan de arama', 'meta', 8.0, 0], 'san juanito-meta': ['san juanito-meta', 'san juanito', 'meta', 4.0, 0], 'san martín-meta': ['san martín-meta', 'san martín', 'meta', 9.0, 0], 'vistahermosa-meta': ['vistahermosa-meta', 'vistahermosa', 'meta', 18.0, 0], 'nariño-nariño': ['nariño-nariño', 'nariño', 'nariño', 2049.0, 0], 'pasto-nariño': ['pasto-nariño', 'pasto', 'nariño', 1076.0, 0], 'albán-nariño': ['albán-nariño', 'albán', 'nariño', 1.0, 0], 'aldana-nariño': ['aldana-nariño', 'aldana', 'nariño', 6.0, 0], 'ancuyá-nariño': ['ancuyá-nariño', 'ancuyá', 'nariño', 2.0, 0], 'arboleda-nariño': ['arboleda-nariño', 'arboleda', 'nariño', 1.0, 0], 'barbacoas-nariño': ['barbacoas-nariño', 'barbacoas', 'nariño', 8.0, 0], 'belén-nariño': ['belén-nariño', 'belén', 'nariño', 1.0, 0], 'buesaco-nariño': ['buesaco-nariño', 'buesaco', 'nariño', 6.0, 0], 'colón-nariño': ['colón-nariño', 'colón', 'nariño', 2.0, 0], 'consacá-nariño': ['consacá-nariño', 'consacá', 'nariño', 3.0, 0], 'contadero-nariño': ['contadero-nariño', 'contadero', 'nariño', 3.0, 0], 'córdoba-nariño': ['córdoba-nariño', 'córdoba', 'nariño', 3.0, 0], 'cuaspud-nariño': ['cuaspud-nariño', 'cuaspud', 'nariño', 3.0, 0], 'cumbal-nariño': ['cumbal-nariño', 'cumbal', 'nariño', 3.0, 0], 'cumbitara-nariño': ['cumbitara-nariño', 'cumbitara', 'nariño', 2.0, 0], 'chachagüí-nariño': ['chachagüí-nariño', 'chachagüí', 'nariño', 8.0, 0], 'el charco-nariño': ['el charco-nariño', 'el charco', 'nariño', 0.0, 0], 'el peñol-nariño': ['el peñol-nariño', 'el peñol', 'nariño', 0.0, 0], 'el rosario-nariño': ['el rosario-nariño', 'el rosario', 'nariño', 2.0, 0], 'el tablón de gómez-nariño': ['el tablón de gómez-nariño', 'el tablón de gómez', 'nariño', 0.0, 0], 'el tambo-nariño': ['el tambo-nariño', 'el tambo', 'nariño', 5.0, 0], 'funes-nariño': ['funes-nariño', 'funes', 'nariño', 2.0, 0], 'guachucal-nariño': ['guachucal-nariño', 'guachucal', 'nariño', 3.0, 0], 'guaitarilla-nariño': ['guaitarilla-nariño', 'guaitarilla', 'nariño', 7.0, 0], 'gualmatán-nariño': ['gualmatán-nariño', 'gualmatán', 'nariño', 2.0, 0], 'iles-nariño': ['iles-nariño', 'iles', 'nariño', 3.0, 0], 'imués-nariño': ['imués-nariño', 'imués', 'nariño', 7.0, 0], 'ipiales-nariño': ['ipiales-nariño', 'ipiales', 'nariño', 322.0, 0], 'la cruz-nariño': ['la cruz-nariño', 'la cruz', 'nariño', 2.0, 0], 'la florida-nariño': ['la florida-nariño', 'la florida', 'nariño', 5.0, 0], 'la llanada-nariño': ['la llanada-nariño', 'la llanada', 'nariño', 1.0, 0], 'la tola-nariño': ['la tola-nariño', 'la tola', 'nariño', 0.0, 0], 'la unión-nariño': ['la unión-nariño', 'la unión', 'nariño', 5.0, 0], 'leiva-nariño': ['leiva-nariño', 'leiva', 'nariño', 0.0, 0], 'linares-nariño': ['linares-nariño', 'linares', 'nariño', 0.0, 0], 'los andes-nariño': ['los andes-nariño', 'los andes', 'nariño', 2.0, 0], 'magüi-nariño': ['magüi-nariño', 'magüi', 'nariño', 0.0, 0], 'mallama-nariño': ['mallama-nariño', 'mallama', 'nariño', 2.0, 0], 'mosquera-nariño': ['mosquera-nariño', 'mosquera', 'nariño', 0, 0], 'olaya herrera-nariño': ['olaya herrera-nariño', 'olaya herrera', 'nariño', 0.0, 0], 'ospina-nariño': ['ospina-nariño', 'ospina', 'nariño', 0.0, 0], 'francisco pizarro-nariño': ['francisco pizarro-nariño', 'francisco pizarro', 'nariño', 4.0, 0], 'policarpa-nariño': ['policarpa-nariño', 'policarpa', 'nariño', 0.0, 0], 'potosí-nariño': ['potosí-nariño', 'potosí', 'nariño', 6.0, 0], 'providencia-nariño': ['providencia-nariño', 'providencia', 'nariño', 0.0, 0], 'puerres-nariño': ['puerres-nariño', 'puerres', 'nariño', 4.0, 0], 'pupiales-nariño': ['pupiales-nariño', 'pupiales', 'nariño', 5.0, 0], 'ricaurte-nariño': ['ricaurte-nariño', 'ricaurte', 'nariño', 6.0, 0], 'roberto payán-nariño': ['roberto payán-nariño', 'roberto payán', 'nariño', 0.0, 0], 'samaniego-nariño': ['samaniego-nariño', 'samaniego', 'nariño', 2.0, 0], 'sandoná-nariño': ['sandoná-nariño', 'sandoná', 'nariño', 2.0, 0], 'san bernardo-nariño': ['san bernardo-nariño', 'san bernardo', 'nariño', 0.0, 0], 'san lorenzo-nariño': ['san lorenzo-nariño', 'san lorenzo', 'nariño', 1.0, 0], 'san pablo-nariño': ['san pablo-nariño', 'san pablo', 'nariño', 1.0, 0], 'san pedro de cartago-nariño': ['san pedro de cartago-nariño', 'san pedro de cartago', 'nariño', 0.0, 0], 'santa bárbara-nariño': ['santa bárbara-nariño', 'santa bárbara', 'nariño', 0, 0], 'santacruz-nariño': ['santacruz-nariño', 'santacruz', 'nariño', 3.0, 0], 'sapuyes-nariño': ['sapuyes-nariño', 'sapuyes', 'nariño', 5.0, 0], 'taminango-nariño': ['taminango-nariño', 'taminango', 'nariño', 7.0, 0], 'tangua-nariño': ['tangua-nariño', 'tangua', 'nariño', 7.0, 0], 'san andrés de tumaco-nariño': ['san andrés de tumaco-nariño', 'san andrés de tumaco', 'nariño', 420.0, 0], 'túquerres-nariño': ['túquerres-nariño', 'túquerres', 'nariño', 69.0, 0], 'yacuanquer-nariño': ['yacuanquer-nariño', 'yacuanquer', 'nariño', 5.0, 0], 'norte de santander-norte de santander': ['norte de santander-norte de santander', 'norte de santander', 'norte de santander', 2562.0, 0], 'cúcuta-norte de santander': ['cúcuta-norte de santander', 'cúcuta', 'norte de santander', 1770.0, 0], 'ábrego-norte de santander': ['ábrego-norte de santander', 'ábrego', 'norte de santander', 11.0, 0], 'arboledas-norte de santander': ['arboledas-norte de santander', 'arboledas', 'norte de santander', 2.0, 0], 'bochalema-norte de santander': ['bochalema-norte de santander', 'bochalema', 'norte de santander', 9.0, 0], 'bucarasica-norte de santander': ['bucarasica-norte de santander', 'bucarasica', 'norte de santander', 2.0, 0], 'cácota-norte de santander': ['cácota-norte de santander', 'cácota', 'norte de santander', 9.0, 0], 'cachirá-norte de santander': ['cachirá-norte de santander', 'cachirá', 'norte de santander', 4.0, 0], 'chinácota-norte de santander': ['chinácota-norte de santander', 'chinácota', 'norte de santander', 10.0, 0], 'chitagá-norte de santander': ['chitagá-norte de santander', 'chitagá', 'norte de santander', 10.0, 0], 'convención-norte de santander': ['convención-norte de santander', 'convención', 'norte de santander', 7.0, 0], 'cucutilla-norte de santander': ['cucutilla-norte de santander', 'cucutilla', 'norte de santander', 8.0, 0], 'durania-norte de santander': ['durania-norte de santander', 'durania', 'norte de santander', 2.0, 0], 'el carmen-norte de santander': ['el carmen-norte de santander', 'el carmen', 'norte de santander', 5.0, 0], 'el tarra-norte de santander': ['el tarra-norte de santander', 'el tarra', 'norte de santander', 2.0, 0], 'el zulia-norte de santander': ['el zulia-norte de santander', 'el zulia', 'norte de santander', 41.0, 0], 'gramalote-norte de santander': ['gramalote-norte de santander', 'gramalote', 'norte de santander', 1.0, 0], 'hacarí-norte de santander': ['hacarí-norte de santander', 'hacarí', 'norte de santander', 3.0, 0], 'herrán-norte de santander': ['herrán-norte de santander', 'herrán', 'norte de santander', 0, 0], 'labateca-norte de santander': ['labateca-norte de santander', 'labateca', 'norte de santander', 5.0, 0], 'la esperanza-norte de santander': ['la esperanza-norte de santander', 'la esperanza', 'norte de santander', 4.0, 0], 'la playa-norte de santander': ['la playa-norte de santander', 'la playa', 'norte de santander', 2.0, 0], 'los patios-norte de santander': ['los patios-norte de santander', 'los patios', 'norte de santander', 141.0, 0], 'lourdes-norte de santander': ['lourdes-norte de santander', 'lourdes', 'norte de santander', 5.0, 0], 'mutiscua-norte de santander': ['mutiscua-norte de santander', 'mutiscua', 'norte de santander', 3.0, 0], 'ocaña-norte de santander': ['ocaña-norte de santander', 'ocaña', 'norte de santander', 122.0, 0], 'pamplona-norte de santander': ['pamplona-norte de santander', 'pamplona', 'norte de santander', 148.0, 0], 'pamplonita-norte de santander': ['pamplonita-norte de santander', 'pamplonita', 'norte de santander', 8.0, 0], 'puerto santander-norte de santander': ['puerto santander-norte de santander', 'puerto santander', 'norte de santander', 13.0, 0], 'ragonvalia-norte de santander': ['ragonvalia-norte de santander', 'ragonvalia', 'norte de santander', 4.0, 0], 'salazar-norte de santander': ['salazar-norte de santander', 'salazar', 'norte de santander', 3.0, 0], 'san calixto-norte de santander': ['san calixto-norte de santander', 'san calixto', 'norte de santander', 2.0, 0], 'san cayetano-norte de santander': ['san cayetano-norte de santander', 'san cayetano', 'norte de santander', 7.0, 0], 'santiago-norte de santander': ['santiago-norte de santander', 'santiago', 'norte de santander', 2.0, 0], 'sardinata-norte de santander': ['sardinata-norte de santander', 'sardinata', 'norte de santander', 6.0, 0], 'silos-norte de santander': ['silos-norte de santander', 'silos', 'norte de santander', 0, 0], 'teorama-norte de santander': ['teorama-norte de santander', 'teorama', 'norte de santander', 5.0, 0], 'tibú-norte de santander': ['tibú-norte de santander', 'tibú', 'norte de santander', 23.0, 0], 'toledo-norte de santander': ['toledo-norte de santander', 'toledo', 'norte de santander', 9.0, 0], 'villa caro-norte de santander': ['villa caro-norte de santander', 'villa caro', 'norte de santander', 2.0, 0], 'villa del rosario-norte de santander': ['villa del rosario-norte de santander', 'villa del rosario', 'norte de santander', 152.0, 0], 'quindío-quindío': ['quindío-quindío', 'quindío', 'quindío', 1188.0, 0], 'armenia-quindío': ['armenia-quindío', 'armenia', 'quindío', 698.0, 0], 'buenavista-quindío': ['buenavista-quindío', 'buenavista', 'quindío', 1.0, 0], 'calarcá-quindío': ['calarcá-quindío', 'calarcá', 'quindío', 183.0, 0], 'circasia-quindío': ['circasia-quindío', 'circasia', 'quindío', 39.0, 0], 'córdoba-quindío': ['córdoba-quindío', 'córdoba', 'quindío', 1.0, 0], 'filandia-quindío': ['filandia-quindío', 'filandia', 'quindío', 15.0, 0], 'génova-quindío': ['génova-quindío', 'génova', 'quindío', 5.0, 0], 'la tebaida-quindío': ['la tebaida-quindío', 'la tebaida', 'quindío', 93.0, 0], 'montenegro-quindío': ['montenegro-quindío', 'montenegro', 'quindío', 97.0, 0], 'pijao-quindío': ['pijao-quindío', 'pijao', 'quindío', 7.0, 0], 'quimbaya-quindío': ['quimbaya-quindío', 'quimbaya', 'quindío', 37.0, 0], 'salento-quindío': ['salento-quindío', 'salento', 'quindío', 12.0, 0], 'risaralda-risaralda': ['risaralda-risaralda', 'risaralda', 'risaralda', 1659.0, 0], 'pereira-risaralda': ['pereira-risaralda', 'pereira', 'risaralda', 1061.0, 0], 'apía-risaralda': ['apía-risaralda', 'apía', 'risaralda', 35.0, 0], 'balboa-risaralda': ['balboa-risaralda', 'balboa', 'risaralda', 6.0, 0], 'belén de umbría-risaralda': ['belén de umbría-risaralda', 'belén de umbría', 'risaralda', 43.0, 0], 'dosquebradas-risaralda': ['dosquebradas-risaralda', 'dosquebradas', 'risaralda', 284.0, 0], 'guática-risaralda': ['guática-risaralda', 'guática', 'risaralda', 7.0, 0], 'la celia-risaralda': ['la celia-risaralda', 'la celia', 'risaralda', 2.0, 0], 'la virginia-risaralda': ['la virginia-risaralda', 'la virginia', 'risaralda', 67.0, 0], 'marsella-risaralda': ['marsella-risaralda', 'marsella', 'risaralda', 30.0, 0], 'mistrató-risaralda': ['mistrató-risaralda', 'mistrató', 'risaralda', 4.0, 0], 'pueblo rico-risaralda': ['pueblo rico-risaralda', 'pueblo rico', 'risaralda', 8.0, 0], 'quinchía-risaralda': ['quinchía-risaralda', 'quinchía', 'risaralda', 4.0, 0], 'santa rosa de cabal-risaralda': ['santa rosa de cabal-risaralda', 'santa rosa de cabal', 'risaralda', 99.0, 0], 'santuario-risaralda': ['santuario-risaralda', 'santuario', 'risaralda', 9.0, 0], 'santander-santander': ['santander-santander', 'santander', 'santander', 4197.0, 0], 'bucaramanga-santander': ['bucaramanga-santander', 'bucaramanga', 'santander', 1291.0, 0], 'aguada-santander': ['aguada-santander', 'aguada', 'santander', 1.0, 0], 'albania-santander': ['albania-santander', 'albania', 'santander', 3.0, 0], 'aratoca-santander': ['aratoca-santander', 'aratoca', 'santander', 8.0, 0], 'barbosa-santander': ['barbosa-santander', 'barbosa', 'santander', 84.0, 0], 'barichara-santander': ['barichara-santander', 'barichara', 'santander', 0.0, 0], 'barrancabermeja-santander': ['barrancabermeja-santander', 'barrancabermeja', 'santander', 958.0, 0], 'betulia-santander': ['betulia-santander', 'betulia', 'santander', 1.0, 0], 'bolívar-santander': ['bolívar-santander', 'bolívar', 'santander', 2.0, 0], 'cabrera-santander': ['cabrera-santander', 'cabrera', 'santander', 1.0, 0], 'california-santander': ['california-santander', 'california', 'santander', 2.0, 0], 'capitanejo-santander': ['capitanejo-santander', 'capitanejo', 'santander', 9.0, 0], 'carcasí-santander': ['carcasí-santander', 'carcasí', 'santander', 0.0, 0], 'cepitá-santander': ['cepitá-santander', 'cepitá', 'santander', 2.0, 0], 'cerrito-santander': ['cerrito-santander', 'cerrito', 'santander', 1.0, 0], 'charalá-santander': ['charalá-santander', 'charalá', 'santander', 3.0, 0], 'charta-santander': ['charta-santander', 'charta', 'santander', 2.0, 0], 'chima-santander': ['chima-santander', 'chima', 'santander', 2.0, 0], 'chipatá-santander': ['chipatá-santander', 'chipatá', 'santander', 1.0, 0], 'cimitarra-santander': ['cimitarra-santander', 'cimitarra', 'santander', 82.0, 0], 'concepción-santander': ['concepción-santander', 'concepción', 'santander', 5.0, 0], 'confines-santander': ['confines-santander', 'confines', 'santander', 4.0, 0], 'contratación-santander': ['contratación-santander', 'contratación', 'santander', 3.0, 0], 'coromoro-santander': ['coromoro-santander', 'coromoro', 'santander', 1.0, 0], 'curití-santander': ['curití-santander', 'curití', 'santander', 11.0, 0], 'el carmen de chucurí-santander': ['el carmen de chucurí-santander', 'el carmen de chucurí', 'santander', 1.0, 0], 'el guacamayo-santander': ['el guacamayo-santander', 'el guacamayo', 'santander', 0, 0], 'el peñón-santander': ['el peñón-santander', 'el peñón', 'santander', 1.0, 0], 'el playón-santander': ['el playón-santander', 'el playón', 'santander', 14.0, 0], 'encino-santander': ['encino-santander', 'encino', 'santander', 2.0, 0], 'enciso-santander': ['enciso-santander', 'enciso', 'santander', 3.0, 0], 'florián-santander': ['florián-santander', 'florián', 'santander', 7.0, 0], 'floridablanca-santander': ['floridablanca-santander', 'floridablanca', 'santander', 553.0, 0], 'galán-santander': ['galán-santander', 'galán', 'santander', 1.0, 0], 'gámbita-santander': ['gámbita-santander', 'gámbita', 'santander', 7.0, 0], 'girón-santander': ['girón-santander', 'girón', 'santander', 341.0, 0], 'guaca-santander': ['guaca-santander', 'guaca', 'santander', 2.0, 0], 'guadalupe-santander': ['guadalupe-santander', 'guadalupe', 'santander', 0, 0], 'guapotá-santander': ['guapotá-santander', 'guapotá', 'santander', 1.0, 0], 'guavatá-santander': ['guavatá-santander', 'guavatá', 'santander', 1.0, 0], 'güepsa-santander': ['güepsa-santander', 'güepsa', 'santander', 17.0, 0], 'hato-santander': ['hato-santander', 'hato', 'santander', 0, 0], 'jesús maría-santander': ['jesús maría-santander', 'jesús maría', 'santander', 1.0, 0], 'jordán-santander': ['jordán-santander', 'jordán', 'santander', 0, 0], 'la belleza-santander': ['la belleza-santander', 'la belleza', 'santander', 3.0, 0], 'landázuri-santander': ['landázuri-santander', 'landázuri', 'santander', 7.0, 0], 'la paz-santander': ['la paz-santander', 'la paz', 'santander', 9.0, 0], 'lebrija-santander': ['lebrija-santander', 'lebrija', 'santander', 46.0, 0], 'los santos-santander': ['los santos-santander', 'los santos', 'santander', 4.0, 0], 'macaravita-santander': ['macaravita-santander', 'macaravita', 'santander', 0, 0], 'málaga-santander': ['málaga-santander', 'málaga', 'santander', 33.0, 0], 'matanza-santander': ['matanza-santander', 'matanza', 'santander', 1.0, 0], 'mogotes-santander': ['mogotes-santander', 'mogotes', 'santander', 3.0, 0], 'molagavita-santander': ['molagavita-santander', 'molagavita', 'santander', 1.0, 0], 'ocamonte-santander': ['ocamonte-santander', 'ocamonte', 'santander', 4.0, 0], 'oiba-santander': ['oiba-santander', 'oiba', 'santander', 6.0, 0], 'onzaga-santander': ['onzaga-santander', 'onzaga', 'santander', 8.0, 0], 'palmar-santander': ['palmar-santander', 'palmar', 'santander', 0, 0], 'palmas del socorro-santander': ['palmas del socorro-santander', 'palmas del socorro', 'santander', 0, 0], 'páramo-santander': ['páramo-santander', 'páramo', 'santander', 2.0, 0], 'piedecuesta-santander': ['piedecuesta-santander', 'piedecuesta', 'santander', 214.0, 0], 'pinchote-santander': ['pinchote-santander', 'pinchote', 'santander', 4.0, 0], 'puente nacional-santander': ['puente nacional-santander', 'puente nacional', 'santander', 12.0, 0], 'puerto parra-santander': ['puerto parra-santander', 'puerto parra', 'santander', 17.0, 0], 'puerto wilches-santander': ['puerto wilches-santander', 'puerto wilches', 'santander', 31.0, 0], 'rionegro-santander': ['rionegro-santander', 'rionegro', 'santander', 43.0, 0], 'sabana de torres-santander': ['sabana de torres-santander', 'sabana de torres', 'santander', 50.0, 0], 'san andrés-santander': ['san andrés-santander', 'san andrés', 'santander', 3.0, 0], 'san benito-santander': ['san benito-santander', 'san benito', 'santander', 0, 0], 'san gil-santander': ['san gil-santander', 'san gil', 'santander', 145.0, 0], 'san joaquín-santander': ['san joaquín-santander', 'san joaquín', 'santander', 0, 0], 'san josé de miranda-santander': ['san josé de miranda-santander', 'san josé de miranda', 'santander', 2.0, 0], 'san miguel-santander': ['san miguel-santander', 'san miguel', 'santander', 0, 0], 'san vicente de chucurí-santander': ['san vicente de chucurí-santander', 'san vicente de chucurí', 'santander', 29.0, 0], 'santa bárbara-santander': ['santa bárbara-santander', 'santa bárbara', 'santander', 1.0, 0], 'santa helena del opón-santander': ['santa helena del opón-santander', 'santa helena del opón', 'santander', 4.0, 0], 'simacota-santander': ['simacota-santander', 'simacota', 'santander', 5.0, 0], 'socorro-santander': ['socorro-santander', 'socorro', 'santander', 5.0, 0], 'suaita-santander': ['suaita-santander', 'suaita', 'santander', 18.0, 0], 'sucre-santander': ['sucre-santander', 'sucre', 'santander', 5.0, 0], 'suratá-santander': ['suratá-santander', 'suratá', 'santander', 2.0, 0], 'tona-santander': ['tona-santander', 'tona', 'santander', 6.0, 0], 'valle de san josé-santander': ['valle de san josé-santander', 'valle de san josé', 'santander', 6.0, 0], 'vélez-santander': ['vélez-santander', 'vélez', 'santander', 32.0, 0], 'vetas-santander': ['vetas-santander', 'vetas', 'santander', 1.0, 0], 'villanueva-santander': ['villanueva-santander', 'villanueva', 'santander', 5.0, 0], 'zapatoca-santander': ['zapatoca-santander', 'zapatoca', 'santander', 1.0, 0], 'sucre-sucre': ['sucre-sucre', 'sucre', 'sucre', 1250.0, 0], 'sincelejo-sucre': ['sincelejo-sucre', 'sincelejo', 'sucre', 739.0, 0], 'buenavista-sucre': ['buenavista-sucre', 'buenavista', 'sucre', 4.0, 0], 'caimito-sucre': ['caimito-sucre', 'caimito', 'sucre', 1.0, 0], 'colosó-sucre': ['colosó-sucre', 'colosó', 'sucre', 5.0, 0], 'corozal-sucre': ['corozal-sucre', 'corozal', 'sucre', 135.0, 0], 'coveñas-sucre': ['coveñas-sucre', 'coveñas', 'sucre', 34.0, 0], 'chalán-sucre': ['chalán-sucre', 'chalán', 'sucre', 5.0, 0], 'el roble-sucre': ['el roble-sucre', 'el roble', 'sucre', 2.0, 0], 'galeras-sucre': ['galeras-sucre', 'galeras', 'sucre', 8.0, 0], 'guaranda-sucre': ['guaranda-sucre', 'guaranda', 'sucre', 0.0, 0], 'la unión-sucre': ['la unión-sucre', 'la unión', 'sucre', 0.0, 0], 'los palmitos-sucre': ['los palmitos-sucre', 'los palmitos', 'sucre', 22.0, 0], 'majagual-sucre': ['majagual-sucre', 'majagual', 'sucre', 0.0, 0], 'morroa-sucre': ['morroa-sucre', 'morroa', 'sucre', 23.0, 0], 'ovejas-sucre': ['ovejas-sucre', 'ovejas', 'sucre', 17.0, 0], 'palmito-sucre': ['palmito-sucre', 'palmito', 'sucre', 4.0, 0], 'sampués-sucre': ['sampués-sucre', 'sampués', 'sucre', 36.0, 0], 'san benito abad-sucre': ['san benito abad-sucre', 'san benito abad', 'sucre', 11.0, 0], 'san juan de betulia-sucre': ['san juan de betulia-sucre', 'san juan de betulia', 'sucre', 15.0, 0], 'san marcos-sucre': ['san marcos-sucre', 'san marcos', 'sucre', 4.0, 0], 'san onofre-sucre': ['san onofre-sucre', 'san onofre', 'sucre', 12.0, 0], 'san pedro-sucre': ['san pedro-sucre', 'san pedro', 'sucre', 5.0, 0], 'san luis de sincé-sucre': ['san luis de sincé-sucre', 'san luis de sincé', 'sucre', 21.0, 0], 'santiago de tolú-sucre': ['santiago de tolú-sucre', 'santiago de tolú', 'sucre', 124.0, 0], 'tolú viejo-sucre': ['tolú viejo-sucre', 'tolú viejo', 'sucre', 17.0, 0], 'tolima-tolima': ['tolima-tolima', 'tolima', 'tolima', 2206.0, 0], 'ibagué-tolima': ['ibagué-tolima', 'ibagué', 'tolima', 1554.0, 0], 'alpujarra-tolima': ['alpujarra-tolima', 'alpujarra', 'tolima', 1.0, 0], 'alvarado-tolima': ['alvarado-tolima', 'alvarado', 'tolima', 2.0, 0], 'ambalema-tolima': ['ambalema-tolima', 'ambalema', 'tolima', 1.0, 0], 'anzoátegui-tolima': ['anzoátegui-tolima', 'anzoátegui', 'tolima', 2.0, 0], 'armero-tolima': ['armero-tolima', 'armero', 'tolima', 19.0, 0], 'ataco-tolima': ['ataco-tolima', 'ataco', 'tolima', 1.0, 0], 'cajamarca-tolima': ['cajamarca-tolima', 'cajamarca', 'tolima', 13.0, 0], 'carmen de apicalá-tolima': ['carmen de apicalá-tolima', 'carmen de apicalá', 'tolima', 7.0, 0], 'casabianca-tolima': ['casabianca-tolima', 'casabianca', 'tolima', 1.0, 0], 'chaparral-tolima': ['chaparral-tolima', 'chaparral', 'tolima', 138.0, 0], 'coello-tolima': ['coello-tolima', 'coello', 'tolima', 7.0, 0], 'coyaima-tolima': ['coyaima-tolima', 'coyaima', 'tolima', 3.0, 0], 'cunday-tolima': ['cunday-tolima', 'cunday', 'tolima', 2.0, 0], 'dolores-tolima': ['dolores-tolima', 'dolores', 'tolima', 2.0, 0], 'espinal-tolima': ['espinal-tolima', 'espinal', 'tolima', 149.0, 0], 'falan-tolima': ['falan-tolima', 'falan', 'tolima', 0.0, 0], 'flandes-tolima': ['flandes-tolima', 'flandes', 'tolima', 18.0, 0], 'fresno-tolima': ['fresno-tolima', 'fresno', 'tolima', 2.0, 0], 'guamo-tolima': ['guamo-tolima', 'guamo', 'tolima', 9.0, 0], 'herveo-tolima': ['herveo-tolima', 'herveo', 'tolima', 1.0, 0], 'honda-tolima': ['honda-tolima', 'honda', 'tolima', 53.0, 0], 'icononzo-tolima': ['icononzo-tolima', 'icononzo', 'tolima', 1.0, 0], 'lérida-tolima': ['lérida-tolima', 'lérida', 'tolima', 8.0, 0], 'líbano-tolima': ['líbano-tolima', 'líbano', 'tolima', 39.0, 0], 'san sebastián de mariquita-tolima': ['san sebastián de mariquita-tolima', 'san sebastián de mariquita', 'tolima', 94.0, 0], 'melgar-tolima': ['melgar-tolima', 'melgar', 'tolima', 25.0, 0], 'murillo-tolima': ['murillo-tolima', 'murillo', 'tolima', 1.0, 0], 'natagaima-tolima': ['natagaima-tolima', 'natagaima', 'tolima', 6.0, 0], 'ortega-tolima': ['ortega-tolima', 'ortega', 'tolima', 3.0, 0], 'palocabildo-tolima': ['palocabildo-tolima', 'palocabildo', 'tolima', 3.0, 0], 'piedras-tolima': ['piedras-tolima', 'piedras', 'tolima', 1.0, 0], 'planadas-tolima': ['planadas-tolima', 'planadas', 'tolima', 4.0, 0], 'prado-tolima': ['prado-tolima', 'prado', 'tolima', 0, 0], 'purificación-tolima': ['purificación-tolima', 'purificación', 'tolima', 4.0, 0], 'rioblanco-tolima': ['rioblanco-tolima', 'rioblanco', 'tolima', 6.0, 0], 'roncesvalles-tolima': ['roncesvalles-tolima', 'roncesvalles', 'tolima', 0.0, 0], 'rovira-tolima': ['rovira-tolima', 'rovira', 'tolima', 8.0, 0], 'saldaña-tolima': ['saldaña-tolima', 'saldaña', 'tolima', 2.0, 0], 'san antonio-tolima': ['san antonio-tolima', 'san antonio', 'tolima', 1.0, 0], 'san luis-tolima': ['san luis-tolima', 'san luis', 'tolima', 4.0, 0], 'santa isabel-tolima': ['santa isabel-tolima', 'santa isabel', 'tolima', 2.0, 0], 'suárez-tolima': ['suárez-tolima', 'suárez', 'tolima', 2.0, 0], 'valle de san juan-tolima': ['valle de san juan-tolima', 'valle de san juan', 'tolima', 0, 0], 'venadillo-tolima': ['venadillo-tolima', 'venadillo', 'tolima', 3.0, 0], 'villahermosa-tolima': ['villahermosa-tolima', 'villahermosa', 'tolima', 1.0, 0], 'villarrica-tolima': ['villarrica-tolima', 'villarrica', 'tolima', 3.0, 0], 'valle del cauca-valle del cauca': ['valle del cauca-valle del cauca', 'valle del cauca', 'valle del cauca', 6773.0, 0], 'cali-valle del cauca': ['cali-valle del cauca', 'cali', 'valle del cauca', 3437.0, 0], 'alcalá-valle del cauca': ['alcalá-valle del cauca', 'alcalá', 'valle del cauca', 5.0, 0], 'andalucía-valle del cauca': ['andalucía-valle del cauca', 'andalucía', 'valle del cauca', 9.0, 0], 'ansermanuevo-valle del cauca': ['ansermanuevo-valle del cauca', 'ansermanuevo', 'valle del cauca', 20.0, 0], 'argelia-valle del cauca': ['argelia-valle del cauca', 'argelia', 'valle del cauca', 0.0, 0], 'bolívar-valle del cauca': ['bolívar-valle del cauca', 'bolívar', 'valle del cauca', 21.0, 0], 'buenaventura-valle del cauca': ['buenaventura-valle del cauca', 'buenaventura', 'valle del cauca', 525.0, 0], 'guadalajara de buga-valle del cauca': ['guadalajara de buga-valle del cauca', 'guadalajara de buga', 'valle del cauca', 334.0, 0], 'bugalagrande-valle del cauca': ['bugalagrande-valle del cauca', 'bugalagrande', 'valle del cauca', 11.0, 0], 'caicedonia-valle del cauca': ['caicedonia-valle del cauca', 'caicedonia', 'valle del cauca', 49.0, 0], 'calima-valle del cauca': ['calima-valle del cauca', 'calima', 'valle del cauca', 12.0, 0], 'candelaria-valle del cauca': ['candelaria-valle del cauca', 'candelaria', 'valle del cauca', 127.0, 0], 'cartago-valle del cauca': ['cartago-valle del cauca', 'cartago', 'valle del cauca', 275.0, 0], 'dagua-valle del cauca': ['dagua-valle del cauca', 'dagua', 'valle del cauca', 46.0, 0], 'el águila-valle del cauca': ['el águila-valle del cauca', 'el águila', 'valle del cauca', 7.0, 0], 'el cairo-valle del cauca': ['el cairo-valle del cauca', 'el cairo', 'valle del cauca', 6.0, 0], 'el cerrito-valle del cauca': ['el cerrito-valle del cauca', 'el cerrito', 'valle del cauca', 82.0, 0], 'el dovio-valle del cauca': ['el dovio-valle del cauca', 'el dovio', 'valle del cauca', 6.0, 0], 'florida-valle del cauca': ['florida-valle del cauca', 'florida', 'valle del cauca', 44.0, 0], 'ginebra-valle del cauca': ['ginebra-valle del cauca', 'ginebra', 'valle del cauca', 20.0, 0], 'guacarí-valle del cauca': ['guacarí-valle del cauca', 'guacarí', 'valle del cauca', 89.0, 0], 'jamundí-valle del cauca': ['jamundí-valle del cauca', 'jamundí', 'valle del cauca', 143.0, 0], 'la cumbre-valle del cauca': ['la cumbre-valle del cauca', 'la cumbre', 'valle del cauca', 5.0, 0], 'la unión-valle del cauca': ['la unión-valle del cauca', 'la unión', 'valle del cauca', 41.0, 0], 'la victoria-valle del cauca': ['la victoria-valle del cauca', 'la victoria', 'valle del cauca', 3.0, 0], 'obando-valle del cauca': ['obando-valle del cauca', 'obando', 'valle del cauca', 16.0, 0], 'palmira-valle del cauca': ['palmira-valle del cauca', 'palmira', 'valle del cauca', 741.0, 0], 'pradera-valle del cauca': ['pradera-valle del cauca', 'pradera', 'valle del cauca', 60.0, 0], 'restrepo-valle del cauca': ['restrepo-valle del cauca', 'restrepo', 'valle del cauca', 9.0, 0], 'riofrío-valle del cauca': ['riofrío-valle del cauca', 'riofrío', 'valle del cauca', 12.0, 0], 'roldanillo-valle del cauca': ['roldanillo-valle del cauca', 'roldanillo', 'valle del cauca', 51.0, 0], 'san pedro-valle del cauca': ['san pedro-valle del cauca', 'san pedro', 'valle del cauca', 24.0, 0], 'sevilla-valle del cauca': ['sevilla-valle del cauca', 'sevilla', 'valle del cauca', 59.0, 0], 'toro-valle del cauca': ['toro-valle del cauca', 'toro', 'valle del cauca', 11.0, 0], 'trujillo-valle del cauca': ['trujillo-valle del cauca', 'trujillo', 'valle del cauca', 4.0, 0], 'tuluá-valle del cauca': ['tuluá-valle del cauca', 'tuluá', 'valle del cauca', 206.0, 0], 'ulloa-valle del cauca': ['ulloa-valle del cauca', 'ulloa', 'valle del cauca', 0.0, 0], 'versalles-valle del cauca': ['versalles-valle del cauca', 'versalles', 'valle del cauca', 0.0, 0], 'vijes-valle del cauca': ['vijes-valle del cauca', 'vijes', 'valle del cauca', 11.0, 0], 'yotoco-valle del cauca': ['yotoco-valle del cauca', 'yotoco', 'valle del cauca', 25.0, 0], 'yumbo-valle del cauca': ['yumbo-valle del cauca', 'yumbo', 'valle del cauca', 160.0, 0], 'zarzal-valle del cauca': ['zarzal-valle del cauca', 'zarzal', 'valle del cauca', 67.0, 0], 'arauca-arauca': ['arauca-arauca', 'arauca', 'arauca', 1258.0, 0], 'arauquita-arauca': ['arauquita-arauca', 'arauquita', 'arauca', 21.0, 0], 'cravo norte-arauca': ['cravo norte-arauca', 'cravo norte', 'arauca', 5.0, 0], 'fortul-arauca': ['fortul-arauca', 'fortul', 'arauca', 36.0, 0], 'puerto rondón-arauca': ['puerto rondón-arauca', 'puerto rondón', 'arauca', 7.0, 0], 'saravena-arauca': ['saravena-arauca', 'saravena', 'arauca', 198.0, 0], 'tame-arauca': ['tame-arauca', 'tame', 'arauca', 171.0, 0], 'casanare-casanare': ['casanare-casanare', 'casanare', 'casanare', 1389.0, 0], 'yopal-casanare': ['yopal-casanare', 'yopal', 'casanare', 1106.0, 0], 'aguazul-casanare': ['aguazul-casanare', 'aguazul', 'casanare', 16.0, 0], 'chámeza-casanare': ['chámeza-casanare', 'chámeza', 'casanare', 1.0, 0], 'hato corozal-casanare': ['hato corozal-casanare', 'hato corozal', 'casanare', 6.0, 0], 'la salina-casanare': ['la salina-casanare', 'la salina', 'casanare', 0.0, 0], 'maní-casanare': ['maní-casanare', 'maní', 'casanare', 24.0, 0], 'monterrey-casanare': ['monterrey-casanare', 'monterrey', 'casanare', 3.0, 0], 'nunchía-casanare': ['nunchía-casanare', 'nunchía', 'casanare', 2.0, 0], 'orocué-casanare': ['orocué-casanare', 'orocué', 'casanare', 8.0, 0], 'paz de ariporo-casanare': ['paz de ariporo-casanare', 'paz de ariporo', 'casanare', 138.0, 0], 'pore-casanare': ['pore-casanare', 'pore', 'casanare', 16.0, 0], 'recetor-casanare': ['recetor-casanare', 'recetor', 'casanare', 2.0, 0], 'sabanalarga-casanare': ['sabanalarga-casanare', 'sabanalarga', 'casanare', 1.0, 0], 'sácama-casanare': ['sácama-casanare', 'sácama', 'casanare', 1.0, 0], 'san luis de palenque-casanare': ['san luis de palenque-casanare', 'san luis de palenque', 'casanare', 5.0, 0], 'támara-casanare': ['támara-casanare', 'támara', 'casanare', 4.0, 0], 'tauramena-casanare': ['tauramena-casanare', 'tauramena', 'casanare', 33.0, 0], 'trinidad-casanare': ['trinidad-casanare', 'trinidad', 'casanare', 11.0, 0], 'villanueva-casanare': ['villanueva-casanare', 'villanueva', 'casanare', 12.0, 0], 'putumayo-putumayo': ['putumayo-putumayo', 'putumayo', 'putumayo', 552.0, 0], 'mocoa-putumayo': ['mocoa-putumayo', 'mocoa', 'putumayo', 171.0, 0], 'colón-putumayo': ['colón-putumayo', 'colón', 'putumayo', 4.0, 0], 'orito-putumayo': ['orito-putumayo', 'orito', 'putumayo', 17.0, 0], 'puerto asís-putumayo': ['puerto asís-putumayo', 'puerto asís', 'putumayo', 151.0, 0], 'puerto caicedo-putumayo': ['puerto caicedo-putumayo', 'puerto caicedo', 'putumayo', 13.0, 0], 'puerto guzmán-putumayo': ['puerto guzmán-putumayo', 'puerto guzmán', 'putumayo', 9.0, 0], 'puerto leguízamo-putumayo': ['puerto leguízamo-putumayo', 'puerto leguízamo', 'putumayo', 30.0, 0], 'sibundoy-putumayo': ['sibundoy-putumayo', 'sibundoy', 'putumayo', 3.0, 0], 'san francisco-putumayo': ['san francisco-putumayo', 'san francisco', 'putumayo', 0.0, 0], 'san miguel-putumayo': ['san miguel-putumayo', 'san miguel', 'putumayo', 10.0, 0], 'santiago-putumayo': ['santiago-putumayo', 'santiago', 'putumayo', 0.0, 0], 'valle del guamuez-putumayo': ['valle del guamuez-putumayo', 'valle del guamuez', 'putumayo', 58.0, 0], 'villagarzón-putumayo': ['villagarzón-putumayo', 'villagarzón', 'putumayo', 86.0, 0], 'san andrés y providencia-san andrés y providencia': ['san andrés y providencia-san andrés y providencia', 'san andrés y providencia', 'san andrés y providencia', 283.0, 0], 'providencia-san andrés y providencia': ['providencia-san andrés y providencia', 'providencia', 'san andrés y providencia', 1.0, 0], 'amazonas-amazonas': ['amazonas-amazonas', 'amazonas', 'amazonas', 207.0, 0], 'leticia-amazonas': ['leticia-amazonas', 'leticia', 'amazonas', 206.0, 0], 'puerto nariño-amazonas': ['puerto nariño-amazonas', 'puerto nariño', 'amazonas', 1.0, 0], 'guainía-guainía': ['guainía-guainía', 'guainía', 'guainía', 72.0, 0], 'inírida-guainía': ['inírida-guainía', 'inírida', 'guainía', 72.0, 0], 'guaviare-guaviare': ['guaviare-guaviare', 'guaviare', 'guaviare', 105.0, 0], 'san josé del guaviare-guaviare': ['san josé del guaviare-guaviare', 'san josé del guaviare', 'guaviare', 101.0, 0], 'calamar-guaviare': ['calamar-guaviare', 'calamar', 'guaviare', 2.0, 0], 'el retorno-guaviare': ['el retorno-guaviare', 'el retorno', 'guaviare', 2.0, 0], 'miraflores-guaviare': ['miraflores-guaviare', 'miraflores', 'guaviare', 0.0, 0], 'vaupés-vaupés': ['vaupés-vaupés', 'vaupés', 'vaupés', 1.0, 0], 'mitú-vaupés': ['mitú-vaupés', 'mitú', 'vaupés', 0, 0], 'carurú-vaupés': ['carurú-vaupés', 'carurú', 'vaupés', 1.0, 0], 'taraira-vaupés': ['taraira-vaupés', 'taraira', 'vaupés', 0, 0], 'vichada-vichada': ['vichada-vichada', 'vichada', 'vichada', 66.0, 0], 'puerto carreño-vichada': ['puerto carreño-vichada', 'puerto carreño', 'vichada', 62.0, 0], 'la primavera-vichada': ['la primavera-vichada', 'la primavera', 'vichada', 0.0, 0], 'santa rosalía-vichada': ['santa rosalía-vichada', 'santa rosalía', 'vichada', 0, 0], 'cumaribo-vichada': ['cumaribo-vichada', 'cumaribo', 'vichada', 4.0, 0]}\n"
     ]
    }
   ],
   "source": [
    "valores_mineria = {}\n",
    "\n",
    "for i, row in df_conflicto.iterrows():\n",
    "    municipio = row['Entidad'].split(\"-\")[0].lower().strip()\n",
    "    departamento = row['Departamento'].lower()\n",
    "    llave = municipio + \"-\" + departamento\n",
    "    if llave not in valores_mineria:\n",
    "      new_row = [llave, municipio, departamento]\n",
    "      for i in range(0,len(columns)-2):\n",
    "        new_row.append(0)\n",
    "      valores_mineria[llave] = new_row\n",
    "    if row[\"Indicador\"]== \"Homicidio de mujeres:  Total\":\n",
    "        pos = columns_pos['Violencia hacia la mujer']\n",
    "        valor_viejo = valores_mineria[llave][pos]\n",
    "        valor_a_sumar=row['Dato Numérico']\n",
    "        valores_mineria[llave][pos] = valor_viejo + valor_a_sumar\n",
    "    elif row[\"Indicador\"]== \"Violencia de pareja - Víctima mujer\":\n",
    "        pos = columns_pos['Violencia hacia la mujer']\n",
    "        valor_viejo = valores_mineria[llave][pos]\n",
    "        valor_a_sumar=row['Dato Numérico']\n",
    "        valores_mineria[llave][pos] = valor_viejo + valor_a_sumar\n",
    "print(columns)\n",
    "print(valores_mineria)"
   ]
  },
  {
   "cell_type": "code",
   "execution_count": null,
   "id": "26d87c0d-3476-426e-9f11-f01245cb013f",
   "metadata": {},
   "outputs": [],
   "source": []
  }
 ],
 "metadata": {
  "kernelspec": {
   "display_name": "Python 3 (ipykernel)",
   "language": "python",
   "name": "python3"
  },
  "language_info": {
   "codemirror_mode": {
    "name": "ipython",
    "version": 3
   },
   "file_extension": ".py",
   "mimetype": "text/x-python",
   "name": "python",
   "nbconvert_exporter": "python",
   "pygments_lexer": "ipython3",
   "version": "3.9.12"
  }
 },
 "nbformat": 4,
 "nbformat_minor": 5
}
