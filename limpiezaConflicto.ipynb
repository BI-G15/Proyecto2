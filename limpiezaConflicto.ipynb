{
 "cells": [
  {
   "cell_type": "code",
   "execution_count": 1,
   "id": "58465761-474b-45f2-9502-66c61e55aa3a",
   "metadata": {},
   "outputs": [],
   "source": [
    "seed = 161\n",
    "import pandas as pd\n",
    "import numpy as np\n",
    "import matplotlib.pyplot as plt\n",
    "import seaborn as sns\n",
    "import json\n",
    "\n",
    "# Composicion de pipelines\n",
    "from sklearn.compose import ColumnTransformer\n",
    "from sklearn.pipeline import Pipeline\n",
    "from sklearn.impute import SimpleImputer\n",
    "from sklearn.preprocessing import PolynomialFeatures\n",
    "from sklearn.preprocessing import MinMaxScaler\n",
    "from sklearn.preprocessing import StandardScaler\n",
    "\n",
    "# Regresion lineal\n",
    "from sklearn.linear_model import LinearRegression\n",
    "\n",
    "# Importar/ Exportar modelos\n",
    "from joblib import dump, load\n",
    "\n",
    "# Metricas\n",
    "from sklearn.metrics import mean_squared_error as mse\n",
    "\n",
    "# q-q plots\n",
    "import scipy.stats as stats\n",
    "\n",
    "import json"
   ]
  },
  {
   "cell_type": "code",
   "execution_count": null,
   "id": "99bbc915-fbff-490c-8bb3-325d0fe4cdd9",
   "metadata": {},
   "outputs": [],
   "source": [
    "df_conflicto = pd.read_excel(\"Conflicto Armado.xlsx\")\n",
    "df_conflicto.shape"
   ]
  },
  {
   "cell_type": "code",
   "execution_count": null,
   "id": "e5a4f8a9-d330-45b2-b4d5-a8b9a69f725c",
   "metadata": {},
   "outputs": [],
   "source": [
    "df_conflicto.sample(5)"
   ]
  },
  {
   "cell_type": "code",
   "execution_count": null,
   "id": "9db34f43-56d8-4a0b-8ee1-441be9f8a16b",
   "metadata": {},
   "outputs": [],
   "source": [
    "df_conflicto.dtypes"
   ]
  },
  {
   "cell_type": "code",
   "execution_count": null,
   "id": "3989e3a1-73d7-45d3-9112-0a3a169a1ee9",
   "metadata": {},
   "outputs": [],
   "source": [
    "df_conflicto.info()\n",
    "#Dato numerico tiene cerca de 60k nulos\n",
    "#Dato cualitativo tiene muchos nulos, revisar y si no es rescatable, dropear"
   ]
  },
  {
   "cell_type": "code",
   "execution_count": null,
   "id": "cf0895d6-b0cf-481c-8989-1f16b2373ef6",
   "metadata": {},
   "outputs": [],
   "source": [
    "df_conflicto.describe()"
   ]
  },
  {
   "cell_type": "code",
   "execution_count": null,
   "id": "c04c8a02-2e1d-40c4-aaa9-a56a4eff3970",
   "metadata": {},
   "outputs": [],
   "source": [
    "pd.value_counts(df_conflicto['Departamento'])\n",
    "#Que hago con las de colombia, los dropeo, son pocos"
   ]
  },
  {
   "cell_type": "code",
   "execution_count": null,
   "id": "4fc00e48-0502-4c59-8faa-2d6fceb95b1b",
   "metadata": {},
   "outputs": [],
   "source": [
    "#Se quita Colombia\n",
    "def quitarColombia(row):\n",
    "    if row==\"Colombia\":\n",
    "        return None\n",
    "    return row\n",
    "\n",
    "df_conflicto['Departamento'] = df_conflicto['Departamento'].apply(quitarColombia)\n",
    "pd.value_counts(df_conflicto['Departamento'])"
   ]
  },
  {
   "cell_type": "code",
   "execution_count": null,
   "id": "fd775658-c6aa-49bf-bd57-e700abbc693b",
   "metadata": {},
   "outputs": [],
   "source": [
    "pd.value_counts(df_conflicto['Entidad'])\n",
    "#nada relevante aqui"
   ]
  },
  {
   "cell_type": "code",
   "execution_count": null,
   "id": "85dc5de3-05c5-40b9-a898-e63afdb020aa",
   "metadata": {},
   "outputs": [],
   "source": [
    "pd.value_counts(df_conflicto['Dimensión'])"
   ]
  },
  {
   "cell_type": "code",
   "execution_count": null,
   "id": "d39e383c-6380-42a2-8cf6-d17371923b17",
   "metadata": {},
   "outputs": [],
   "source": [
    "pd.value_counts(df_conflicto['Subcategoría'])\n",
    "#Los importantes son homicidios por agresor y sexo de la victima\n",
    "#Presuntos delitos sexuales segun sexo de la victima\n",
    "#Violencia de pareja\n",
    "#Violencia de genero"
   ]
  },
  {
   "cell_type": "code",
   "execution_count": null,
   "id": "27ed29b7-b974-4120-becb-af886d68725e",
   "metadata": {},
   "outputs": [],
   "source": [
    "pd.value_counts(df_conflicto['Dato Numérico'])\n",
    "#Cada dato numerico debe estar asociado a la unidad de medida asi que no tiene sentido mirar si hay outliers pero se deben transformar en numericos"
   ]
  },
  {
   "cell_type": "code",
   "execution_count": null,
   "id": "d23e48e6-467b-44ca-84c5-aad23e726fbd",
   "metadata": {},
   "outputs": [],
   "source": [
    "#Se arreglan los datos numericos\n",
    "def arreglarNumerico(row):\n",
    "    row=str(row).replace('.','')\n",
    "    row = row.replace(',','.')\n",
    "    return float(row)\n",
    "\n",
    "df_conflicto['Dato Numérico'] = df_conflicto['Dato Numérico'].apply(arreglarNumerico)\n",
    "pd.value_counts(df_conflicto['Dato Numérico'])"
   ]
  },
  {
   "cell_type": "code",
   "execution_count": null,
   "id": "9869c66a-bc7d-460f-98af-0180b657473e",
   "metadata": {},
   "outputs": [],
   "source": [
    "pd.value_counts(df_conflicto['Dato Cualitativo'])\n",
    "#Que representan los datos cualitativos?\n",
    "#Se supone que es un intervalo de tiempo. Solo existen 2 intervalos y casi todos los\n",
    "#demas registros son nulos, la infromacion se considera perdida"
   ]
  },
  {
   "cell_type": "code",
   "execution_count": null,
   "id": "1f7c0449-de46-4cbe-abd7-63ef9acc017f",
   "metadata": {},
   "outputs": [],
   "source": [
    "df_conflicto = df_conflicto.drop(['Dato Cualitativo'], axis=1)\n",
    "#En caso de no poder recuperar los nulos de dato cuantitativo, se pueden dropear"
   ]
  },
  {
   "cell_type": "code",
   "execution_count": null,
   "id": "f12c0741-09eb-4a37-bbb7-4ee8fbc41d16",
   "metadata": {},
   "outputs": [],
   "source": [
    "pd.value_counts(df_conflicto['Año'])\n",
    "#Los años tienen buen formato"
   ]
  },
  {
   "cell_type": "code",
   "execution_count": null,
   "id": "18839903-d6f2-44df-bb07-f52afa41ad16",
   "metadata": {},
   "outputs": [],
   "source": [
    "pd.value_counts(df_conflicto['Mes'])\n",
    "#Todos los registros son en el ultimo mes, tiene sentido"
   ]
  },
  {
   "cell_type": "code",
   "execution_count": null,
   "id": "f3b91806-8e5c-4f08-a52e-adbfeef9edd4",
   "metadata": {},
   "outputs": [],
   "source": [
    "pd.value_counts(df_conflicto['Fuente'])"
   ]
  },
  {
   "cell_type": "code",
   "execution_count": null,
   "id": "b88c8000-3140-4d74-9ce8-fa54a93535fc",
   "metadata": {},
   "outputs": [],
   "source": [
    "pd.value_counts(df_conflicto['Unidad de Medida'])"
   ]
  },
  {
   "cell_type": "code",
   "execution_count": null,
   "id": "a7961141-3416-4bd9-97de-1b3b5092365a",
   "metadata": {},
   "outputs": [],
   "source": [
    "df_conflicto=df_conflicto.dropna()"
   ]
  },
  {
   "cell_type": "code",
   "execution_count": null,
   "id": "f8ee9ddb-4dec-4b3a-9def-8e10276d0798",
   "metadata": {},
   "outputs": [],
   "source": [
    "df_depymun = pd.read_csv(\"Departamentos_y_municipios_de_Colombia.csv\")\n",
    "df_depymun"
   ]
  },
  {
   "cell_type": "code",
   "execution_count": null,
   "id": "e037539f-b13a-4a9c-86cd-affe24b9ea1a",
   "metadata": {},
   "outputs": [],
   "source": [
    "pd.value_counts(df_conflicto['Indicador'])"
   ]
  },
  {
   "cell_type": "code",
   "execution_count": null,
   "id": "34c34b70-950f-47ef-be30-d5edeb24638f",
   "metadata": {},
   "outputs": [],
   "source": [
    "municipios = {} \n",
    "\n",
    "for i, row in df_depymun.iterrows():\n",
    "    municipio = row['MUNICIPIO'].lower().replace(\"í\",\"i\").replace(\"á\",\"a\").replace(\"é\",\"e\").replace(\"ó\",\"o\").replace(\"ú\",\"u\")\n",
    "    departamento = row['DEPARTAMENTO'].lower().replace(\"í\",\"i\").replace(\"á\",\"a\").replace(\"é\",\"e\").replace(\"ó\",\"o\").replace(\"ú\",\"u\")\n",
    "    municipios[municipio] = departamento"
   ]
  },
  {
   "cell_type": "code",
   "execution_count": null,
   "id": "1f8f1c11-b3e6-403c-b7af-a6c4e2c3fd96",
   "metadata": {},
   "outputs": [],
   "source": [
    "columns=['id','municipio', 'departamento', 'año'] #Este va a tener [id, municipio, departamento, columnasMineria, columnasSalud, columnasConflicto]\n",
    "columns_pos = {'id':0,'municipio':1, 'departamento':2, 'año':3}\n",
    "\n",
    "count = 4\n",
    "\n",
    "columns.append('Violencia hacia la mujer')\n",
    "columns_pos['Violencia hacia la mujer'] = count\n",
    "count +=1 \n",
    "\n",
    "dfinal_mineria = pd.DataFrame(columns=columns)"
   ]
  },
  {
   "cell_type": "code",
   "execution_count": null,
   "id": "a12fc92c-dd17-44b2-92f8-e08eedc10bdf",
   "metadata": {},
   "outputs": [],
   "source": [
    "jupyter notebook --NotebookApp.iopub_data_rate_limit=10000000\n",
    "valores_mineria = {}\n",
    "\n",
    "for i, row in df_conflicto.iterrows():\n",
    "    municipio = row['Entidad'].split(\"-\")[0].lower().strip()\n",
    "    departamento = row['Departamento'].lower()\n",
    "    anio = str(row['Año'])\n",
    "    llave = municipio + \"-\" + departamento+\"-\"+anio\n",
    "    if llave not in valores_mineria:\n",
    "      new_row = [llave, municipio, departamento,anio]\n",
    "      for i in range(0,len(columns)-2):\n",
    "        new_row.append(0)\n",
    "      valores_mineria[llave] = new_row\n",
    "    if row[\"Indicador\"]== \"Homicidio de mujeres:  Total\" or row[\"Indicador\"]== \"Violencia de pareja - Víctima mujer\":\n",
    "        pos = columns_pos['Violencia hacia la mujer']\n",
    "        valor_viejo = valores_mineria[llave][pos]\n",
    "        valor_a_sumar=row['Dato Numérico']\n",
    "        valores_mineria[llave][pos] = valor_viejo + valor_a_sumar\n",
    "print(columns)\n",
    "print(valores_mineria)"
   ]
  },
  {
   "cell_type": "code",
   "execution_count": null,
   "id": "26d87c0d-3476-426e-9f11-f01245cb013f",
   "metadata": {},
   "outputs": [],
   "source": []
  }
 ],
 "metadata": {
  "kernelspec": {
   "display_name": "Python 3 (ipykernel)",
   "language": "python",
   "name": "python3"
  },
  "language_info": {
   "codemirror_mode": {
    "name": "ipython",
    "version": 3
   },
   "file_extension": ".py",
   "mimetype": "text/x-python",
   "name": "python",
   "nbconvert_exporter": "python",
   "pygments_lexer": "ipython3",
   "version": "3.9.12"
  }
 },
 "nbformat": 4,
 "nbformat_minor": 5
}
