{
 "cells": [
  {
   "cell_type": "code",
   "execution_count": 1,
   "id": "58465761-474b-45f2-9502-66c61e55aa3a",
   "metadata": {},
   "outputs": [],
   "source": [
    "seed = 161\n",
    "import pandas as pd\n",
    "import numpy as np\n",
    "import matplotlib.pyplot as plt\n",
    "import seaborn as sns\n",
    "import json\n",
    "\n",
    "# Composicion de pipelines\n",
    "from sklearn.compose import ColumnTransformer\n",
    "from sklearn.pipeline import Pipeline\n",
    "from sklearn.impute import SimpleImputer\n",
    "from sklearn.preprocessing import PolynomialFeatures\n",
    "from sklearn.preprocessing import MinMaxScaler\n",
    "from sklearn.preprocessing import StandardScaler\n",
    "\n",
    "# Regresion lineal\n",
    "from sklearn.linear_model import LinearRegression\n",
    "\n",
    "# Importar/ Exportar modelos\n",
    "from joblib import dump, load\n",
    "\n",
    "# Metricas\n",
    "from sklearn.metrics import mean_squared_error as mse\n",
    "\n",
    "# q-q plots\n",
    "import scipy.stats as stats\n",
    "\n",
    "import json"
   ]
  },
  {
   "cell_type": "code",
   "execution_count": 2,
   "id": "99bbc915-fbff-490c-8bb3-325d0fe4cdd9",
   "metadata": {},
   "outputs": [
    {
     "data": {
      "text/plain": [
       "(314119, 13)"
      ]
     },
     "execution_count": 2,
     "metadata": {},
     "output_type": "execute_result"
    }
   ],
   "source": [
    "df_conflicto = pd.read_excel(\"Conflicto Armado.xlsx\")\n",
    "df_conflicto.shape"
   ]
  },
  {
   "cell_type": "code",
   "execution_count": 3,
   "id": "e5a4f8a9-d330-45b2-b4d5-a8b9a69f725c",
   "metadata": {},
   "outputs": [
    {
     "data": {
      "text/html": [
       "<div>\n",
       "<style scoped>\n",
       "    .dataframe tbody tr th:only-of-type {\n",
       "        vertical-align: middle;\n",
       "    }\n",
       "\n",
       "    .dataframe tbody tr th {\n",
       "        vertical-align: top;\n",
       "    }\n",
       "\n",
       "    .dataframe thead th {\n",
       "        text-align: right;\n",
       "    }\n",
       "</style>\n",
       "<table border=\"1\" class=\"dataframe\">\n",
       "  <thead>\n",
       "    <tr style=\"text-align: right;\">\n",
       "      <th></th>\n",
       "      <th>Código Departamento</th>\n",
       "      <th>Departamento</th>\n",
       "      <th>Código Entidad</th>\n",
       "      <th>Entidad</th>\n",
       "      <th>Dimensión</th>\n",
       "      <th>Subcategoría</th>\n",
       "      <th>Indicador</th>\n",
       "      <th>Dato Numérico</th>\n",
       "      <th>Dato Cualitativo</th>\n",
       "      <th>Año</th>\n",
       "      <th>Mes</th>\n",
       "      <th>Fuente</th>\n",
       "      <th>Unidad de Medida</th>\n",
       "    </tr>\n",
       "  </thead>\n",
       "  <tbody>\n",
       "    <tr>\n",
       "      <th>241484</th>\n",
       "      <td>85.0</td>\n",
       "      <td>Casanare</td>\n",
       "      <td>85325.0</td>\n",
       "      <td>San Luis de Palenque</td>\n",
       "      <td>Conflicto armado y seguridad ciudadana</td>\n",
       "      <td>Homicidios por agresor y sexo de la víctima</td>\n",
       "      <td>Homicidio de mujeres por:  Pareja o ex pareja</td>\n",
       "      <td>NaN</td>\n",
       "      <td>NaN</td>\n",
       "      <td>2015.0</td>\n",
       "      <td>12.0</td>\n",
       "      <td>Instituto Nacional de Medicina Legal y Ciencia...</td>\n",
       "      <td>Personas</td>\n",
       "    </tr>\n",
       "    <tr>\n",
       "      <th>122308</th>\n",
       "      <td>47.0</td>\n",
       "      <td>Magdalena</td>\n",
       "      <td>47258.0</td>\n",
       "      <td>El Piñón</td>\n",
       "      <td>Conflicto armado y seguridad ciudadana</td>\n",
       "      <td>Seguridad Ciudadana</td>\n",
       "      <td>Tasa de homicidios (x cada 100.000 habitantes)</td>\n",
       "      <td>0,00</td>\n",
       "      <td>NaN</td>\n",
       "      <td>2010.0</td>\n",
       "      <td>12.0</td>\n",
       "      <td>DNP a partir de información del Ministerio de ...</td>\n",
       "      <td>Casos por cada 100.000 habitantes</td>\n",
       "    </tr>\n",
       "    <tr>\n",
       "      <th>90184</th>\n",
       "      <td>19.0</td>\n",
       "      <td>Cauca</td>\n",
       "      <td>19256.0</td>\n",
       "      <td>El Tambo</td>\n",
       "      <td>Conflicto armado y seguridad ciudadana</td>\n",
       "      <td>Conflicto armado</td>\n",
       "      <td>Número de personas víctimas de minas antipersona</td>\n",
       "      <td>0,00</td>\n",
       "      <td>NaN</td>\n",
       "      <td>1997.0</td>\n",
       "      <td>12.0</td>\n",
       "      <td>Dirección para la acción integral contra minas...</td>\n",
       "      <td>Personas</td>\n",
       "    </tr>\n",
       "    <tr>\n",
       "      <th>140048</th>\n",
       "      <td>23.0</td>\n",
       "      <td>Córdoba</td>\n",
       "      <td>23855.0</td>\n",
       "      <td>Valencia</td>\n",
       "      <td>Conflicto armado y seguridad ciudadana</td>\n",
       "      <td>Seguridad Ciudadana</td>\n",
       "      <td>Tasa de hurtos (x cada 100.000 habitantes)</td>\n",
       "      <td>NaN</td>\n",
       "      <td>NaN</td>\n",
       "      <td>2011.0</td>\n",
       "      <td>12.0</td>\n",
       "      <td>DNP a partir de información del Ministerio de ...</td>\n",
       "      <td>Casos por cada 100.000 habitantes</td>\n",
       "    </tr>\n",
       "    <tr>\n",
       "      <th>120627</th>\n",
       "      <td>20.0</td>\n",
       "      <td>Cesar</td>\n",
       "      <td>20250.0</td>\n",
       "      <td>El Paso</td>\n",
       "      <td>Conflicto armado y seguridad ciudadana</td>\n",
       "      <td>Seguridad Ciudadana</td>\n",
       "      <td>Tasa de homicidios (x cada 100.000 habitantes)</td>\n",
       "      <td>46,11</td>\n",
       "      <td>NaN</td>\n",
       "      <td>2009.0</td>\n",
       "      <td>12.0</td>\n",
       "      <td>DNP a partir de información del Ministerio de ...</td>\n",
       "      <td>Casos por cada 100.000 habitantes</td>\n",
       "    </tr>\n",
       "  </tbody>\n",
       "</table>\n",
       "</div>"
      ],
      "text/plain": [
       "        Código Departamento Departamento  Código Entidad  \\\n",
       "241484                 85.0     Casanare         85325.0   \n",
       "122308                 47.0    Magdalena         47258.0   \n",
       "90184                  19.0        Cauca         19256.0   \n",
       "140048                 23.0      Córdoba         23855.0   \n",
       "120627                 20.0        Cesar         20250.0   \n",
       "\n",
       "                     Entidad                               Dimensión  \\\n",
       "241484  San Luis de Palenque  Conflicto armado y seguridad ciudadana   \n",
       "122308              El Piñón  Conflicto armado y seguridad ciudadana   \n",
       "90184               El Tambo  Conflicto armado y seguridad ciudadana   \n",
       "140048              Valencia  Conflicto armado y seguridad ciudadana   \n",
       "120627               El Paso  Conflicto armado y seguridad ciudadana   \n",
       "\n",
       "                                       Subcategoría  \\\n",
       "241484  Homicidios por agresor y sexo de la víctima   \n",
       "122308                          Seguridad Ciudadana   \n",
       "90184                              Conflicto armado   \n",
       "140048                          Seguridad Ciudadana   \n",
       "120627                          Seguridad Ciudadana   \n",
       "\n",
       "                                               Indicador Dato Numérico  \\\n",
       "241484     Homicidio de mujeres por:  Pareja o ex pareja           NaN   \n",
       "122308    Tasa de homicidios (x cada 100.000 habitantes)          0,00   \n",
       "90184   Número de personas víctimas de minas antipersona          0,00   \n",
       "140048        Tasa de hurtos (x cada 100.000 habitantes)           NaN   \n",
       "120627    Tasa de homicidios (x cada 100.000 habitantes)         46,11   \n",
       "\n",
       "       Dato Cualitativo     Año   Mes  \\\n",
       "241484              NaN  2015.0  12.0   \n",
       "122308              NaN  2010.0  12.0   \n",
       "90184               NaN  1997.0  12.0   \n",
       "140048              NaN  2011.0  12.0   \n",
       "120627              NaN  2009.0  12.0   \n",
       "\n",
       "                                                   Fuente  \\\n",
       "241484  Instituto Nacional de Medicina Legal y Ciencia...   \n",
       "122308  DNP a partir de información del Ministerio de ...   \n",
       "90184   Dirección para la acción integral contra minas...   \n",
       "140048  DNP a partir de información del Ministerio de ...   \n",
       "120627  DNP a partir de información del Ministerio de ...   \n",
       "\n",
       "                         Unidad de Medida  \n",
       "241484                           Personas  \n",
       "122308  Casos por cada 100.000 habitantes  \n",
       "90184                            Personas  \n",
       "140048  Casos por cada 100.000 habitantes  \n",
       "120627  Casos por cada 100.000 habitantes  "
      ]
     },
     "execution_count": 3,
     "metadata": {},
     "output_type": "execute_result"
    }
   ],
   "source": [
    "df_conflicto.sample(5)"
   ]
  },
  {
   "cell_type": "code",
   "execution_count": 4,
   "id": "9db34f43-56d8-4a0b-8ee1-441be9f8a16b",
   "metadata": {},
   "outputs": [
    {
     "data": {
      "text/plain": [
       "Código Departamento    float64\n",
       "Departamento            object\n",
       "Código Entidad         float64\n",
       "Entidad                 object\n",
       "Dimensión               object\n",
       "Subcategoría            object\n",
       "Indicador               object\n",
       "Dato Numérico           object\n",
       "Dato Cualitativo        object\n",
       "Año                    float64\n",
       "Mes                    float64\n",
       "Fuente                  object\n",
       "Unidad de Medida        object\n",
       "dtype: object"
      ]
     },
     "execution_count": 4,
     "metadata": {},
     "output_type": "execute_result"
    }
   ],
   "source": [
    "df_conflicto.dtypes"
   ]
  },
  {
   "cell_type": "code",
   "execution_count": 5,
   "id": "3989e3a1-73d7-45d3-9112-0a3a169a1ee9",
   "metadata": {},
   "outputs": [
    {
     "name": "stdout",
     "output_type": "stream",
     "text": [
      "<class 'pandas.core.frame.DataFrame'>\n",
      "RangeIndex: 314119 entries, 0 to 314118\n",
      "Data columns (total 13 columns):\n",
      " #   Column               Non-Null Count   Dtype  \n",
      "---  ------               --------------   -----  \n",
      " 0   Código Departamento  314118 non-null  float64\n",
      " 1   Departamento         314118 non-null  object \n",
      " 2   Código Entidad       314118 non-null  float64\n",
      " 3   Entidad              314118 non-null  object \n",
      " 4   Dimensión            314118 non-null  object \n",
      " 5   Subcategoría         314118 non-null  object \n",
      " 6   Indicador            314119 non-null  object \n",
      " 7   Dato Numérico        259158 non-null  object \n",
      " 8   Dato Cualitativo     4536 non-null    object \n",
      " 9   Año                  314118 non-null  float64\n",
      " 10  Mes                  314118 non-null  float64\n",
      " 11  Fuente               314119 non-null  object \n",
      " 12  Unidad de Medida     314118 non-null  object \n",
      "dtypes: float64(4), object(9)\n",
      "memory usage: 31.2+ MB\n"
     ]
    }
   ],
   "source": [
    "df_conflicto.info()\n",
    "#Dato numerico tiene cerca de 60k nulos\n",
    "#Dato cualitativo tiene muchos nulos, revisar y si no es rescatable, dropear"
   ]
  },
  {
   "cell_type": "code",
   "execution_count": 6,
   "id": "cf0895d6-b0cf-481c-8989-1f16b2373ef6",
   "metadata": {},
   "outputs": [
    {
     "data": {
      "text/html": [
       "<div>\n",
       "<style scoped>\n",
       "    .dataframe tbody tr th:only-of-type {\n",
       "        vertical-align: middle;\n",
       "    }\n",
       "\n",
       "    .dataframe tbody tr th {\n",
       "        vertical-align: top;\n",
       "    }\n",
       "\n",
       "    .dataframe thead th {\n",
       "        text-align: right;\n",
       "    }\n",
       "</style>\n",
       "<table border=\"1\" class=\"dataframe\">\n",
       "  <thead>\n",
       "    <tr style=\"text-align: right;\">\n",
       "      <th></th>\n",
       "      <th>Código Departamento</th>\n",
       "      <th>Código Entidad</th>\n",
       "      <th>Año</th>\n",
       "      <th>Mes</th>\n",
       "    </tr>\n",
       "  </thead>\n",
       "  <tbody>\n",
       "    <tr>\n",
       "      <th>count</th>\n",
       "      <td>314118.000000</td>\n",
       "      <td>314118.000000</td>\n",
       "      <td>314118.000000</td>\n",
       "      <td>314118.0</td>\n",
       "    </tr>\n",
       "    <tr>\n",
       "      <th>mean</th>\n",
       "      <td>37.666667</td>\n",
       "      <td>38084.496473</td>\n",
       "      <td>2009.537906</td>\n",
       "      <td>12.0</td>\n",
       "    </tr>\n",
       "    <tr>\n",
       "      <th>std</th>\n",
       "      <td>26.018316</td>\n",
       "      <td>25990.452996</td>\n",
       "      <td>8.537646</td>\n",
       "      <td>0.0</td>\n",
       "    </tr>\n",
       "    <tr>\n",
       "      <th>min</th>\n",
       "      <td>1.000000</td>\n",
       "      <td>1001.000000</td>\n",
       "      <td>1984.000000</td>\n",
       "      <td>12.0</td>\n",
       "    </tr>\n",
       "    <tr>\n",
       "      <th>25%</th>\n",
       "      <td>15.000000</td>\n",
       "      <td>15667.000000</td>\n",
       "      <td>2006.000000</td>\n",
       "      <td>12.0</td>\n",
       "    </tr>\n",
       "    <tr>\n",
       "      <th>50%</th>\n",
       "      <td>25.000000</td>\n",
       "      <td>25806.000000</td>\n",
       "      <td>2014.000000</td>\n",
       "      <td>12.0</td>\n",
       "    </tr>\n",
       "    <tr>\n",
       "      <th>75%</th>\n",
       "      <td>66.000000</td>\n",
       "      <td>66000.000000</td>\n",
       "      <td>2015.000000</td>\n",
       "      <td>12.0</td>\n",
       "    </tr>\n",
       "    <tr>\n",
       "      <th>max</th>\n",
       "      <td>99.000000</td>\n",
       "      <td>99773.000000</td>\n",
       "      <td>2018.000000</td>\n",
       "      <td>12.0</td>\n",
       "    </tr>\n",
       "  </tbody>\n",
       "</table>\n",
       "</div>"
      ],
      "text/plain": [
       "       Código Departamento  Código Entidad            Año       Mes\n",
       "count        314118.000000   314118.000000  314118.000000  314118.0\n",
       "mean             37.666667    38084.496473    2009.537906      12.0\n",
       "std              26.018316    25990.452996       8.537646       0.0\n",
       "min               1.000000     1001.000000    1984.000000      12.0\n",
       "25%              15.000000    15667.000000    2006.000000      12.0\n",
       "50%              25.000000    25806.000000    2014.000000      12.0\n",
       "75%              66.000000    66000.000000    2015.000000      12.0\n",
       "max              99.000000    99773.000000    2018.000000      12.0"
      ]
     },
     "execution_count": 6,
     "metadata": {},
     "output_type": "execute_result"
    }
   ],
   "source": [
    "df_conflicto.describe()"
   ]
  },
  {
   "cell_type": "code",
   "execution_count": 7,
   "id": "c04c8a02-2e1d-40c4-aaa9-a56a4eff3970",
   "metadata": {},
   "outputs": [
    {
     "data": {
      "text/plain": [
       "Antioquia                   34902\n",
       "Boyacá                      34348\n",
       "Cundinamarca                32409\n",
       "Santander                   24376\n",
       "Nariño                      18005\n",
       "Tolima                      13296\n",
       "Bolívar                     13019\n",
       "Valle del Cauca             11911\n",
       "Cauca                       11911\n",
       "Norte de Santander          11357\n",
       "Huila                       10526\n",
       "Córdoba                      8587\n",
       "Chocó                        8587\n",
       "Magdalena                    8587\n",
       "Meta                         8310\n",
       "Caldas                       7756\n",
       "Sucre                        7479\n",
       "Cesar                        7202\n",
       "Atlántico                    6648\n",
       "Casanare                     5540\n",
       "Caquetá                      4709\n",
       "La Guajira                   4432\n",
       "Risaralda                    4155\n",
       "Putumayo                     3878\n",
       "Quindío                      3601\n",
       "Arauca                       2216\n",
       "Guaviare                     1385\n",
       "Vichada                      1385\n",
       "Vaupés                       1108\n",
       "Amazonas                      831\n",
       "San Andrés y Providencia      554\n",
       "Guainía                       554\n",
       "Bogotá                        277\n",
       "Colombia                      277\n",
       "Name: Departamento, dtype: int64"
      ]
     },
     "execution_count": 7,
     "metadata": {},
     "output_type": "execute_result"
    }
   ],
   "source": [
    "pd.value_counts(df_conflicto['Departamento'])\n",
    "#Que hago con las de colombia, los dropeo, son pocos"
   ]
  },
  {
   "cell_type": "code",
   "execution_count": 8,
   "id": "4fc00e48-0502-4c59-8faa-2d6fceb95b1b",
   "metadata": {},
   "outputs": [
    {
     "data": {
      "text/plain": [
       "Antioquia                   34902\n",
       "Boyacá                      34348\n",
       "Cundinamarca                32409\n",
       "Santander                   24376\n",
       "Nariño                      18005\n",
       "Tolima                      13296\n",
       "Bolívar                     13019\n",
       "Cauca                       11911\n",
       "Valle del Cauca             11911\n",
       "Norte de Santander          11357\n",
       "Huila                       10526\n",
       "Córdoba                      8587\n",
       "Chocó                        8587\n",
       "Magdalena                    8587\n",
       "Meta                         8310\n",
       "Caldas                       7756\n",
       "Sucre                        7479\n",
       "Cesar                        7202\n",
       "Atlántico                    6648\n",
       "Casanare                     5540\n",
       "Caquetá                      4709\n",
       "La Guajira                   4432\n",
       "Risaralda                    4155\n",
       "Putumayo                     3878\n",
       "Quindío                      3601\n",
       "Arauca                       2216\n",
       "Guaviare                     1385\n",
       "Vichada                      1385\n",
       "Vaupés                       1108\n",
       "Amazonas                      831\n",
       "San Andrés y Providencia      554\n",
       "Guainía                       554\n",
       "Bogotá                        277\n",
       "Name: Departamento, dtype: int64"
      ]
     },
     "execution_count": 8,
     "metadata": {},
     "output_type": "execute_result"
    }
   ],
   "source": [
    "#Se quita Colombia\n",
    "def quitarColombia(row):\n",
    "    if row==\"Colombia\":\n",
    "        return None\n",
    "    return row\n",
    "\n",
    "df_conflicto['Departamento'] = df_conflicto['Departamento'].apply(quitarColombia)\n",
    "pd.value_counts(df_conflicto['Departamento'])"
   ]
  },
  {
   "cell_type": "code",
   "execution_count": 9,
   "id": "fd775658-c6aa-49bf-bd57-e700abbc693b",
   "metadata": {},
   "outputs": [
    {
     "data": {
      "text/plain": [
       "Buenavista    1108\n",
       "La Unión      1108\n",
       "Córdoba       1108\n",
       "Nariño        1108\n",
       "Bolívar       1108\n",
       "              ... \n",
       "Padilla        277\n",
       "Paéz           277\n",
       "Patía          277\n",
       "Piamonte       277\n",
       "Cumaribo       277\n",
       "Name: Entidad, Length: 1044, dtype: int64"
      ]
     },
     "execution_count": 9,
     "metadata": {},
     "output_type": "execute_result"
    }
   ],
   "source": [
    "pd.value_counts(df_conflicto['Entidad'])\n",
    "#nada relevante aqui"
   ]
  },
  {
   "cell_type": "code",
   "execution_count": 10,
   "id": "85dc5de3-05c5-40b9-a898-e63afdb020aa",
   "metadata": {},
   "outputs": [
    {
     "data": {
      "text/plain": [
       "Conflicto armado y seguridad ciudadana    314118\n",
       "Name: Dimensión, dtype: int64"
      ]
     },
     "execution_count": 10,
     "metadata": {},
     "output_type": "execute_result"
    }
   ],
   "source": [
    "pd.value_counts(df_conflicto['Dimensión'])"
   ]
  },
  {
   "cell_type": "code",
   "execution_count": 11,
   "id": "d39e383c-6380-42a2-8cf6-d17371923b17",
   "metadata": {},
   "outputs": [
    {
     "data": {
      "text/plain": [
       "Conflicto armado                                       113400\n",
       "Homicidios por agresor y sexo de la víctima             95256\n",
       "Seguridad Ciudadana                                     51030\n",
       "Presuntos delitos sexuales según sexo de la víctima     20412\n",
       "Violencia de pareja según sexo de la víctima            20412\n",
       "Percepción                                               7938\n",
       "Violencias de género                                     5670\n",
       "Name: Subcategoría, dtype: int64"
      ]
     },
     "execution_count": 11,
     "metadata": {},
     "output_type": "execute_result"
    }
   ],
   "source": [
    "pd.value_counts(df_conflicto['Subcategoría'])\n",
    "#Los importantes son homicidios por agresor y sexo de la victima\n",
    "#Presuntos delitos sexuales segun sexo de la victima\n",
    "#Violencia de pareja\n",
    "#Violencia de genero"
   ]
  },
  {
   "cell_type": "code",
   "execution_count": 12,
   "id": "27ed29b7-b974-4120-becb-af886d68725e",
   "metadata": {},
   "outputs": [
    {
     "data": {
      "text/plain": [
       "0,00      128216\n",
       "1,00       13347\n",
       "2,00        6313\n",
       "3,00        4128\n",
       "4,00        3119\n",
       "           ...  \n",
       "200,12         1\n",
       "407,55         1\n",
       "160,45         1\n",
       "61,43          1\n",
       "176,19         1\n",
       "Name: Dato Numérico, Length: 25029, dtype: int64"
      ]
     },
     "execution_count": 12,
     "metadata": {},
     "output_type": "execute_result"
    }
   ],
   "source": [
    "pd.value_counts(df_conflicto['Dato Numérico'])\n",
    "#Cada dato numerico debe estar asociado a la unidad de medida asi que no tiene sentido mirar si hay outliers pero se deben transformar en numericos"
   ]
  },
  {
   "cell_type": "code",
   "execution_count": 13,
   "id": "d23e48e6-467b-44ca-84c5-aad23e726fbd",
   "metadata": {},
   "outputs": [
    {
     "data": {
      "text/plain": [
       "0.00      128216\n",
       "1.00       13347\n",
       "2.00        6313\n",
       "3.00        4128\n",
       "4.00        3119\n",
       "           ...  \n",
       "200.12         1\n",
       "407.55         1\n",
       "160.45         1\n",
       "61.43          1\n",
       "176.19         1\n",
       "Name: Dato Numérico, Length: 25029, dtype: int64"
      ]
     },
     "execution_count": 13,
     "metadata": {},
     "output_type": "execute_result"
    }
   ],
   "source": [
    "#Se arreglan los datos numericos\n",
    "def arreglarNumerico(row):\n",
    "    row=str(row).replace('.','')\n",
    "    row = row.replace(',','.')\n",
    "    return float(row)\n",
    "\n",
    "df_conflicto['Dato Numérico'] = df_conflicto['Dato Numérico'].apply(arreglarNumerico)\n",
    "pd.value_counts(df_conflicto['Dato Numérico'])"
   ]
  },
  {
   "cell_type": "code",
   "execution_count": 14,
   "id": "9869c66a-bc7d-460f-98af-0180b657473e",
   "metadata": {},
   "outputs": [
    {
     "data": {
      "text/plain": [
       "1984 - 2017    3402\n",
       "1990-2017      1134\n",
       "Name: Dato Cualitativo, dtype: int64"
      ]
     },
     "execution_count": 14,
     "metadata": {},
     "output_type": "execute_result"
    }
   ],
   "source": [
    "pd.value_counts(df_conflicto['Dato Cualitativo'])\n",
    "#Que representan los datos cualitativos?\n",
    "#Se supone que es un intervalo de tiempo. Solo existen 2 intervalos y casi todos los\n",
    "#demas registros son nulos, la infromacion se considera perdida"
   ]
  },
  {
   "cell_type": "code",
   "execution_count": 15,
   "id": "1f7c0449-de46-4cbe-abd7-63ef9acc017f",
   "metadata": {},
   "outputs": [],
   "source": [
    "df_conflicto = df_conflicto.drop(['Dato Cualitativo'], axis=1)\n",
    "#En caso de no poder recuperar los nulos de dato cuantitativo, se pueden dropear"
   ]
  },
  {
   "cell_type": "code",
   "execution_count": 16,
   "id": "f12c0741-09eb-4a37-bbb7-4ee8fbc41d16",
   "metadata": {},
   "outputs": [
    {
     "data": {
      "text/plain": [
       "2016.0    61236\n",
       "2015.0    53298\n",
       "2014.0    53298\n",
       "2017.0    12474\n",
       "2008.0     6804\n",
       "2003.0     6804\n",
       "2004.0     6804\n",
       "2005.0     6804\n",
       "2006.0     6804\n",
       "2007.0     6804\n",
       "2010.0     6804\n",
       "2009.0     6804\n",
       "2011.0     6804\n",
       "2012.0     6804\n",
       "2013.0     6804\n",
       "2001.0     3402\n",
       "2002.0     3402\n",
       "2000.0     3402\n",
       "1992.0     3402\n",
       "1998.0     3402\n",
       "1997.0     3402\n",
       "1996.0     3402\n",
       "1995.0     3402\n",
       "1994.0     3402\n",
       "1993.0     3402\n",
       "1999.0     3402\n",
       "1991.0     3402\n",
       "1990.0     3402\n",
       "1987.0     2268\n",
       "1985.0     2268\n",
       "1986.0     2268\n",
       "1984.0     2268\n",
       "1988.0     2268\n",
       "1989.0     2268\n",
       "2018.0     1134\n",
       "Name: Año, dtype: int64"
      ]
     },
     "execution_count": 16,
     "metadata": {},
     "output_type": "execute_result"
    }
   ],
   "source": [
    "pd.value_counts(df_conflicto['Año'])\n",
    "#Los años tienen buen formato"
   ]
  },
  {
   "cell_type": "code",
   "execution_count": 17,
   "id": "18839903-d6f2-44df-bb07-f52afa41ad16",
   "metadata": {},
   "outputs": [
    {
     "data": {
      "text/plain": [
       "12.0    314118\n",
       "Name: Mes, dtype: int64"
      ]
     },
     "execution_count": 17,
     "metadata": {},
     "output_type": "execute_result"
    }
   ],
   "source": [
    "pd.value_counts(df_conflicto['Mes'])\n",
    "#Todos los registros son en el ultimo mes, tiene sentido"
   ]
  },
  {
   "cell_type": "code",
   "execution_count": 18,
   "id": "f3b91806-8e5c-4f08-a52e-adbfeef9edd4",
   "metadata": {},
   "outputs": [
    {
     "data": {
      "text/plain": [
       "Instituto Nacional de Medicina Legal y Ciencias Forenses - INMLCF                                                                                                                                                                                                                                                                                                                                                                                                                                                      136080\n",
       "Unidad para la Atención y Reparación Integral a las Víctimas                                                                                                                                                                                                                                                                                                                                                                                                                                                            80514\n",
       "DNP a partir de información del Ministerio de Defensa Nacional y DANE                                                                                                                                                                                                                                                                                                                                                                                                                                                   34020\n",
       "Dirección para la acción integral contra minas antipersona                                                                                                                                                                                                                                                                                                                                                                                                                                                              32886\n",
       "DNP a partir de información de la Fiscalía General de la Nación y DANE                                                                                                                                                                                                                                                                                                                                                                                                                                                  17010\n",
       "CIUDATOS                                                                                                                                                                                                                                                                                                                                                                                                                                                                                                                 7938\n",
       "Ministerio de Salud y Protección Social                                                                                                                                                                                                                                                                                                                                                                                                                                                                                  5670\n",
       "aaaaaaaaaaaaaaaaaaaaaaaaaaaaaaaaaaaaaaaaaaaaaaaaaaaaaaaaaaaaaaaaaaaaaaaaaaaaaaaaaaaaaaaaaaaaaaaaaaaaaaaaaaaaaaaaaaaaaaaaaaaaaaaaaaaaaaaaaaaaaaaaaaaaaaaaaaaaaaaaaaaaaaaaaaaaaaaaaaaaaaaaaaaaaaaaaaaaaaaaaaaaaaaaaaaaaaaaaaaaaaaaaaaaaaaaaaaaaaaaaaaaaaaaaaaaaaaaaaaaaaaaaaaaaaaaaaaaaaaaaaaaaaaaaaaaaaaaaaaaaaaaaaaaaaaaaaaaaaaaaaaaaaaaaaaaaaaaaaaaaaaaaaaaaaaaaaaaaaaaaaaaaaaaaaaaaaaaaaaaaaaaaaaaaaaaaaaaaaaaaaaaaaaaaaaaaaaaaaaaaaaaaaaaaaaaaaaaaaaaaaaaaaaaaaaaaaaaaaaaaaaaaaaaaaaaaaaaaaaaaaaaaaaaaaaaaaaaaaa         1\n",
       "Name: Fuente, dtype: int64"
      ]
     },
     "execution_count": 18,
     "metadata": {},
     "output_type": "execute_result"
    }
   ],
   "source": [
    "pd.value_counts(df_conflicto['Fuente'])"
   ]
  },
  {
   "cell_type": "code",
   "execution_count": 19,
   "id": "b88c8000-3140-4d74-9ce8-fa54a93535fc",
   "metadata": {},
   "outputs": [
    {
     "data": {
      "text/plain": [
       "Personas                                                      222264\n",
       "Casos por cada 100.000 habitantes                              57834\n",
       "Porcentaje (el valor está multiplicado por 100)                 7938\n",
       "Casos por cada 100.000 habitantes hombres                       6804\n",
       "Casos por cada 100.000 habitantes mujeres                       6804\n",
       "Casos de violencia hacia mujeres  por cada 100.000 mujeres      5670\n",
       "Casos por cada 100.000 hombres                                  3402\n",
       "Casos por cada 100.000 mujeres                                  3402\n",
       "Name: Unidad de Medida, dtype: int64"
      ]
     },
     "execution_count": 19,
     "metadata": {},
     "output_type": "execute_result"
    }
   ],
   "source": [
    "pd.value_counts(df_conflicto['Unidad de Medida'])"
   ]
  },
  {
   "cell_type": "code",
   "execution_count": 20,
   "id": "a7961141-3416-4bd9-97de-1b3b5092365a",
   "metadata": {},
   "outputs": [],
   "source": [
    "df_conflicto=df_conflicto.dropna()"
   ]
  },
  {
   "cell_type": "code",
   "execution_count": 21,
   "id": "f8ee9ddb-4dec-4b3a-9def-8e10276d0798",
   "metadata": {},
   "outputs": [
    {
     "data": {
      "text/html": [
       "<div>\n",
       "<style scoped>\n",
       "    .dataframe tbody tr th:only-of-type {\n",
       "        vertical-align: middle;\n",
       "    }\n",
       "\n",
       "    .dataframe tbody tr th {\n",
       "        vertical-align: top;\n",
       "    }\n",
       "\n",
       "    .dataframe thead th {\n",
       "        text-align: right;\n",
       "    }\n",
       "</style>\n",
       "<table border=\"1\" class=\"dataframe\">\n",
       "  <thead>\n",
       "    <tr style=\"text-align: right;\">\n",
       "      <th></th>\n",
       "      <th>REGION</th>\n",
       "      <th>CÓDIGO DANE DEL DEPARTAMENTO</th>\n",
       "      <th>DEPARTAMENTO</th>\n",
       "      <th>CÓDIGO DANE DEL MUNICIPIO</th>\n",
       "      <th>MUNICIPIO</th>\n",
       "    </tr>\n",
       "  </thead>\n",
       "  <tbody>\n",
       "    <tr>\n",
       "      <th>0</th>\n",
       "      <td>Región Eje Cafetero - Antioquia</td>\n",
       "      <td>5</td>\n",
       "      <td>Antioquia</td>\n",
       "      <td>5.001</td>\n",
       "      <td>Medellín</td>\n",
       "    </tr>\n",
       "    <tr>\n",
       "      <th>1</th>\n",
       "      <td>Región Eje Cafetero - Antioquia</td>\n",
       "      <td>5</td>\n",
       "      <td>Antioquia</td>\n",
       "      <td>5.002</td>\n",
       "      <td>Abejorral</td>\n",
       "    </tr>\n",
       "    <tr>\n",
       "      <th>2</th>\n",
       "      <td>Región Eje Cafetero - Antioquia</td>\n",
       "      <td>5</td>\n",
       "      <td>Antioquia</td>\n",
       "      <td>5.004</td>\n",
       "      <td>Abriaquí</td>\n",
       "    </tr>\n",
       "    <tr>\n",
       "      <th>3</th>\n",
       "      <td>Región Eje Cafetero - Antioquia</td>\n",
       "      <td>5</td>\n",
       "      <td>Antioquia</td>\n",
       "      <td>5.021</td>\n",
       "      <td>Alejandría</td>\n",
       "    </tr>\n",
       "    <tr>\n",
       "      <th>4</th>\n",
       "      <td>Región Eje Cafetero - Antioquia</td>\n",
       "      <td>5</td>\n",
       "      <td>Antioquia</td>\n",
       "      <td>5.030</td>\n",
       "      <td>Amagá</td>\n",
       "    </tr>\n",
       "    <tr>\n",
       "      <th>...</th>\n",
       "      <td>...</td>\n",
       "      <td>...</td>\n",
       "      <td>...</td>\n",
       "      <td>...</td>\n",
       "      <td>...</td>\n",
       "    </tr>\n",
       "    <tr>\n",
       "      <th>1118</th>\n",
       "      <td>Región Eje Cafetero - Antioquia</td>\n",
       "      <td>17</td>\n",
       "      <td>Caldas</td>\n",
       "      <td>17.444</td>\n",
       "      <td>Marquetalia</td>\n",
       "    </tr>\n",
       "    <tr>\n",
       "      <th>1119</th>\n",
       "      <td>Región Pacífico</td>\n",
       "      <td>52</td>\n",
       "      <td>Nariño</td>\n",
       "      <td>52.051</td>\n",
       "      <td>Arboleda</td>\n",
       "    </tr>\n",
       "    <tr>\n",
       "      <th>1120</th>\n",
       "      <td>Región Pacífico</td>\n",
       "      <td>76</td>\n",
       "      <td>Valle del Cauca</td>\n",
       "      <td>76.109</td>\n",
       "      <td>Buenaventura</td>\n",
       "    </tr>\n",
       "    <tr>\n",
       "      <th>1121</th>\n",
       "      <td>Región Caribe</td>\n",
       "      <td>47</td>\n",
       "      <td>Magdalena</td>\n",
       "      <td>47.189</td>\n",
       "      <td>Ciénaga</td>\n",
       "    </tr>\n",
       "    <tr>\n",
       "      <th>1122</th>\n",
       "      <td>Región Caribe</td>\n",
       "      <td>8</td>\n",
       "      <td>Atlántico</td>\n",
       "      <td>8.560</td>\n",
       "      <td>Ponedera</td>\n",
       "    </tr>\n",
       "  </tbody>\n",
       "</table>\n",
       "<p>1123 rows × 5 columns</p>\n",
       "</div>"
      ],
      "text/plain": [
       "                               REGION  CÓDIGO DANE DEL DEPARTAMENTO  \\\n",
       "0     Región Eje Cafetero - Antioquia                             5   \n",
       "1     Región Eje Cafetero - Antioquia                             5   \n",
       "2     Región Eje Cafetero - Antioquia                             5   \n",
       "3     Región Eje Cafetero - Antioquia                             5   \n",
       "4     Región Eje Cafetero - Antioquia                             5   \n",
       "...                               ...                           ...   \n",
       "1118  Región Eje Cafetero - Antioquia                            17   \n",
       "1119                  Región Pacífico                            52   \n",
       "1120                  Región Pacífico                            76   \n",
       "1121                    Región Caribe                            47   \n",
       "1122                    Región Caribe                             8   \n",
       "\n",
       "         DEPARTAMENTO  CÓDIGO DANE DEL MUNICIPIO     MUNICIPIO  \n",
       "0           Antioquia                      5.001      Medellín  \n",
       "1           Antioquia                      5.002     Abejorral  \n",
       "2           Antioquia                      5.004      Abriaquí  \n",
       "3           Antioquia                      5.021    Alejandría  \n",
       "4           Antioquia                      5.030         Amagá  \n",
       "...               ...                        ...           ...  \n",
       "1118           Caldas                     17.444   Marquetalia  \n",
       "1119           Nariño                     52.051      Arboleda  \n",
       "1120  Valle del Cauca                     76.109  Buenaventura  \n",
       "1121        Magdalena                     47.189       Ciénaga  \n",
       "1122        Atlántico                      8.560      Ponedera  \n",
       "\n",
       "[1123 rows x 5 columns]"
      ]
     },
     "execution_count": 21,
     "metadata": {},
     "output_type": "execute_result"
    }
   ],
   "source": [
    "df_depymun = pd.read_csv(\"Departamentos_y_municipios_de_Colombia.csv\")\n",
    "df_depymun"
   ]
  },
  {
   "cell_type": "code",
   "execution_count": 22,
   "id": "e037539f-b13a-4a9c-86cd-affe24b9ea1a",
   "metadata": {},
   "outputs": [
    {
     "data": {
      "text/plain": [
       "Número de personas secuestradas                                                                                     38522\n",
       "Número de personas desplazadas                                                                                      38522\n",
       "Número de personas víctimas de minas antipersona                                                                    31724\n",
       "Tasa de homicidios (x cada 100.000 habitantes)                                                                      16978\n",
       "Tasa de violencia intrafamiliar (x cada 100.000 habitantes)                                                         16934\n",
       "Tasa de hurtos (x cada 100.000 habitantes)                                                                          14021\n",
       "Tasa de violencias basadas en género                                                                                 5665\n",
       "Tasa de presuntos delitos sexuales hacia mujeres (x cada 100.000 mujeres)                                            2794\n",
       "Presuntos delitos sexuales - Total de casos                                                                          2794\n",
       "Presuntos delitos sexuales - Hombres                                                                                 2794\n",
       "Tasa de presuntos delitos sexuales (x cada 100.000 habitantes)                                                       2794\n",
       "Tasa de presuntos delitos sexuales hacia hombres (x cada 100.000 hombres)                                            2794\n",
       "Presuntos delitos sexuales - Mujeres                                                                                 2751\n",
       "Violencia de pareja -  Total de casos                                                                                2542\n",
       "Violencia de pareja - Víctima hombre                                                                                 2542\n",
       "Tasa de violencia de pareja (x cada 100.000 habitantes)                                                              2542\n",
       "Tasa de violencia de pareja hacia hombres (x cada 100.000 hombres)                                                   2542\n",
       "Tasa de violencia de pareja hacia mujeres (x cada 100.000 mujeres)                                                   2542\n",
       "Homicidio de mujeres por:  Delincuencia común                                                                        2279\n",
       "Tasa de homicidios de mujeres (x cada 100.000 mujeres)                                                               2279\n",
       "Tasa de homicidios de hombres (x cada 100.000 hombres)                                                               2279\n",
       "Homicidio de mujeres por:  Delincuencia organizada                                                                   2279\n",
       "Homicidio de mujeres:  Total                                                                                         2279\n",
       "Homicidio de mujeres por:  Sin información                                                                           2279\n",
       "Homicidio de mujeres por:  Pareja o ex pareja                                                                        2279\n",
       "Homicidio de mujeres por:  Grupos alzados al margen de la ley                                                        2279\n",
       "Homicidio de mujeres por:  Familiar                                                                                  2279\n",
       "Homicidio de mujeres por:  Fuerzas armadas y de policía                                                              2279\n",
       "Homicidio de mujeres por:  Conocido                                                                                  2279\n",
       "Homicidio de hombres por:  Pareja o ex pareja                                                                        2279\n",
       "Homicidio de hombres por:  Agresor desconocido                                                                       2279\n",
       "Homicidio de hombres por:  Amigo                                                                                     2279\n",
       "Homicidio de mujeres por:  Amigo                                                                                     2279\n",
       "Homicidio de hombres por:  Delincuencia común                                                                        2279\n",
       "Homicidio de hombres por:  Familiar                                                                                  2279\n",
       "Homicidio de hombres por:  Fuerzas armadas y de policía                                                              2279\n",
       "Homicidio de hombres por:  Grupos alzados al margen de la ley                                                        2279\n",
       "Homicidio de hombres por:  Conocido                                                                                  2279\n",
       "Homicidio de hombres por:  Seguridad privada                                                                         2279\n",
       "Homicidio de hombres por:  Sin información                                                                           2279\n",
       "Homicidio de hombres:  Total                                                                                         2279\n",
       "Homicidio de hombres por:  Delincuencia organizada                                                                   2279\n",
       "Homicidio de mujeres por:  Agresor desconocido                                                                       2279\n",
       "Violencia de pareja - Víctima mujer                                                                                  1667\n",
       "Homicidio de hombres por:  Otros                                                                                     1506\n",
       "Homicidio de mujeres por:  Otros                                                                                     1506\n",
       "Número acumulado de personas desplazadas expulsadas                                                                  1133\n",
       "Número acumulado de personas desplazadas recibidas                                                                   1133\n",
       "Número acumulado de personas víctimas de minas antipersona                                                           1133\n",
       "Número acumulado de personas secuestradas                                                                            1133\n",
       "Homicidio de hombres por:  Personal de custodia en centros de internamiento especializado de menores infractores      763\n",
       "Percepción de la seguridad - Algo inseguro                                                                             21\n",
       "Percepción de la seguridad - Algo seguro                                                                               21\n",
       "Percepción de la seguridad - Muy seguro                                                                                21\n",
       "Percepción de la seguridad - Nada seguro                                                                               21\n",
       "Percepción de la seguridad - Ni seguro ni inseguro                                                                     21\n",
       "Percepción de la seguridad - Poco seguro                                                                               21\n",
       "Percepción de la seguridad - Seguro                                                                                    21\n",
       "Name: Indicador, dtype: int64"
      ]
     },
     "execution_count": 22,
     "metadata": {},
     "output_type": "execute_result"
    }
   ],
   "source": [
    "pd.value_counts(df_conflicto['Indicador'])"
   ]
  },
  {
   "cell_type": "code",
   "execution_count": 23,
   "id": "34c34b70-950f-47ef-be30-d5edeb24638f",
   "metadata": {},
   "outputs": [],
   "source": [
    "municipios = {} \n",
    "\n",
    "for i, row in df_depymun.iterrows():\n",
    "    municipio = row['MUNICIPIO'].lower().replace(\"í\",\"i\").replace(\"á\",\"a\").replace(\"é\",\"e\").replace(\"ó\",\"o\").replace(\"ú\",\"u\")\n",
    "    departamento = row['DEPARTAMENTO'].lower().replace(\"í\",\"i\").replace(\"á\",\"a\").replace(\"é\",\"e\").replace(\"ó\",\"o\").replace(\"ú\",\"u\")\n",
    "    municipios[municipio] = departamento"
   ]
  },
  {
   "cell_type": "code",
   "execution_count": 24,
   "id": "1f8f1c11-b3e6-403c-b7af-a6c4e2c3fd96",
   "metadata": {},
   "outputs": [],
   "source": [
    "columns=['id','municipio', 'departamento', 'año'] #Este va a tener [id, municipio, departamento, columnasMineria, columnasSalud, columnasConflicto]\n",
    "columns_pos = {'id':0,'municipio':1, 'departamento':2, 'año':3}\n",
    "\n",
    "count = 4\n",
    "\n",
    "columns.append('Violencia hacia la mujer')\n",
    "columns_pos['Violencia hacia la mujer'] = count\n",
    "count +=1 \n",
    "\n",
    "dfinal_mineria = pd.DataFrame(columns=columns)"
   ]
  },
  {
   "cell_type": "code",
   "execution_count": 25,
   "id": "a12fc92c-dd17-44b2-92f8-e08eedc10bdf",
   "metadata": {},
   "outputs": [
    {
     "name": "stdout",
     "output_type": "stream",
     "text": [
      "['id', 'municipio', 'departamento', 'año', 'Violencia hacia la mujer']\n"
     ]
    }
   ],
   "source": [
    "valores_mineria = {}\n",
    "\n",
    "for i, row in df_conflicto.iterrows():\n",
    "    municipio = row['Entidad'].split(\"-\")[0].lower().strip()\n",
    "    departamento = row['Departamento'].lower()\n",
    "    if int(row['Año'])>=2014 and int(row['Año'])<=2018:\n",
    "        anio = str(int(row['Año']))\n",
    "        \n",
    "        llave = municipio + \"-\" + departamento+\"-\"+anio\n",
    "        \n",
    "        if llave not in valores_mineria:\n",
    "            new_row = [llave, municipio, departamento,anio]\n",
    "        for i in range(0,len(columns)-2):\n",
    "            new_row.append(0)\n",
    "        valores_mineria[llave] = new_row\n",
    "        if row[\"Indicador\"]== \"Homicidio de mujeres:  Total\" or row[\"Indicador\"]== \"Violencia de pareja - Víctima mujer\":\n",
    "            pos = columns_pos['Violencia hacia la mujer']\n",
    "            valor_viejo = valores_mineria[llave][pos]\n",
    "            valor_a_sumar=row['Dato Numérico']\n",
    "            valores_mineria[llave][pos] = valor_viejo + valor_a_sumar\n",
    "print(columns)\n"
   ]
  },
  {
   "cell_type": "code",
   "execution_count": 26,
   "id": "26d87c0d-3476-426e-9f11-f01245cb013f",
   "metadata": {},
   "outputs": [
    {
     "data": {
      "text/plain": [
       "5645"
      ]
     },
     "execution_count": 26,
     "metadata": {},
     "output_type": "execute_result"
    }
   ],
   "source": [
    "len(valores_mineria)"
   ]
  },
  {
   "cell_type": "code",
   "execution_count": null,
   "id": "216e071f-73fa-43fc-b0f3-21578ad539c1",
   "metadata": {},
   "outputs": [],
   "source": [
    "print(valores_mineria)"
   ]
  }
 ],
 "metadata": {
  "kernelspec": {
   "display_name": "Python 3 (ipykernel)",
   "language": "python",
   "name": "python3"
  },
  "language_info": {
   "codemirror_mode": {
    "name": "ipython",
    "version": 3
   },
   "file_extension": ".py",
   "mimetype": "text/x-python",
   "name": "python",
   "nbconvert_exporter": "python",
   "pygments_lexer": "ipython3",
   "version": "3.9.12"
  }
 },
 "nbformat": 4,
 "nbformat_minor": 5
}
