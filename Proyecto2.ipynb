{
  "nbformat": 4,
  "nbformat_minor": 0,
  "metadata": {
    "colab": {
      "provenance": []
    },
    "kernelspec": {
      "name": "python3",
      "display_name": "Python 3"
    },
    "language_info": {
      "name": "python"
    }
  },
  "cells": [
    {
      "cell_type": "markdown",
      "source": [
        "# Proyecto 2"
      ],
      "metadata": {
        "id": "2DFCV9pJDDdu"
      }
    },
    {
      "cell_type": "markdown",
      "metadata": {
        "id": "3ceace31-8431-4466-ab7e-441889c00964"
      },
      "source": [
        "Integrantes:\n",
        "\n",
        "*Jessica Robles*\n",
        "\n",
        "*Maria Paula Gonzalez*\n",
        "\n",
        "*Juan Esteban Vergara*"
      ]
    },
    {
      "cell_type": "code",
      "source": [
        "seed = 161\n",
        "import pandas as pd\n",
        "import numpy as np\n",
        "import matplotlib.pyplot as plt\n",
        "import seaborn as sns\n",
        "import json\n",
        "\n",
        "# Composicion de pipelines\n",
        "from sklearn.compose import ColumnTransformer\n",
        "from sklearn.pipeline import Pipeline\n",
        "from sklearn.impute import SimpleImputer\n",
        "from sklearn.preprocessing import PolynomialFeatures\n",
        "from sklearn.preprocessing import MinMaxScaler\n",
        "from sklearn.preprocessing import StandardScaler\n",
        "\n",
        "# Regresion lineal\n",
        "from sklearn.linear_model import LinearRegression\n",
        "\n",
        "# Importar/ Exportar modelos\n",
        "from joblib import dump, load\n",
        "\n",
        "# Metricas\n",
        "from sklearn.metrics import mean_squared_error as mse\n",
        "\n",
        "# q-q plots\n",
        "import scipy.stats as stats\n",
        "\n",
        "import json"
      ],
      "metadata": {
        "id": "TQj4yBKcBSlc"
      },
      "execution_count": 2,
      "outputs": []
    },
    {
      "cell_type": "markdown",
      "source": [
        "## Cargar datos"
      ],
      "metadata": {
        "id": "We5ssMlgDW2w"
      }
    },
    {
      "cell_type": "code",
      "source": [
        "df_mineria = pd.read_json(\"datosMineria.json\")\n",
        "df_mineria"
      ],
      "metadata": {
        "colab": {
          "base_uri": "https://localhost:8080/",
          "height": 661
        },
        "id": "M3iJ351pCCdf",
        "outputId": "fb3ee7a7-37cd-40d3-d5c6-035a8b92cfee"
      },
      "execution_count": 6,
      "outputs": [
        {
          "output_type": "execute_result",
          "data": {
            "text/plain": [
              "       codigo_dane municipio_productor departamento        recurso_natural  \\\n",
              "0             5001            Medellin    Antioquia                ARCILLA   \n",
              "1             5001            Medellin    Antioquia     ARCILLAS CERAMICAS   \n",
              "2             5001            Medellin    Antioquia  ARCILLAS FERRUGINOSAS   \n",
              "3             5001            Medellin    Antioquia   ARCILLAS MISCELANEAS   \n",
              "4             5001            Medellin    Antioquia   ARCILLAS MISCELANEAS   \n",
              "...            ...                 ...          ...                    ...   \n",
              "45210        99773            Cumaribo      Vichada               TANTALIO   \n",
              "45211        99773            Cumaribo      Vichada                    ORO   \n",
              "45212        99773            Cumaribo      Vichada                 NIOBIO   \n",
              "45213        99773            Cumaribo      Vichada                 NIOBIO   \n",
              "45214        99773            Cumaribo      Vichada              VOLFRAMIO   \n",
              "\n",
              "      nombre_del_proyecto  a_o_produccion    trimestre unidad_medida  \\\n",
              "0             PRODUCTORES            2018  Trimestre 4     TONELADAS   \n",
              "1             PRODUCTORES            2014  Trimestre 4     TONELADAS   \n",
              "2             PRODUCTORES            2012  Trimestre 1     TONELADAS   \n",
              "3             PRODUCTORES            2019  Trimestre 1     TONELADAS   \n",
              "4             PRODUCTORES            2019  Trimestre 2     TONELADAS   \n",
              "...                   ...             ...          ...           ...   \n",
              "45210         PRODUCTORES            2018  Trimestre 2    KILOGRAMOS   \n",
              "45211         PRODUCTORES            2019  Trimestre 4        GRAMOS   \n",
              "45212         PRODUCTORES            2014  Trimestre 4    KILOGRAMOS   \n",
              "45213         PRODUCTORES            2016  Trimestre 4    KILOGRAMOS   \n",
              "45214         PRODUCTORES            2016  Trimestre 4    KILOGRAMOS   \n",
              "\n",
              "      tipo_contraprestacion  valor_contraprestacion  cantidad_producci_n  \n",
              "0                   REGALIA                614258.0                  0.0  \n",
              "1                   REGALIA               2036781.0              14381.0  \n",
              "2                   REGALIA                836927.0              16308.0  \n",
              "3                   REGALIA               5763839.0              33348.0  \n",
              "4                   REGALIA               5802546.0              32485.0  \n",
              "...                     ...                     ...                  ...  \n",
              "45210               REGALIA                645095.0                 35.0  \n",
              "45211               REGALIA               9251843.0               1752.0  \n",
              "45212               REGALIA              23396026.0               6195.0  \n",
              "45213               REGALIA              12658396.0               1442.0  \n",
              "45214               REGALIA               8351500.0               2840.0  \n",
              "\n",
              "[45215 rows x 11 columns]"
            ],
            "text/html": [
              "\n",
              "  <div id=\"df-e762cc9b-49fd-4e68-bf1c-257bb94c3471\">\n",
              "    <div class=\"colab-df-container\">\n",
              "      <div>\n",
              "<style scoped>\n",
              "    .dataframe tbody tr th:only-of-type {\n",
              "        vertical-align: middle;\n",
              "    }\n",
              "\n",
              "    .dataframe tbody tr th {\n",
              "        vertical-align: top;\n",
              "    }\n",
              "\n",
              "    .dataframe thead th {\n",
              "        text-align: right;\n",
              "    }\n",
              "</style>\n",
              "<table border=\"1\" class=\"dataframe\">\n",
              "  <thead>\n",
              "    <tr style=\"text-align: right;\">\n",
              "      <th></th>\n",
              "      <th>codigo_dane</th>\n",
              "      <th>municipio_productor</th>\n",
              "      <th>departamento</th>\n",
              "      <th>recurso_natural</th>\n",
              "      <th>nombre_del_proyecto</th>\n",
              "      <th>a_o_produccion</th>\n",
              "      <th>trimestre</th>\n",
              "      <th>unidad_medida</th>\n",
              "      <th>tipo_contraprestacion</th>\n",
              "      <th>valor_contraprestacion</th>\n",
              "      <th>cantidad_producci_n</th>\n",
              "    </tr>\n",
              "  </thead>\n",
              "  <tbody>\n",
              "    <tr>\n",
              "      <th>0</th>\n",
              "      <td>5001</td>\n",
              "      <td>Medellin</td>\n",
              "      <td>Antioquia</td>\n",
              "      <td>ARCILLA</td>\n",
              "      <td>PRODUCTORES</td>\n",
              "      <td>2018</td>\n",
              "      <td>Trimestre 4</td>\n",
              "      <td>TONELADAS</td>\n",
              "      <td>REGALIA</td>\n",
              "      <td>614258.0</td>\n",
              "      <td>0.0</td>\n",
              "    </tr>\n",
              "    <tr>\n",
              "      <th>1</th>\n",
              "      <td>5001</td>\n",
              "      <td>Medellin</td>\n",
              "      <td>Antioquia</td>\n",
              "      <td>ARCILLAS CERAMICAS</td>\n",
              "      <td>PRODUCTORES</td>\n",
              "      <td>2014</td>\n",
              "      <td>Trimestre 4</td>\n",
              "      <td>TONELADAS</td>\n",
              "      <td>REGALIA</td>\n",
              "      <td>2036781.0</td>\n",
              "      <td>14381.0</td>\n",
              "    </tr>\n",
              "    <tr>\n",
              "      <th>2</th>\n",
              "      <td>5001</td>\n",
              "      <td>Medellin</td>\n",
              "      <td>Antioquia</td>\n",
              "      <td>ARCILLAS FERRUGINOSAS</td>\n",
              "      <td>PRODUCTORES</td>\n",
              "      <td>2012</td>\n",
              "      <td>Trimestre 1</td>\n",
              "      <td>TONELADAS</td>\n",
              "      <td>REGALIA</td>\n",
              "      <td>836927.0</td>\n",
              "      <td>16308.0</td>\n",
              "    </tr>\n",
              "    <tr>\n",
              "      <th>3</th>\n",
              "      <td>5001</td>\n",
              "      <td>Medellin</td>\n",
              "      <td>Antioquia</td>\n",
              "      <td>ARCILLAS MISCELANEAS</td>\n",
              "      <td>PRODUCTORES</td>\n",
              "      <td>2019</td>\n",
              "      <td>Trimestre 1</td>\n",
              "      <td>TONELADAS</td>\n",
              "      <td>REGALIA</td>\n",
              "      <td>5763839.0</td>\n",
              "      <td>33348.0</td>\n",
              "    </tr>\n",
              "    <tr>\n",
              "      <th>4</th>\n",
              "      <td>5001</td>\n",
              "      <td>Medellin</td>\n",
              "      <td>Antioquia</td>\n",
              "      <td>ARCILLAS MISCELANEAS</td>\n",
              "      <td>PRODUCTORES</td>\n",
              "      <td>2019</td>\n",
              "      <td>Trimestre 2</td>\n",
              "      <td>TONELADAS</td>\n",
              "      <td>REGALIA</td>\n",
              "      <td>5802546.0</td>\n",
              "      <td>32485.0</td>\n",
              "    </tr>\n",
              "    <tr>\n",
              "      <th>...</th>\n",
              "      <td>...</td>\n",
              "      <td>...</td>\n",
              "      <td>...</td>\n",
              "      <td>...</td>\n",
              "      <td>...</td>\n",
              "      <td>...</td>\n",
              "      <td>...</td>\n",
              "      <td>...</td>\n",
              "      <td>...</td>\n",
              "      <td>...</td>\n",
              "      <td>...</td>\n",
              "    </tr>\n",
              "    <tr>\n",
              "      <th>45210</th>\n",
              "      <td>99773</td>\n",
              "      <td>Cumaribo</td>\n",
              "      <td>Vichada</td>\n",
              "      <td>TANTALIO</td>\n",
              "      <td>PRODUCTORES</td>\n",
              "      <td>2018</td>\n",
              "      <td>Trimestre 2</td>\n",
              "      <td>KILOGRAMOS</td>\n",
              "      <td>REGALIA</td>\n",
              "      <td>645095.0</td>\n",
              "      <td>35.0</td>\n",
              "    </tr>\n",
              "    <tr>\n",
              "      <th>45211</th>\n",
              "      <td>99773</td>\n",
              "      <td>Cumaribo</td>\n",
              "      <td>Vichada</td>\n",
              "      <td>ORO</td>\n",
              "      <td>PRODUCTORES</td>\n",
              "      <td>2019</td>\n",
              "      <td>Trimestre 4</td>\n",
              "      <td>GRAMOS</td>\n",
              "      <td>REGALIA</td>\n",
              "      <td>9251843.0</td>\n",
              "      <td>1752.0</td>\n",
              "    </tr>\n",
              "    <tr>\n",
              "      <th>45212</th>\n",
              "      <td>99773</td>\n",
              "      <td>Cumaribo</td>\n",
              "      <td>Vichada</td>\n",
              "      <td>NIOBIO</td>\n",
              "      <td>PRODUCTORES</td>\n",
              "      <td>2014</td>\n",
              "      <td>Trimestre 4</td>\n",
              "      <td>KILOGRAMOS</td>\n",
              "      <td>REGALIA</td>\n",
              "      <td>23396026.0</td>\n",
              "      <td>6195.0</td>\n",
              "    </tr>\n",
              "    <tr>\n",
              "      <th>45213</th>\n",
              "      <td>99773</td>\n",
              "      <td>Cumaribo</td>\n",
              "      <td>Vichada</td>\n",
              "      <td>NIOBIO</td>\n",
              "      <td>PRODUCTORES</td>\n",
              "      <td>2016</td>\n",
              "      <td>Trimestre 4</td>\n",
              "      <td>KILOGRAMOS</td>\n",
              "      <td>REGALIA</td>\n",
              "      <td>12658396.0</td>\n",
              "      <td>1442.0</td>\n",
              "    </tr>\n",
              "    <tr>\n",
              "      <th>45214</th>\n",
              "      <td>99773</td>\n",
              "      <td>Cumaribo</td>\n",
              "      <td>Vichada</td>\n",
              "      <td>VOLFRAMIO</td>\n",
              "      <td>PRODUCTORES</td>\n",
              "      <td>2016</td>\n",
              "      <td>Trimestre 4</td>\n",
              "      <td>KILOGRAMOS</td>\n",
              "      <td>REGALIA</td>\n",
              "      <td>8351500.0</td>\n",
              "      <td>2840.0</td>\n",
              "    </tr>\n",
              "  </tbody>\n",
              "</table>\n",
              "<p>45215 rows × 11 columns</p>\n",
              "</div>\n",
              "      <button class=\"colab-df-convert\" onclick=\"convertToInteractive('df-e762cc9b-49fd-4e68-bf1c-257bb94c3471')\"\n",
              "              title=\"Convert this dataframe to an interactive table.\"\n",
              "              style=\"display:none;\">\n",
              "        \n",
              "  <svg xmlns=\"http://www.w3.org/2000/svg\" height=\"24px\"viewBox=\"0 0 24 24\"\n",
              "       width=\"24px\">\n",
              "    <path d=\"M0 0h24v24H0V0z\" fill=\"none\"/>\n",
              "    <path d=\"M18.56 5.44l.94 2.06.94-2.06 2.06-.94-2.06-.94-.94-2.06-.94 2.06-2.06.94zm-11 1L8.5 8.5l.94-2.06 2.06-.94-2.06-.94L8.5 2.5l-.94 2.06-2.06.94zm10 10l.94 2.06.94-2.06 2.06-.94-2.06-.94-.94-2.06-.94 2.06-2.06.94z\"/><path d=\"M17.41 7.96l-1.37-1.37c-.4-.4-.92-.59-1.43-.59-.52 0-1.04.2-1.43.59L10.3 9.45l-7.72 7.72c-.78.78-.78 2.05 0 2.83L4 21.41c.39.39.9.59 1.41.59.51 0 1.02-.2 1.41-.59l7.78-7.78 2.81-2.81c.8-.78.8-2.07 0-2.86zM5.41 20L4 18.59l7.72-7.72 1.47 1.35L5.41 20z\"/>\n",
              "  </svg>\n",
              "      </button>\n",
              "      \n",
              "  <style>\n",
              "    .colab-df-container {\n",
              "      display:flex;\n",
              "      flex-wrap:wrap;\n",
              "      gap: 12px;\n",
              "    }\n",
              "\n",
              "    .colab-df-convert {\n",
              "      background-color: #E8F0FE;\n",
              "      border: none;\n",
              "      border-radius: 50%;\n",
              "      cursor: pointer;\n",
              "      display: none;\n",
              "      fill: #1967D2;\n",
              "      height: 32px;\n",
              "      padding: 0 0 0 0;\n",
              "      width: 32px;\n",
              "    }\n",
              "\n",
              "    .colab-df-convert:hover {\n",
              "      background-color: #E2EBFA;\n",
              "      box-shadow: 0px 1px 2px rgba(60, 64, 67, 0.3), 0px 1px 3px 1px rgba(60, 64, 67, 0.15);\n",
              "      fill: #174EA6;\n",
              "    }\n",
              "\n",
              "    [theme=dark] .colab-df-convert {\n",
              "      background-color: #3B4455;\n",
              "      fill: #D2E3FC;\n",
              "    }\n",
              "\n",
              "    [theme=dark] .colab-df-convert:hover {\n",
              "      background-color: #434B5C;\n",
              "      box-shadow: 0px 1px 3px 1px rgba(0, 0, 0, 0.15);\n",
              "      filter: drop-shadow(0px 1px 2px rgba(0, 0, 0, 0.3));\n",
              "      fill: #FFFFFF;\n",
              "    }\n",
              "  </style>\n",
              "\n",
              "      <script>\n",
              "        const buttonEl =\n",
              "          document.querySelector('#df-e762cc9b-49fd-4e68-bf1c-257bb94c3471 button.colab-df-convert');\n",
              "        buttonEl.style.display =\n",
              "          google.colab.kernel.accessAllowed ? 'block' : 'none';\n",
              "\n",
              "        async function convertToInteractive(key) {\n",
              "          const element = document.querySelector('#df-e762cc9b-49fd-4e68-bf1c-257bb94c3471');\n",
              "          const dataTable =\n",
              "            await google.colab.kernel.invokeFunction('convertToInteractive',\n",
              "                                                     [key], {});\n",
              "          if (!dataTable) return;\n",
              "\n",
              "          const docLinkHtml = 'Like what you see? Visit the ' +\n",
              "            '<a target=\"_blank\" href=https://colab.research.google.com/notebooks/data_table.ipynb>data table notebook</a>'\n",
              "            + ' to learn more about interactive tables.';\n",
              "          element.innerHTML = '';\n",
              "          dataTable['output_type'] = 'display_data';\n",
              "          await google.colab.output.renderOutput(dataTable, element);\n",
              "          const docLink = document.createElement('div');\n",
              "          docLink.innerHTML = docLinkHtml;\n",
              "          element.appendChild(docLink);\n",
              "        }\n",
              "      </script>\n",
              "    </div>\n",
              "  </div>\n",
              "  "
            ]
          },
          "metadata": {},
          "execution_count": 6
        }
      ]
    },
    {
      "cell_type": "code",
      "source": [
        "df_conflicto = pd.read_excel(\"Conflicto Armado.xlsx\")\n",
        "df_conflicto"
      ],
      "metadata": {
        "id": "dRA4DEIIOcMd"
      },
      "execution_count": null,
      "outputs": []
    },
    {
      "cell_type": "code",
      "source": [
        "df_poblacion = pd.read_excel(\"Demografía Y Poblacion.xlsx\")\n",
        "df_poblacion"
      ],
      "metadata": {
        "id": "tm10M518Pl8Z"
      },
      "execution_count": null,
      "outputs": []
    },
    {
      "cell_type": "code",
      "source": [
        "df_educacion = pd.read_excel(\"Educacion.xlsx\")\n",
        "df_educacion"
      ],
      "metadata": {
        "id": "Ha_al2e6QBvL"
      },
      "execution_count": null,
      "outputs": []
    },
    {
      "cell_type": "code",
      "source": [
        "df_desempleod = pd.read_excel(\"Medicion de Desempleo Departamental.xlsx\")\n",
        "df_desempleod"
      ],
      "metadata": {
        "id": "7pDLtZQlQBvL"
      },
      "execution_count": null,
      "outputs": []
    },
    {
      "cell_type": "code",
      "source": [
        "df_desempleom = pd.read_excel(\"Medicion de desempleo municipal.xlsx\")\n",
        "df_desempleom"
      ],
      "metadata": {
        "id": "nnbUhYupQgop"
      },
      "execution_count": null,
      "outputs": []
    },
    {
      "cell_type": "code",
      "source": [
        "df_salud = pd.read_excel(\"Salud.xlsx\")\n",
        "df_salud"
      ],
      "metadata": {
        "id": "1ZLlM3yiQgoq"
      },
      "execution_count": null,
      "outputs": []
    },
    {
      "cell_type": "code",
      "source": [
        "df_vys = pd.read_excel(\"Vivienda y Servicios Publicos.xlsx\")\n",
        "df_vys"
      ],
      "metadata": {
        "id": "zxFpsFOmQgoq"
      },
      "execution_count": null,
      "outputs": []
    },
    {
      "cell_type": "markdown",
      "source": [
        "## Visualizar datos"
      ],
      "metadata": {
        "id": "hb1Nag-ADbwg"
      }
    },
    {
      "cell_type": "markdown",
      "source": [
        "## Correlacion de las columnas"
      ],
      "metadata": {
        "id": "gqRej7ohDgOG"
      }
    }
  ]
}